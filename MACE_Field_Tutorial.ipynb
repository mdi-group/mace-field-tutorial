{
  "nbformat": 4,
  "nbformat_minor": 0,
  "metadata": {
    "colab": {
      "provenance": [],
      "authorship_tag": "ABX9TyPyPQ35rWrLKMsWGCn6I3Zl",
      "include_colab_link": true
    },
    "kernelspec": {
      "name": "python3",
      "display_name": "Python 3"
    },
    "language_info": {
      "name": "python"
    }
  },
  "cells": [
    {
      "cell_type": "markdown",
      "metadata": {
        "id": "view-in-github",
        "colab_type": "text"
      },
      "source": [
        "<a href=\"https://colab.research.google.com/github/mdi-group/mace-field-tutorial/blob/main/MACE_Field_Tutorial.ipynb\" target=\"_parent\"><img src=\"https://colab.research.google.com/assets/colab-badge.svg\" alt=\"Open In Colab\"/></a>"
      ]
    },
    {
      "cell_type": "markdown",
      "source": [
        "# MACE Field Architecture\n",
        "\n",
        "\n"
      ],
      "metadata": {
        "id": "9kY30kCYsWOE"
      }
    },
    {
      "cell_type": "markdown",
      "source": [
        "In this tutorial, we dive into the alterations we have made to the MACE model to incorporate an external perturbing electric field into the MACE architecture, and how to use it to derive derivative properties such as the macroscopic polarisation, Born Effective Charges (BECS) and polarisability."
      ],
      "metadata": {
        "id": "QTndatuysl3C"
      }
    },
    {
      "cell_type": "markdown",
      "source": [
        "To learn how the base MACE code works, we highly recommend you look at the [MACE theory tutorial](https://colab.research.google.com/drive/1AlfjQETV_jZ0JQnV5M3FGwAM2SGCl2aU) developed by Will Baldwin and Ilyes Batatia."
      ],
      "metadata": {
        "id": "juQVIyxUs_d0"
      }
    },
    {
      "cell_type": "code",
      "source": [
        "!git clone https://github.com/mdi-group/mace-field-tutorial.git\n",
        "!pip install git+https://github.com/mdi-group/mace-field.git@field"
      ],
      "metadata": {
        "id": "tzwwemRNslCz"
      },
      "execution_count": null,
      "outputs": []
    },
    {
      "cell_type": "code",
      "source": [
        "import torch\n",
        "import numpy as np\n",
        "from e3nn import o3\n",
        "from matplotlib import pyplot as plt\n",
        "import ase.io\n",
        "import ase.data\n",
        "from mace import data, modules, tools\n",
        "from mace.tools import torch_geometric\n",
        "torch.set_default_dtype(torch.float64)\n",
        "import warnings\n",
        "warnings.filterwarnings(\"ignore\")\n",
        "torch.manual_seed(3)"
      ],
      "metadata": {
        "id": "05ZUYWXHxK1d"
      },
      "execution_count": null,
      "outputs": []
    },
    {
      "cell_type": "code",
      "source": [
        "from typing import Any, Dict, Optional\n",
        "from mace.tools.scatter import scatter_sum\n",
        "from mace.modules.blocks import (\n",
        "    LinearReadoutBlock,\n",
        "    ScaleShiftBlock,\n",
        ")\n",
        "from mace.modules.utils import (\n",
        "    get_edge_vectors_and_lengths,\n",
        "    get_symmetric_displacement,\n",
        ")\n",
        "from mace.modules.models import (\n",
        "    MACE\n",
        ")"
      ],
      "metadata": {
        "id": "WCm8DnDny9ju"
      },
      "execution_count": null,
      "outputs": []
    },
    {
      "cell_type": "code",
      "source": [
        "train_atoms = ase.io.read('data/ferroelectric_train_2040.xyz', ':')[0:1]\n",
        "valid_atoms = ase.io.read('data/ferroelectric_valid.xyz', ':')[0:1]\n",
        "train_configs = [data.config_from_atoms(atoms) for atoms in train_atoms]\n",
        "valid_configs = [data.config_from_atoms(atoms) for atoms in valid_atoms]\n",
        "atomic_numbers = []\n",
        "for config in train_configs + valid_configs:\n",
        "    atomic_numbers.extend(config.atomic_numbers)\n",
        "atomic_numbers = list(set(atomic_numbers))\n",
        "z_table = tools.AtomicNumberTable(atomic_numbers)\n",
        "print(train_atoms)\n",
        "print(valid_atoms)\n",
        "print(z_table.zs)"
      ],
      "metadata": {
        "id": "qcxJwEDRzOEs"
      },
      "execution_count": null,
      "outputs": []
    },
    {
      "cell_type": "markdown",
      "source": [
        "\\begin{equation}\n",
        "    E_\\alpha = E_\\alpha^{(0)} + E_\\alpha^{(1)} + \\dots + E_\\alpha^{(T)}\n",
        "\\end{equation}"
      ],
      "metadata": {
        "id": "SdaWXOY0xqsD"
      }
    },
    {
      "cell_type": "markdown",
      "source": [
        "\\begin{equation}\n",
        "  E_\\alpha(t) = \\mathcal{R}_t\\left(\\mathbf{h}_i^{(t)}\\right) =\n",
        "    \\begin{cases}\n",
        "    \\begin{aligned}\n",
        "        &\\sum_{\\tilde{k}} W_{\\text{readout}, \\tilde{k}}^{(t)} \\left[ h_{\\alpha,\\tilde{k} 0 0}^{e, (t)} - \\mathbf{p}_{\\alpha, \\tilde{k}}^{(t)} \\cdot \\mathbf{\\mathcal{E}} \\right] \\qquad\\ \\text{if}\\ t<T, \\\\\n",
        "        &\\text{MLP}_{\\text{readout}}^{(t)}\\left( \\left\\{ h_{\\alpha,k 0 0}^{e, (t)} - \\mathbf{p}_{\\alpha, k}^{(t)} \\cdot \\mathbf{\\mathcal{E}} \\right\\}_{k} \\right) \\quad \\text{if}\\ t = T.\n",
        "    \\end{aligned}\n",
        "    \\end{cases}\n",
        "\\end{equation}"
      ],
      "metadata": {
        "id": "TxemPmYXx4SM"
      }
    }
  ]
}