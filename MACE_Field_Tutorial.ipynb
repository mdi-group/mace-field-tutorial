{
  "nbformat": 4,
  "nbformat_minor": 0,
  "metadata": {
    "colab": {
      "provenance": [],
      "toc_visible": true,
      "gpuType": "T4",
      "authorship_tag": "ABX9TyNUMyMla169lBaEim+c7f4S",
      "include_colab_link": true
    },
    "kernelspec": {
      "name": "python3",
      "display_name": "Python 3"
    },
    "language_info": {
      "name": "python"
    }
  },
  "cells": [
    {
      "cell_type": "markdown",
      "metadata": {
        "id": "view-in-github",
        "colab_type": "text"
      },
      "source": [
        "<a href=\"https://colab.research.google.com/github/mdi-group/mace-field-tutorial/blob/main/MACE_Field_Tutorial.ipynb\" target=\"_parent\"><img src=\"https://colab.research.google.com/assets/colab-badge.svg\" alt=\"Open In Colab\"/></a>"
      ]
    },
    {
      "cell_type": "markdown",
      "source": [
        "# MACE Field Tutorial\n",
        "\n",
        "\n"
      ],
      "metadata": {
        "id": "9kY30kCYsWOE"
      }
    },
    {
      "cell_type": "markdown",
      "source": [
        "In this tutorial, we dive into the alterations we have made to the MACE model to incorporate an external perturbing electric field into the MACE architecture, and how to use it to derive derivative properties such as the macroscopic polarisation, Born Effective Charges (BECS) and polarisability."
      ],
      "metadata": {
        "id": "QTndatuysl3C"
      }
    },
    {
      "cell_type": "markdown",
      "source": [
        "To learn how the base MACE code works, we highly recommend you look at the [MACE theory tutorial](https://colab.research.google.com/drive/1AlfjQETV_jZ0JQnV5M3FGwAM2SGCl2aU) developed by Will Baldwin and Ilyes Batatia."
      ],
      "metadata": {
        "id": "juQVIyxUs_d0"
      }
    },
    {
      "cell_type": "markdown",
      "source": [
        "## Installs, Includes & Imports"
      ],
      "metadata": {
        "id": "eeYau9878qdf"
      }
    },
    {
      "cell_type": "code",
      "source": [
        "!git clone https://github.com/mdi-group/mace-field-tutorial.git\n",
        "!git clone https://github.com/mdi-group/mace-field.git\n",
        "!pip install torch==2.0.0 torchvision torchaudio\n",
        "!pip install ./mace-field\n",
        "%cd mace-field\n",
        "!git switch field\n",
        "!pip uninstall -y numpy\n",
        "!pip install numpy==1.26.4"
      ],
      "metadata": {
        "id": "tzwwemRNslCz",
        "colab": {
          "base_uri": "https://localhost:8080/"
        },
        "outputId": "e1d52a00-321b-48ef-c737-cdf155ec1a01"
      },
      "execution_count": null,
      "outputs": [
        {
          "output_type": "stream",
          "name": "stdout",
          "text": [
            "Cloning into 'mace-field-tutorial'...\n",
            "remote: Enumerating objects: 29, done.\u001b[K\n",
            "remote: Counting objects: 100% (29/29), done.\u001b[K\n",
            "remote: Compressing objects: 100% (25/25), done.\u001b[K\n",
            "remote: Total 29 (delta 7), reused 8 (delta 1), pack-reused 0 (from 0)\u001b[K\n",
            "Receiving objects: 100% (29/29), 2.25 MiB | 4.11 MiB/s, done.\n",
            "Resolving deltas: 100% (7/7), done.\n",
            "Cloning into 'mace-field'...\n",
            "remote: Enumerating objects: 6183, done.\u001b[K\n",
            "remote: Counting objects: 100% (59/59), done.\u001b[K\n",
            "remote: Compressing objects: 100% (31/31), done.\u001b[K\n",
            "remote: Total 6183 (delta 39), reused 29 (delta 28), pack-reused 6124 (from 3)\u001b[K\n",
            "Receiving objects: 100% (6183/6183), 123.65 MiB | 8.85 MiB/s, done.\n",
            "Resolving deltas: 100% (4636/4636), done.\n",
            "Updating files: 100% (98/98), done.\n",
            "Collecting torch==2.0.0\n",
            "  Downloading torch-2.0.0-cp311-cp311-manylinux1_x86_64.whl.metadata (24 kB)\n",
            "Requirement already satisfied: torchvision in /usr/local/lib/python3.11/dist-packages (0.21.0+cu124)\n",
            "Requirement already satisfied: torchaudio in /usr/local/lib/python3.11/dist-packages (2.6.0+cu124)\n",
            "Requirement already satisfied: filelock in /usr/local/lib/python3.11/dist-packages (from torch==2.0.0) (3.18.0)\n",
            "Requirement already satisfied: typing-extensions in /usr/local/lib/python3.11/dist-packages (from torch==2.0.0) (4.13.1)\n",
            "Requirement already satisfied: sympy in /usr/local/lib/python3.11/dist-packages (from torch==2.0.0) (1.13.1)\n",
            "Requirement already satisfied: networkx in /usr/local/lib/python3.11/dist-packages (from torch==2.0.0) (3.4.2)\n",
            "Requirement already satisfied: jinja2 in /usr/local/lib/python3.11/dist-packages (from torch==2.0.0) (3.1.6)\n",
            "Collecting nvidia-cuda-nvrtc-cu11==11.7.99 (from torch==2.0.0)\n",
            "  Downloading nvidia_cuda_nvrtc_cu11-11.7.99-2-py3-none-manylinux1_x86_64.whl.metadata (1.5 kB)\n",
            "Collecting nvidia-cuda-runtime-cu11==11.7.99 (from torch==2.0.0)\n",
            "  Downloading nvidia_cuda_runtime_cu11-11.7.99-py3-none-manylinux1_x86_64.whl.metadata (1.6 kB)\n",
            "Collecting nvidia-cuda-cupti-cu11==11.7.101 (from torch==2.0.0)\n",
            "  Downloading nvidia_cuda_cupti_cu11-11.7.101-py3-none-manylinux1_x86_64.whl.metadata (1.6 kB)\n",
            "Collecting nvidia-cudnn-cu11==8.5.0.96 (from torch==2.0.0)\n",
            "  Downloading nvidia_cudnn_cu11-8.5.0.96-2-py3-none-manylinux1_x86_64.whl.metadata (1.6 kB)\n",
            "Collecting nvidia-cublas-cu11==11.10.3.66 (from torch==2.0.0)\n",
            "  Downloading nvidia_cublas_cu11-11.10.3.66-py3-none-manylinux1_x86_64.whl.metadata (1.6 kB)\n",
            "Collecting nvidia-cufft-cu11==10.9.0.58 (from torch==2.0.0)\n",
            "  Downloading nvidia_cufft_cu11-10.9.0.58-py3-none-manylinux2014_x86_64.whl.metadata (1.5 kB)\n",
            "Collecting nvidia-curand-cu11==10.2.10.91 (from torch==2.0.0)\n",
            "  Downloading nvidia_curand_cu11-10.2.10.91-py3-none-manylinux1_x86_64.whl.metadata (1.6 kB)\n",
            "Collecting nvidia-cusolver-cu11==11.4.0.1 (from torch==2.0.0)\n",
            "  Downloading nvidia_cusolver_cu11-11.4.0.1-2-py3-none-manylinux1_x86_64.whl.metadata (1.6 kB)\n",
            "Collecting nvidia-cusparse-cu11==11.7.4.91 (from torch==2.0.0)\n",
            "  Downloading nvidia_cusparse_cu11-11.7.4.91-py3-none-manylinux1_x86_64.whl.metadata (1.6 kB)\n",
            "Collecting nvidia-nccl-cu11==2.14.3 (from torch==2.0.0)\n",
            "  Downloading nvidia_nccl_cu11-2.14.3-py3-none-manylinux1_x86_64.whl.metadata (1.8 kB)\n",
            "Collecting nvidia-nvtx-cu11==11.7.91 (from torch==2.0.0)\n",
            "  Downloading nvidia_nvtx_cu11-11.7.91-py3-none-manylinux1_x86_64.whl.metadata (1.7 kB)\n",
            "Collecting triton==2.0.0 (from torch==2.0.0)\n",
            "  Downloading triton-2.0.0-1-cp311-cp311-manylinux2014_x86_64.manylinux_2_17_x86_64.whl.metadata (1.0 kB)\n",
            "Requirement already satisfied: setuptools in /usr/local/lib/python3.11/dist-packages (from nvidia-cublas-cu11==11.10.3.66->torch==2.0.0) (75.2.0)\n",
            "Requirement already satisfied: wheel in /usr/local/lib/python3.11/dist-packages (from nvidia-cublas-cu11==11.10.3.66->torch==2.0.0) (0.45.1)\n",
            "Requirement already satisfied: cmake in /usr/local/lib/python3.11/dist-packages (from triton==2.0.0->torch==2.0.0) (3.31.6)\n",
            "Collecting lit (from triton==2.0.0->torch==2.0.0)\n",
            "  Downloading lit-18.1.8-py3-none-any.whl.metadata (2.5 kB)\n",
            "Requirement already satisfied: numpy in /usr/local/lib/python3.11/dist-packages (from torchvision) (2.0.2)\n",
            "INFO: pip is looking at multiple versions of torchvision to determine which version is compatible with other requirements. This could take a while.\n",
            "Collecting torchvision\n",
            "  Downloading torchvision-0.21.0-cp311-cp311-manylinux1_x86_64.whl.metadata (6.1 kB)\n",
            "  Downloading torchvision-0.20.1-cp311-cp311-manylinux1_x86_64.whl.metadata (6.1 kB)\n",
            "  Downloading torchvision-0.20.0-cp311-cp311-manylinux1_x86_64.whl.metadata (6.1 kB)\n",
            "  Downloading torchvision-0.19.1-cp311-cp311-manylinux1_x86_64.whl.metadata (6.0 kB)\n",
            "  Downloading torchvision-0.19.0-cp311-cp311-manylinux1_x86_64.whl.metadata (6.0 kB)\n",
            "  Downloading torchvision-0.18.1-cp311-cp311-manylinux1_x86_64.whl.metadata (6.6 kB)\n",
            "  Downloading torchvision-0.18.0-cp311-cp311-manylinux1_x86_64.whl.metadata (6.6 kB)\n",
            "INFO: pip is still looking at multiple versions of torchvision to determine which version is compatible with other requirements. This could take a while.\n",
            "  Downloading torchvision-0.17.2-cp311-cp311-manylinux1_x86_64.whl.metadata (6.6 kB)\n",
            "  Downloading torchvision-0.17.1-cp311-cp311-manylinux1_x86_64.whl.metadata (6.6 kB)\n",
            "  Downloading torchvision-0.17.0-cp311-cp311-manylinux1_x86_64.whl.metadata (6.6 kB)\n",
            "Requirement already satisfied: requests in /usr/local/lib/python3.11/dist-packages (from torchvision) (2.32.3)\n",
            "  Downloading torchvision-0.16.2-cp311-cp311-manylinux1_x86_64.whl.metadata (6.6 kB)\n",
            "  Downloading torchvision-0.16.1-cp311-cp311-manylinux1_x86_64.whl.metadata (6.6 kB)\n",
            "INFO: This is taking longer than usual. You might need to provide the dependency resolver with stricter constraints to reduce runtime. See https://pip.pypa.io/warnings/backtracking for guidance. If you want to abort this run, press Ctrl + C.\n",
            "  Downloading torchvision-0.16.0-cp311-cp311-manylinux1_x86_64.whl.metadata (6.6 kB)\n",
            "  Downloading torchvision-0.15.2-cp311-cp311-manylinux1_x86_64.whl.metadata (11 kB)\n",
            "  Downloading torchvision-0.15.1-cp311-cp311-manylinux1_x86_64.whl.metadata (11 kB)\n",
            "Requirement already satisfied: pillow!=8.3.*,>=5.3.0 in /usr/local/lib/python3.11/dist-packages (from torchvision) (11.1.0)\n",
            "INFO: pip is looking at multiple versions of torchaudio to determine which version is compatible with other requirements. This could take a while.\n",
            "Collecting torchaudio\n",
            "  Downloading torchaudio-2.6.0-cp311-cp311-manylinux1_x86_64.whl.metadata (6.6 kB)\n",
            "  Downloading torchaudio-2.5.1-cp311-cp311-manylinux1_x86_64.whl.metadata (6.4 kB)\n",
            "  Downloading torchaudio-2.5.0-cp311-cp311-manylinux1_x86_64.whl.metadata (6.4 kB)\n",
            "  Downloading torchaudio-2.4.1-cp311-cp311-manylinux1_x86_64.whl.metadata (6.4 kB)\n",
            "  Downloading torchaudio-2.4.0-cp311-cp311-manylinux1_x86_64.whl.metadata (6.4 kB)\n",
            "  Downloading torchaudio-2.3.1-cp311-cp311-manylinux1_x86_64.whl.metadata (6.4 kB)\n",
            "  Downloading torchaudio-2.3.0-cp311-cp311-manylinux1_x86_64.whl.metadata (6.4 kB)\n",
            "INFO: pip is still looking at multiple versions of torchaudio to determine which version is compatible with other requirements. This could take a while.\n",
            "  Downloading torchaudio-2.2.2-cp311-cp311-manylinux1_x86_64.whl.metadata (6.4 kB)\n",
            "  Downloading torchaudio-2.2.1-cp311-cp311-manylinux1_x86_64.whl.metadata (6.4 kB)\n",
            "  Downloading torchaudio-2.2.0-cp311-cp311-manylinux1_x86_64.whl.metadata (6.4 kB)\n",
            "  Downloading torchaudio-2.1.2-cp311-cp311-manylinux1_x86_64.whl.metadata (6.4 kB)\n",
            "  Downloading torchaudio-2.1.1-cp311-cp311-manylinux1_x86_64.whl.metadata (6.4 kB)\n",
            "INFO: This is taking longer than usual. You might need to provide the dependency resolver with stricter constraints to reduce runtime. See https://pip.pypa.io/warnings/backtracking for guidance. If you want to abort this run, press Ctrl + C.\n",
            "  Downloading torchaudio-2.1.0-cp311-cp311-manylinux1_x86_64.whl.metadata (5.7 kB)\n",
            "  Downloading torchaudio-2.0.2-cp311-cp311-manylinux1_x86_64.whl.metadata (1.2 kB)\n",
            "  Downloading torchaudio-2.0.1-cp311-cp311-manylinux1_x86_64.whl.metadata (1.2 kB)\n",
            "Requirement already satisfied: MarkupSafe>=2.0 in /usr/local/lib/python3.11/dist-packages (from jinja2->torch==2.0.0) (3.0.2)\n",
            "Requirement already satisfied: charset-normalizer<4,>=2 in /usr/local/lib/python3.11/dist-packages (from requests->torchvision) (3.4.1)\n",
            "Requirement already satisfied: idna<4,>=2.5 in /usr/local/lib/python3.11/dist-packages (from requests->torchvision) (3.10)\n",
            "Requirement already satisfied: urllib3<3,>=1.21.1 in /usr/local/lib/python3.11/dist-packages (from requests->torchvision) (2.3.0)\n",
            "Requirement already satisfied: certifi>=2017.4.17 in /usr/local/lib/python3.11/dist-packages (from requests->torchvision) (2025.1.31)\n",
            "Requirement already satisfied: mpmath<1.4,>=1.1.0 in /usr/local/lib/python3.11/dist-packages (from sympy->torch==2.0.0) (1.3.0)\n",
            "Downloading torch-2.0.0-cp311-cp311-manylinux1_x86_64.whl (619.9 MB)\n",
            "\u001b[2K   \u001b[90m━━━━━━━━━━━━━━━━━━━━━━━━━━━━━━━━━━━━━━━━\u001b[0m \u001b[32m619.9/619.9 MB\u001b[0m \u001b[31m2.9 MB/s\u001b[0m eta \u001b[36m0:00:00\u001b[0m\n",
            "\u001b[?25hDownloading nvidia_cublas_cu11-11.10.3.66-py3-none-manylinux1_x86_64.whl (317.1 MB)\n",
            "\u001b[2K   \u001b[90m━━━━━━━━━━━━━━━━━━━━━━━━━━━━━━━━━━━━━━━━\u001b[0m \u001b[32m317.1/317.1 MB\u001b[0m \u001b[31m3.9 MB/s\u001b[0m eta \u001b[36m0:00:00\u001b[0m\n",
            "\u001b[?25hDownloading nvidia_cuda_cupti_cu11-11.7.101-py3-none-manylinux1_x86_64.whl (11.8 MB)\n",
            "\u001b[2K   \u001b[90m━━━━━━━━━━━━━━━━━━━━━━━━━━━━━━━━━━━━━━━━\u001b[0m \u001b[32m11.8/11.8 MB\u001b[0m \u001b[31m96.7 MB/s\u001b[0m eta \u001b[36m0:00:00\u001b[0m\n",
            "\u001b[?25hDownloading nvidia_cuda_nvrtc_cu11-11.7.99-2-py3-none-manylinux1_x86_64.whl (21.0 MB)\n",
            "\u001b[2K   \u001b[90m━━━━━━━━━━━━━━━━━━━━━━━━━━━━━━━━━━━━━━━━\u001b[0m \u001b[32m21.0/21.0 MB\u001b[0m \u001b[31m72.0 MB/s\u001b[0m eta \u001b[36m0:00:00\u001b[0m\n",
            "\u001b[?25hDownloading nvidia_cuda_runtime_cu11-11.7.99-py3-none-manylinux1_x86_64.whl (849 kB)\n",
            "\u001b[2K   \u001b[90m━━━━━━━━━━━━━━━━━━━━━━━━━━━━━━━━━━━━━━━━\u001b[0m \u001b[32m849.3/849.3 kB\u001b[0m \u001b[31m38.4 MB/s\u001b[0m eta \u001b[36m0:00:00\u001b[0m\n",
            "\u001b[?25hDownloading nvidia_cudnn_cu11-8.5.0.96-2-py3-none-manylinux1_x86_64.whl (557.1 MB)\n",
            "\u001b[2K   \u001b[90m━━━━━━━━━━━━━━━━━━━━━━━━━━━━━━━━━━━━━━━━\u001b[0m \u001b[32m557.1/557.1 MB\u001b[0m \u001b[31m3.3 MB/s\u001b[0m eta \u001b[36m0:00:00\u001b[0m\n",
            "\u001b[?25hDownloading nvidia_cufft_cu11-10.9.0.58-py3-none-manylinux2014_x86_64.whl (168.4 MB)\n",
            "\u001b[2K   \u001b[90m━━━━━━━━━━━━━━━━━━━━━━━━━━━━━━━━━━━━━━━━\u001b[0m \u001b[32m168.4/168.4 MB\u001b[0m \u001b[31m5.7 MB/s\u001b[0m eta \u001b[36m0:00:00\u001b[0m\n",
            "\u001b[?25hDownloading nvidia_curand_cu11-10.2.10.91-py3-none-manylinux1_x86_64.whl (54.6 MB)\n",
            "\u001b[2K   \u001b[90m━━━━━━━━━━━━━━━━━━━━━━━━━━━━━━━━━━━━━━━━\u001b[0m \u001b[32m54.6/54.6 MB\u001b[0m \u001b[31m11.3 MB/s\u001b[0m eta \u001b[36m0:00:00\u001b[0m\n",
            "\u001b[?25hDownloading nvidia_cusolver_cu11-11.4.0.1-2-py3-none-manylinux1_x86_64.whl (102.6 MB)\n",
            "\u001b[2K   \u001b[90m━━━━━━━━━━━━━━━━━━━━━━━━━━━━━━━━━━━━━━━━\u001b[0m \u001b[32m102.6/102.6 MB\u001b[0m \u001b[31m8.0 MB/s\u001b[0m eta \u001b[36m0:00:00\u001b[0m\n",
            "\u001b[?25hDownloading nvidia_cusparse_cu11-11.7.4.91-py3-none-manylinux1_x86_64.whl (173.2 MB)\n",
            "\u001b[2K   \u001b[90m━━━━━━━━━━━━━━━━━━━━━━━━━━━━━━━━━━━━━━━━\u001b[0m \u001b[32m173.2/173.2 MB\u001b[0m \u001b[31m6.3 MB/s\u001b[0m eta \u001b[36m0:00:00\u001b[0m\n",
            "\u001b[?25hDownloading nvidia_nccl_cu11-2.14.3-py3-none-manylinux1_x86_64.whl (177.1 MB)\n",
            "\u001b[2K   \u001b[90m━━━━━━━━━━━━━━━━━━━━━━━━━━━━━━━━━━━━━━━━\u001b[0m \u001b[32m177.1/177.1 MB\u001b[0m \u001b[31m6.4 MB/s\u001b[0m eta \u001b[36m0:00:00\u001b[0m\n",
            "\u001b[?25hDownloading nvidia_nvtx_cu11-11.7.91-py3-none-manylinux1_x86_64.whl (98 kB)\n",
            "\u001b[2K   \u001b[90m━━━━━━━━━━━━━━━━━━━━━━━━━━━━━━━━━━━━━━━━\u001b[0m \u001b[32m98.6/98.6 kB\u001b[0m \u001b[31m6.1 MB/s\u001b[0m eta \u001b[36m0:00:00\u001b[0m\n",
            "\u001b[?25hDownloading triton-2.0.0-1-cp311-cp311-manylinux2014_x86_64.manylinux_2_17_x86_64.whl (63.3 MB)\n",
            "\u001b[2K   \u001b[90m━━━━━━━━━━━━━━━━━━━━━━━━━━━━━━━━━━━━━━━━\u001b[0m \u001b[32m63.3/63.3 MB\u001b[0m \u001b[31m12.4 MB/s\u001b[0m eta \u001b[36m0:00:00\u001b[0m\n",
            "\u001b[?25hDownloading torchvision-0.15.1-cp311-cp311-manylinux1_x86_64.whl (6.0 MB)\n",
            "\u001b[2K   \u001b[90m━━━━━━━━━━━━━━━━━━━━━━━━━━━━━━━━━━━━━━━━\u001b[0m \u001b[32m6.0/6.0 MB\u001b[0m \u001b[31m85.2 MB/s\u001b[0m eta \u001b[36m0:00:00\u001b[0m\n",
            "\u001b[?25hDownloading torchaudio-2.0.1-cp311-cp311-manylinux1_x86_64.whl (4.4 MB)\n",
            "\u001b[2K   \u001b[90m━━━━━━━━━━━━━━━━━━━━━━━━━━━━━━━━━━━━━━━━\u001b[0m \u001b[32m4.4/4.4 MB\u001b[0m \u001b[31m84.3 MB/s\u001b[0m eta \u001b[36m0:00:00\u001b[0m\n",
            "\u001b[?25hDownloading lit-18.1.8-py3-none-any.whl (96 kB)\n",
            "\u001b[2K   \u001b[90m━━━━━━━━━━━━━━━━━━━━━━━━━━━━━━━━━━━━━━━━\u001b[0m \u001b[32m96.4/96.4 kB\u001b[0m \u001b[31m6.5 MB/s\u001b[0m eta \u001b[36m0:00:00\u001b[0m\n",
            "\u001b[?25hInstalling collected packages: lit, nvidia-nvtx-cu11, nvidia-nccl-cu11, nvidia-cusparse-cu11, nvidia-curand-cu11, nvidia-cufft-cu11, nvidia-cuda-runtime-cu11, nvidia-cuda-nvrtc-cu11, nvidia-cuda-cupti-cu11, nvidia-cublas-cu11, nvidia-cusolver-cu11, nvidia-cudnn-cu11, triton, torch, torchvision, torchaudio\n",
            "  Attempting uninstall: triton\n",
            "    Found existing installation: triton 3.2.0\n",
            "    Uninstalling triton-3.2.0:\n",
            "      Successfully uninstalled triton-3.2.0\n",
            "  Attempting uninstall: torch\n",
            "    Found existing installation: torch 2.6.0+cu124\n",
            "    Uninstalling torch-2.6.0+cu124:\n",
            "      Successfully uninstalled torch-2.6.0+cu124\n",
            "  Attempting uninstall: torchvision\n",
            "    Found existing installation: torchvision 0.21.0+cu124\n",
            "    Uninstalling torchvision-0.21.0+cu124:\n",
            "      Successfully uninstalled torchvision-0.21.0+cu124\n",
            "  Attempting uninstall: torchaudio\n",
            "    Found existing installation: torchaudio 2.6.0+cu124\n",
            "    Uninstalling torchaudio-2.6.0+cu124:\n",
            "      Successfully uninstalled torchaudio-2.6.0+cu124\n",
            "Successfully installed lit-18.1.8 nvidia-cublas-cu11-11.10.3.66 nvidia-cuda-cupti-cu11-11.7.101 nvidia-cuda-nvrtc-cu11-11.7.99 nvidia-cuda-runtime-cu11-11.7.99 nvidia-cudnn-cu11-8.5.0.96 nvidia-cufft-cu11-10.9.0.58 nvidia-curand-cu11-10.2.10.91 nvidia-cusolver-cu11-11.4.0.1 nvidia-cusparse-cu11-11.7.4.91 nvidia-nccl-cu11-2.14.3 nvidia-nvtx-cu11-11.7.91 torch-2.0.0 torchaudio-2.0.1 torchvision-0.15.1 triton-2.0.0\n",
            "Processing ./mace-field\n",
            "  Installing build dependencies ... \u001b[?25l\u001b[?25hdone\n",
            "  Getting requirements to build wheel ... \u001b[?25l\u001b[?25hdone\n",
            "  Preparing metadata (pyproject.toml) ... \u001b[?25l\u001b[?25hdone\n",
            "Requirement already satisfied: torch>=1.12 in /usr/local/lib/python3.11/dist-packages (from mace-torch==0.3.10) (2.0.0)\n",
            "Collecting e3nn==0.4.4 (from mace-torch==0.3.10)\n",
            "  Downloading e3nn-0.4.4-py3-none-any.whl.metadata (5.1 kB)\n",
            "Collecting numpy<2.0 (from mace-torch==0.3.10)\n",
            "  Downloading numpy-1.26.4-cp311-cp311-manylinux_2_17_x86_64.manylinux2014_x86_64.whl.metadata (61 kB)\n",
            "\u001b[2K     \u001b[90m━━━━━━━━━━━━━━━━━━━━━━━━━━━━━━━━━━━━━━━━\u001b[0m \u001b[32m61.0/61.0 kB\u001b[0m \u001b[31m2.4 MB/s\u001b[0m eta \u001b[36m0:00:00\u001b[0m\n",
            "\u001b[?25hRequirement already satisfied: opt_einsum in /usr/local/lib/python3.11/dist-packages (from mace-torch==0.3.10) (3.4.0)\n",
            "Collecting ase (from mace-torch==0.3.10)\n",
            "  Downloading ase-3.25.0-py3-none-any.whl.metadata (4.2 kB)\n",
            "Collecting torch-ema (from mace-torch==0.3.10)\n",
            "  Downloading torch_ema-0.3-py3-none-any.whl.metadata (415 bytes)\n",
            "Requirement already satisfied: prettytable in /usr/local/lib/python3.11/dist-packages (from mace-torch==0.3.10) (3.16.0)\n",
            "Collecting matscipy (from mace-torch==0.3.10)\n",
            "  Downloading matscipy-1.1.1-cp311-cp311-manylinux_2_17_x86_64.manylinux2014_x86_64.whl.metadata (37 kB)\n",
            "Requirement already satisfied: h5py in /usr/local/lib/python3.11/dist-packages (from mace-torch==0.3.10) (3.13.0)\n",
            "Collecting torchmetrics (from mace-torch==0.3.10)\n",
            "  Downloading torchmetrics-1.7.1-py3-none-any.whl.metadata (21 kB)\n",
            "Collecting python-hostlist (from mace-torch==0.3.10)\n",
            "  Downloading python-hostlist-2.2.1.tar.gz (37 kB)\n",
            "  Preparing metadata (setup.py) ... \u001b[?25l\u001b[?25hdone\n",
            "Collecting configargparse (from mace-torch==0.3.10)\n",
            "  Downloading ConfigArgParse-1.7-py3-none-any.whl.metadata (23 kB)\n",
            "Requirement already satisfied: GitPython in /usr/local/lib/python3.11/dist-packages (from mace-torch==0.3.10) (3.1.44)\n",
            "Requirement already satisfied: pyYAML in /usr/local/lib/python3.11/dist-packages (from mace-torch==0.3.10) (6.0.2)\n",
            "Requirement already satisfied: tqdm in /usr/local/lib/python3.11/dist-packages (from mace-torch==0.3.10) (4.67.1)\n",
            "Requirement already satisfied: matplotlib in /usr/local/lib/python3.11/dist-packages (from mace-torch==0.3.10) (3.10.0)\n",
            "Requirement already satisfied: pandas in /usr/local/lib/python3.11/dist-packages (from mace-torch==0.3.10) (2.2.2)\n",
            "Requirement already satisfied: sympy in /usr/local/lib/python3.11/dist-packages (from e3nn==0.4.4->mace-torch==0.3.10) (1.13.1)\n",
            "Requirement already satisfied: scipy in /usr/local/lib/python3.11/dist-packages (from e3nn==0.4.4->mace-torch==0.3.10) (1.14.1)\n",
            "Collecting opt-einsum-fx>=0.1.4 (from e3nn==0.4.4->mace-torch==0.3.10)\n",
            "  Downloading opt_einsum_fx-0.1.4-py3-none-any.whl.metadata (3.3 kB)\n",
            "Requirement already satisfied: filelock in /usr/local/lib/python3.11/dist-packages (from torch>=1.12->mace-torch==0.3.10) (3.18.0)\n",
            "Requirement already satisfied: typing-extensions in /usr/local/lib/python3.11/dist-packages (from torch>=1.12->mace-torch==0.3.10) (4.13.1)\n",
            "Requirement already satisfied: networkx in /usr/local/lib/python3.11/dist-packages (from torch>=1.12->mace-torch==0.3.10) (3.4.2)\n",
            "Requirement already satisfied: jinja2 in /usr/local/lib/python3.11/dist-packages (from torch>=1.12->mace-torch==0.3.10) (3.1.6)\n",
            "Requirement already satisfied: nvidia-cuda-nvrtc-cu11==11.7.99 in /usr/local/lib/python3.11/dist-packages (from torch>=1.12->mace-torch==0.3.10) (11.7.99)\n",
            "Requirement already satisfied: nvidia-cuda-runtime-cu11==11.7.99 in /usr/local/lib/python3.11/dist-packages (from torch>=1.12->mace-torch==0.3.10) (11.7.99)\n",
            "Requirement already satisfied: nvidia-cuda-cupti-cu11==11.7.101 in /usr/local/lib/python3.11/dist-packages (from torch>=1.12->mace-torch==0.3.10) (11.7.101)\n",
            "Requirement already satisfied: nvidia-cudnn-cu11==8.5.0.96 in /usr/local/lib/python3.11/dist-packages (from torch>=1.12->mace-torch==0.3.10) (8.5.0.96)\n",
            "Requirement already satisfied: nvidia-cublas-cu11==11.10.3.66 in /usr/local/lib/python3.11/dist-packages (from torch>=1.12->mace-torch==0.3.10) (11.10.3.66)\n",
            "Requirement already satisfied: nvidia-cufft-cu11==10.9.0.58 in /usr/local/lib/python3.11/dist-packages (from torch>=1.12->mace-torch==0.3.10) (10.9.0.58)\n",
            "Requirement already satisfied: nvidia-curand-cu11==10.2.10.91 in /usr/local/lib/python3.11/dist-packages (from torch>=1.12->mace-torch==0.3.10) (10.2.10.91)\n",
            "Requirement already satisfied: nvidia-cusolver-cu11==11.4.0.1 in /usr/local/lib/python3.11/dist-packages (from torch>=1.12->mace-torch==0.3.10) (11.4.0.1)\n",
            "Requirement already satisfied: nvidia-cusparse-cu11==11.7.4.91 in /usr/local/lib/python3.11/dist-packages (from torch>=1.12->mace-torch==0.3.10) (11.7.4.91)\n",
            "Requirement already satisfied: nvidia-nccl-cu11==2.14.3 in /usr/local/lib/python3.11/dist-packages (from torch>=1.12->mace-torch==0.3.10) (2.14.3)\n",
            "Requirement already satisfied: nvidia-nvtx-cu11==11.7.91 in /usr/local/lib/python3.11/dist-packages (from torch>=1.12->mace-torch==0.3.10) (11.7.91)\n",
            "Requirement already satisfied: triton==2.0.0 in /usr/local/lib/python3.11/dist-packages (from torch>=1.12->mace-torch==0.3.10) (2.0.0)\n",
            "Requirement already satisfied: setuptools in /usr/local/lib/python3.11/dist-packages (from nvidia-cublas-cu11==11.10.3.66->torch>=1.12->mace-torch==0.3.10) (75.2.0)\n",
            "Requirement already satisfied: wheel in /usr/local/lib/python3.11/dist-packages (from nvidia-cublas-cu11==11.10.3.66->torch>=1.12->mace-torch==0.3.10) (0.45.1)\n",
            "Requirement already satisfied: cmake in /usr/local/lib/python3.11/dist-packages (from triton==2.0.0->torch>=1.12->mace-torch==0.3.10) (3.31.6)\n",
            "Requirement already satisfied: lit in /usr/local/lib/python3.11/dist-packages (from triton==2.0.0->torch>=1.12->mace-torch==0.3.10) (18.1.8)\n",
            "Requirement already satisfied: contourpy>=1.0.1 in /usr/local/lib/python3.11/dist-packages (from matplotlib->mace-torch==0.3.10) (1.3.1)\n",
            "Requirement already satisfied: cycler>=0.10 in /usr/local/lib/python3.11/dist-packages (from matplotlib->mace-torch==0.3.10) (0.12.1)\n",
            "Requirement already satisfied: fonttools>=4.22.0 in /usr/local/lib/python3.11/dist-packages (from matplotlib->mace-torch==0.3.10) (4.57.0)\n",
            "Requirement already satisfied: kiwisolver>=1.3.1 in /usr/local/lib/python3.11/dist-packages (from matplotlib->mace-torch==0.3.10) (1.4.8)\n",
            "Requirement already satisfied: packaging>=20.0 in /usr/local/lib/python3.11/dist-packages (from matplotlib->mace-torch==0.3.10) (24.2)\n",
            "Requirement already satisfied: pillow>=8 in /usr/local/lib/python3.11/dist-packages (from matplotlib->mace-torch==0.3.10) (11.1.0)\n",
            "Requirement already satisfied: pyparsing>=2.3.1 in /usr/local/lib/python3.11/dist-packages (from matplotlib->mace-torch==0.3.10) (3.2.3)\n",
            "Requirement already satisfied: python-dateutil>=2.7 in /usr/local/lib/python3.11/dist-packages (from matplotlib->mace-torch==0.3.10) (2.8.2)\n",
            "Requirement already satisfied: gitdb<5,>=4.0.1 in /usr/local/lib/python3.11/dist-packages (from GitPython->mace-torch==0.3.10) (4.0.12)\n",
            "Requirement already satisfied: pytz>=2020.1 in /usr/local/lib/python3.11/dist-packages (from pandas->mace-torch==0.3.10) (2025.2)\n",
            "Requirement already satisfied: tzdata>=2022.7 in /usr/local/lib/python3.11/dist-packages (from pandas->mace-torch==0.3.10) (2025.2)\n",
            "Requirement already satisfied: wcwidth in /usr/local/lib/python3.11/dist-packages (from prettytable->mace-torch==0.3.10) (0.2.13)\n",
            "Collecting lightning-utilities>=0.8.0 (from torchmetrics->mace-torch==0.3.10)\n",
            "  Downloading lightning_utilities-0.14.3-py3-none-any.whl.metadata (5.6 kB)\n",
            "Requirement already satisfied: smmap<6,>=3.0.1 in /usr/local/lib/python3.11/dist-packages (from gitdb<5,>=4.0.1->GitPython->mace-torch==0.3.10) (5.0.2)\n",
            "Requirement already satisfied: six>=1.5 in /usr/local/lib/python3.11/dist-packages (from python-dateutil>=2.7->matplotlib->mace-torch==0.3.10) (1.17.0)\n",
            "Requirement already satisfied: MarkupSafe>=2.0 in /usr/local/lib/python3.11/dist-packages (from jinja2->torch>=1.12->mace-torch==0.3.10) (3.0.2)\n",
            "Requirement already satisfied: mpmath<1.4,>=1.1.0 in /usr/local/lib/python3.11/dist-packages (from sympy->e3nn==0.4.4->mace-torch==0.3.10) (1.3.0)\n",
            "Downloading e3nn-0.4.4-py3-none-any.whl (387 kB)\n",
            "\u001b[2K   \u001b[90m━━━━━━━━━━━━━━━━━━━━━━━━━━━━━━━━━━━━━━━━\u001b[0m \u001b[32m387.7/387.7 kB\u001b[0m \u001b[31m10.0 MB/s\u001b[0m eta \u001b[36m0:00:00\u001b[0m\n",
            "\u001b[?25hDownloading numpy-1.26.4-cp311-cp311-manylinux_2_17_x86_64.manylinux2014_x86_64.whl (18.3 MB)\n",
            "\u001b[2K   \u001b[90m━━━━━━━━━━━━━━━━━━━━━━━━━━━━━━━━━━━━━━━━\u001b[0m \u001b[32m18.3/18.3 MB\u001b[0m \u001b[31m82.4 MB/s\u001b[0m eta \u001b[36m0:00:00\u001b[0m\n",
            "\u001b[?25hDownloading ase-3.25.0-py3-none-any.whl (3.0 MB)\n",
            "\u001b[2K   \u001b[90m━━━━━━━━━━━━━━━━━━━━━━━━━━━━━━━━━━━━━━━━\u001b[0m \u001b[32m3.0/3.0 MB\u001b[0m \u001b[31m77.0 MB/s\u001b[0m eta \u001b[36m0:00:00\u001b[0m\n",
            "\u001b[?25hDownloading ConfigArgParse-1.7-py3-none-any.whl (25 kB)\n",
            "Downloading matscipy-1.1.1-cp311-cp311-manylinux_2_17_x86_64.manylinux2014_x86_64.whl (448 kB)\n",
            "\u001b[2K   \u001b[90m━━━━━━━━━━━━━━━━━━━━━━━━━━━━━━━━━━━━━━━━\u001b[0m \u001b[32m448.8/448.8 kB\u001b[0m \u001b[31m26.9 MB/s\u001b[0m eta \u001b[36m0:00:00\u001b[0m\n",
            "\u001b[?25hDownloading torch_ema-0.3-py3-none-any.whl (5.5 kB)\n",
            "Downloading torchmetrics-1.7.1-py3-none-any.whl (961 kB)\n",
            "\u001b[2K   \u001b[90m━━━━━━━━━━━━━━━━━━━━━━━━━━━━━━━━━━━━━━━━\u001b[0m \u001b[32m961.5/961.5 kB\u001b[0m \u001b[31m47.6 MB/s\u001b[0m eta \u001b[36m0:00:00\u001b[0m\n",
            "\u001b[?25hDownloading lightning_utilities-0.14.3-py3-none-any.whl (28 kB)\n",
            "Downloading opt_einsum_fx-0.1.4-py3-none-any.whl (13 kB)\n",
            "Building wheels for collected packages: mace-torch, python-hostlist\n",
            "  Building wheel for mace-torch (pyproject.toml) ... \u001b[?25l\u001b[?25hdone\n",
            "  Created wheel for mace-torch: filename=mace_torch-0.3.10-py3-none-any.whl size=154510 sha256=4eb4e274086bb311dc6be9ff92c5a87d196994cb99b78505b971e72dd770f329\n",
            "  Stored in directory: /root/.cache/pip/wheels/fb/ff/27/a97f2258bc135695f8532fac0144fe221b7de21b4eeb0d7380\n",
            "  Building wheel for python-hostlist (setup.py) ... \u001b[?25l\u001b[?25hdone\n",
            "  Created wheel for python-hostlist: filename=python_hostlist-2.2.1-py3-none-any.whl size=39603 sha256=9417584218a53111205b17c99667f94ab8f21248e72054bc9a5097e27c5b9738\n",
            "  Stored in directory: /root/.cache/pip/wheels/df/d3/7c/23728e2c3ff6d2fcc1c8b8bb7a101fa205b2f7cd37431a938b\n",
            "Successfully built mace-torch python-hostlist\n",
            "Installing collected packages: python-hostlist, numpy, lightning-utilities, configargparse, ase, matscipy, opt-einsum-fx, torchmetrics, torch-ema, e3nn, mace-torch\n",
            "  Attempting uninstall: numpy\n",
            "    Found existing installation: numpy 2.0.2\n",
            "    Uninstalling numpy-2.0.2:\n",
            "      Successfully uninstalled numpy-2.0.2\n",
            "\u001b[31mERROR: pip's dependency resolver does not currently take into account all the packages that are installed. This behaviour is the source of the following dependency conflicts.\n",
            "thinc 8.3.6 requires numpy<3.0.0,>=2.0.0, but you have numpy 1.26.4 which is incompatible.\u001b[0m\u001b[31m\n",
            "\u001b[0mSuccessfully installed ase-3.25.0 configargparse-1.7 e3nn-0.4.4 lightning-utilities-0.14.3 mace-torch-0.3.10 matscipy-1.1.1 numpy-1.26.4 opt-einsum-fx-0.1.4 python-hostlist-2.2.1 torch-ema-0.3 torchmetrics-1.7.1\n",
            "/content/mace-field\n",
            "Branch 'field' set up to track remote branch 'field' from 'origin'.\n",
            "Switched to a new branch 'field'\n",
            "Found existing installation: numpy 1.26.4\n",
            "Uninstalling numpy-1.26.4:\n",
            "  Successfully uninstalled numpy-1.26.4\n",
            "Collecting numpy==1.26.4\n",
            "  Using cached numpy-1.26.4-cp311-cp311-manylinux_2_17_x86_64.manylinux2014_x86_64.whl.metadata (61 kB)\n",
            "Using cached numpy-1.26.4-cp311-cp311-manylinux_2_17_x86_64.manylinux2014_x86_64.whl (18.3 MB)\n",
            "Installing collected packages: numpy\n",
            "\u001b[31mERROR: pip's dependency resolver does not currently take into account all the packages that are installed. This behaviour is the source of the following dependency conflicts.\n",
            "thinc 8.3.6 requires numpy<3.0.0,>=2.0.0, but you have numpy 1.26.4 which is incompatible.\u001b[0m\u001b[31m\n",
            "\u001b[0mSuccessfully installed numpy-1.26.4\n"
          ]
        }
      ]
    },
    {
      "cell_type": "code",
      "source": [
        "import numpy as np\n",
        "import torch\n",
        "import torch.nn.functional\n",
        "from e3nn import o3\n",
        "from matplotlib import pyplot as plt\n",
        "import ase.io\n",
        "\n",
        "from mace import data, modules, tools\n",
        "from mace.tools import torch_geometric\n",
        "torch.set_default_dtype(torch.float64)\n",
        "\n",
        "import warnings\n",
        "warnings.filterwarnings(\"ignore\")"
      ],
      "metadata": {
        "id": "05ZUYWXHxK1d",
        "colab": {
          "base_uri": "https://localhost:8080/",
          "height": 529
        },
        "outputId": "b0e02746-8c36-4865-efc2-eb64eaddac83"
      },
      "execution_count": null,
      "outputs": [
        {
          "output_type": "error",
          "ename": "ModuleNotFoundError",
          "evalue": "No module named 'numpy.char'",
          "traceback": [
            "\u001b[0;31m---------------------------------------------------------------------------\u001b[0m",
            "\u001b[0;31mModuleNotFoundError\u001b[0m                       Traceback (most recent call last)",
            "\u001b[0;32m<ipython-input-2-3bf35a4d4733>\u001b[0m in \u001b[0;36m<cell line: 0>\u001b[0;34m()\u001b[0m\n\u001b[1;32m      4\u001b[0m \u001b[0;32mfrom\u001b[0m \u001b[0me3nn\u001b[0m \u001b[0;32mimport\u001b[0m \u001b[0mo3\u001b[0m\u001b[0;34m\u001b[0m\u001b[0;34m\u001b[0m\u001b[0m\n\u001b[1;32m      5\u001b[0m \u001b[0;32mfrom\u001b[0m \u001b[0mmatplotlib\u001b[0m \u001b[0;32mimport\u001b[0m \u001b[0mpyplot\u001b[0m \u001b[0;32mas\u001b[0m \u001b[0mplt\u001b[0m\u001b[0;34m\u001b[0m\u001b[0;34m\u001b[0m\u001b[0m\n\u001b[0;32m----> 6\u001b[0;31m \u001b[0;32mimport\u001b[0m \u001b[0mase\u001b[0m\u001b[0;34m.\u001b[0m\u001b[0mio\u001b[0m\u001b[0;34m\u001b[0m\u001b[0;34m\u001b[0m\u001b[0m\n\u001b[0m\u001b[1;32m      7\u001b[0m \u001b[0;34m\u001b[0m\u001b[0m\n\u001b[1;32m      8\u001b[0m \u001b[0;32mfrom\u001b[0m \u001b[0mmace\u001b[0m \u001b[0;32mimport\u001b[0m \u001b[0mdata\u001b[0m\u001b[0;34m,\u001b[0m \u001b[0mmodules\u001b[0m\u001b[0;34m,\u001b[0m \u001b[0mtools\u001b[0m\u001b[0;34m\u001b[0m\u001b[0;34m\u001b[0m\u001b[0m\n",
            "\u001b[0;32m/usr/local/lib/python3.11/dist-packages/ase/io/__init__.py\u001b[0m in \u001b[0;36m<module>\u001b[0;34m\u001b[0m\n\u001b[1;32m      4\u001b[0m \u001b[0;32mfrom\u001b[0m \u001b[0mase\u001b[0m\u001b[0;34m.\u001b[0m\u001b[0mio\u001b[0m\u001b[0;34m.\u001b[0m\u001b[0mformats\u001b[0m \u001b[0;32mimport\u001b[0m \u001b[0miread\u001b[0m\u001b[0;34m,\u001b[0m \u001b[0mread\u001b[0m\u001b[0;34m,\u001b[0m \u001b[0mstring2index\u001b[0m\u001b[0;34m,\u001b[0m \u001b[0mwrite\u001b[0m\u001b[0;34m\u001b[0m\u001b[0;34m\u001b[0m\u001b[0m\n\u001b[1;32m      5\u001b[0m \u001b[0;32mfrom\u001b[0m \u001b[0mase\u001b[0m\u001b[0;34m.\u001b[0m\u001b[0mio\u001b[0m\u001b[0;34m.\u001b[0m\u001b[0mnetcdftrajectory\u001b[0m \u001b[0;32mimport\u001b[0m \u001b[0mNetCDFTrajectory\u001b[0m\u001b[0;34m\u001b[0m\u001b[0;34m\u001b[0m\u001b[0m\n\u001b[0;32m----> 6\u001b[0;31m \u001b[0;32mfrom\u001b[0m \u001b[0mase\u001b[0m\u001b[0;34m.\u001b[0m\u001b[0mio\u001b[0m\u001b[0;34m.\u001b[0m\u001b[0mtrajectory\u001b[0m \u001b[0;32mimport\u001b[0m \u001b[0mPickleTrajectory\u001b[0m\u001b[0;34m,\u001b[0m \u001b[0mTrajectory\u001b[0m\u001b[0;34m\u001b[0m\u001b[0;34m\u001b[0m\u001b[0m\n\u001b[0m\u001b[1;32m      7\u001b[0m \u001b[0;34m\u001b[0m\u001b[0m\n\u001b[1;32m      8\u001b[0m \u001b[0;34m\u001b[0m\u001b[0m\n",
            "\u001b[0;32m/usr/local/lib/python3.11/dist-packages/ase/io/trajectory.py\u001b[0m in \u001b[0;36m<module>\u001b[0;34m\u001b[0m\n\u001b[1;32m     15\u001b[0m \u001b[0;32mfrom\u001b[0m \u001b[0mase\u001b[0m\u001b[0;34m.\u001b[0m\u001b[0mio\u001b[0m\u001b[0;34m.\u001b[0m\u001b[0mformats\u001b[0m \u001b[0;32mimport\u001b[0m \u001b[0mis_compressed\u001b[0m\u001b[0;34m\u001b[0m\u001b[0;34m\u001b[0m\u001b[0m\n\u001b[1;32m     16\u001b[0m \u001b[0;32mfrom\u001b[0m \u001b[0mase\u001b[0m\u001b[0;34m.\u001b[0m\u001b[0mio\u001b[0m\u001b[0;34m.\u001b[0m\u001b[0mjsonio\u001b[0m \u001b[0;32mimport\u001b[0m \u001b[0mdecode\u001b[0m\u001b[0;34m,\u001b[0m \u001b[0mencode\u001b[0m\u001b[0;34m\u001b[0m\u001b[0;34m\u001b[0m\u001b[0m\n\u001b[0;32m---> 17\u001b[0;31m \u001b[0;32mfrom\u001b[0m \u001b[0mase\u001b[0m\u001b[0;34m.\u001b[0m\u001b[0mio\u001b[0m\u001b[0;34m.\u001b[0m\u001b[0mpickletrajectory\u001b[0m \u001b[0;32mimport\u001b[0m \u001b[0mPickleTrajectory\u001b[0m\u001b[0;34m\u001b[0m\u001b[0;34m\u001b[0m\u001b[0m\n\u001b[0m\u001b[1;32m     18\u001b[0m \u001b[0;32mfrom\u001b[0m \u001b[0mase\u001b[0m\u001b[0;34m.\u001b[0m\u001b[0mparallel\u001b[0m \u001b[0;32mimport\u001b[0m \u001b[0mworld\u001b[0m\u001b[0;34m\u001b[0m\u001b[0;34m\u001b[0m\u001b[0m\n\u001b[1;32m     19\u001b[0m \u001b[0;32mfrom\u001b[0m \u001b[0mase\u001b[0m\u001b[0;34m.\u001b[0m\u001b[0mutils\u001b[0m \u001b[0;32mimport\u001b[0m \u001b[0mtokenize_version\u001b[0m\u001b[0;34m\u001b[0m\u001b[0;34m\u001b[0m\u001b[0m\n",
            "\u001b[0;32m/usr/local/lib/python3.11/dist-packages/ase/io/pickletrajectory.py\u001b[0m in \u001b[0;36m<module>\u001b[0;34m\u001b[0m\n\u001b[1;32m     13\u001b[0m \u001b[0;32mfrom\u001b[0m \u001b[0mase\u001b[0m\u001b[0;34m.\u001b[0m\u001b[0mcalculators\u001b[0m\u001b[0;34m.\u001b[0m\u001b[0mcalculator\u001b[0m \u001b[0;32mimport\u001b[0m \u001b[0mPropertyNotImplementedError\u001b[0m\u001b[0;34m\u001b[0m\u001b[0;34m\u001b[0m\u001b[0m\n\u001b[1;32m     14\u001b[0m \u001b[0;32mfrom\u001b[0m \u001b[0mase\u001b[0m\u001b[0;34m.\u001b[0m\u001b[0mcalculators\u001b[0m\u001b[0;34m.\u001b[0m\u001b[0msinglepoint\u001b[0m \u001b[0;32mimport\u001b[0m \u001b[0mSinglePointCalculator\u001b[0m\u001b[0;34m\u001b[0m\u001b[0;34m\u001b[0m\u001b[0m\n\u001b[0;32m---> 15\u001b[0;31m \u001b[0;32mfrom\u001b[0m \u001b[0mase\u001b[0m\u001b[0;34m.\u001b[0m\u001b[0mconstraints\u001b[0m \u001b[0;32mimport\u001b[0m \u001b[0mFixAtoms\u001b[0m\u001b[0;34m\u001b[0m\u001b[0;34m\u001b[0m\u001b[0m\n\u001b[0m\u001b[1;32m     16\u001b[0m \u001b[0;32mfrom\u001b[0m \u001b[0mase\u001b[0m\u001b[0;34m.\u001b[0m\u001b[0mparallel\u001b[0m \u001b[0;32mimport\u001b[0m \u001b[0mbarrier\u001b[0m\u001b[0;34m,\u001b[0m \u001b[0mworld\u001b[0m\u001b[0;34m\u001b[0m\u001b[0;34m\u001b[0m\u001b[0m\n\u001b[1;32m     17\u001b[0m \u001b[0;34m\u001b[0m\u001b[0m\n",
            "\u001b[0;32m/usr/local/lib/python3.11/dist-packages/ase/constraints.py\u001b[0m in \u001b[0;36m<module>\u001b[0;34m\u001b[0m\n\u001b[1;32m     22\u001b[0m     \u001b[0mwrap_positions\u001b[0m\u001b[0;34m,\u001b[0m\u001b[0;34m\u001b[0m\u001b[0;34m\u001b[0m\u001b[0m\n\u001b[1;32m     23\u001b[0m )\n\u001b[0;32m---> 24\u001b[0;31m from ase.spacegroup.symmetrize import (\n\u001b[0m\u001b[1;32m     25\u001b[0m     \u001b[0mprep_symmetry\u001b[0m\u001b[0;34m,\u001b[0m\u001b[0;34m\u001b[0m\u001b[0;34m\u001b[0m\u001b[0m\n\u001b[1;32m     26\u001b[0m     \u001b[0mrefine_symmetry\u001b[0m\u001b[0;34m,\u001b[0m\u001b[0;34m\u001b[0m\u001b[0;34m\u001b[0m\u001b[0m\n",
            "\u001b[0;32m/usr/local/lib/python3.11/dist-packages/ase/spacegroup/__init__.py\u001b[0m in \u001b[0;36m<module>\u001b[0;34m\u001b[0m\n\u001b[0;32m----> 1\u001b[0;31m from ase.spacegroup.crystal_data import (\n\u001b[0m\u001b[1;32m      2\u001b[0m     \u001b[0mget_bravais_class\u001b[0m\u001b[0;34m,\u001b[0m\u001b[0;34m\u001b[0m\u001b[0;34m\u001b[0m\u001b[0m\n\u001b[1;32m      3\u001b[0m     \u001b[0mget_point_group\u001b[0m\u001b[0;34m,\u001b[0m\u001b[0;34m\u001b[0m\u001b[0;34m\u001b[0m\u001b[0m\n\u001b[1;32m      4\u001b[0m     \u001b[0mpolar_space_group\u001b[0m\u001b[0;34m,\u001b[0m\u001b[0;34m\u001b[0m\u001b[0;34m\u001b[0m\u001b[0m\n\u001b[1;32m      5\u001b[0m )\n",
            "\u001b[0;32m/usr/local/lib/python3.11/dist-packages/ase/spacegroup/crystal_data.py\u001b[0m in \u001b[0;36m<module>\u001b[0;34m\u001b[0m\n\u001b[1;32m      1\u001b[0m \u001b[0;31m# fmt: off\u001b[0m\u001b[0;34m\u001b[0m\u001b[0;34m\u001b[0m\u001b[0m\n\u001b[1;32m      2\u001b[0m \u001b[0;34m\u001b[0m\u001b[0m\n\u001b[0;32m----> 3\u001b[0;31m \u001b[0;32mfrom\u001b[0m \u001b[0mase\u001b[0m\u001b[0;34m.\u001b[0m\u001b[0mlattice\u001b[0m \u001b[0;32mimport\u001b[0m \u001b[0mbravais_classes\u001b[0m\u001b[0;34m\u001b[0m\u001b[0;34m\u001b[0m\u001b[0m\n\u001b[0m\u001b[1;32m      4\u001b[0m \u001b[0;34m\u001b[0m\u001b[0m\n\u001b[1;32m      5\u001b[0m _crystal_family = ('Øaammmmmmmmmmmmmoooooooooooooooooooooooooooooooooooooooooo'\n",
            "\u001b[0;32m/usr/local/lib/python3.11/dist-packages/ase/lattice/__init__.py\u001b[0m in \u001b[0;36m<module>\u001b[0;34m\u001b[0m\n\u001b[1;32m      7\u001b[0m \u001b[0;34m\u001b[0m\u001b[0m\n\u001b[1;32m      8\u001b[0m \u001b[0;32mfrom\u001b[0m \u001b[0mase\u001b[0m\u001b[0;34m.\u001b[0m\u001b[0mcell\u001b[0m \u001b[0;32mimport\u001b[0m \u001b[0mCell\u001b[0m\u001b[0;34m\u001b[0m\u001b[0;34m\u001b[0m\u001b[0m\n\u001b[0;32m----> 9\u001b[0;31m \u001b[0;32mfrom\u001b[0m \u001b[0mase\u001b[0m\u001b[0;34m.\u001b[0m\u001b[0mdft\u001b[0m\u001b[0;34m.\u001b[0m\u001b[0mkpoints\u001b[0m \u001b[0;32mimport\u001b[0m \u001b[0mBandPath\u001b[0m\u001b[0;34m,\u001b[0m \u001b[0mparse_path_string\u001b[0m\u001b[0;34m,\u001b[0m \u001b[0msc_special_points\u001b[0m\u001b[0;34m\u001b[0m\u001b[0;34m\u001b[0m\u001b[0m\n\u001b[0m\u001b[1;32m     10\u001b[0m \u001b[0;32mfrom\u001b[0m \u001b[0mase\u001b[0m\u001b[0;34m.\u001b[0m\u001b[0mutils\u001b[0m \u001b[0;32mimport\u001b[0m \u001b[0mpbc2pbc\u001b[0m\u001b[0;34m\u001b[0m\u001b[0;34m\u001b[0m\u001b[0m\n\u001b[1;32m     11\u001b[0m \u001b[0;34m\u001b[0m\u001b[0m\n",
            "\u001b[0;32m/usr/local/lib/python3.11/dist-packages/ase/dft/__init__.py\u001b[0m in \u001b[0;36m<module>\u001b[0;34m\u001b[0m\n\u001b[1;32m      1\u001b[0m \u001b[0;32mimport\u001b[0m \u001b[0mnumpy\u001b[0m \u001b[0;32mas\u001b[0m \u001b[0mnp\u001b[0m\u001b[0;34m\u001b[0m\u001b[0;34m\u001b[0m\u001b[0m\n\u001b[0;32m----> 2\u001b[0;31m \u001b[0;32mfrom\u001b[0m \u001b[0mscipy\u001b[0m\u001b[0;34m.\u001b[0m\u001b[0mintegrate\u001b[0m \u001b[0;32mimport\u001b[0m \u001b[0mtrapezoid\u001b[0m\u001b[0;34m\u001b[0m\u001b[0;34m\u001b[0m\u001b[0m\n\u001b[0m\u001b[1;32m      3\u001b[0m \u001b[0;34m\u001b[0m\u001b[0m\n\u001b[1;32m      4\u001b[0m \u001b[0;32mfrom\u001b[0m \u001b[0mase\u001b[0m\u001b[0;34m.\u001b[0m\u001b[0mdft\u001b[0m\u001b[0;34m.\u001b[0m\u001b[0mdos\u001b[0m \u001b[0;32mimport\u001b[0m \u001b[0mDOS\u001b[0m\u001b[0;34m\u001b[0m\u001b[0;34m\u001b[0m\u001b[0m\n\u001b[1;32m      5\u001b[0m \u001b[0;32mfrom\u001b[0m \u001b[0mase\u001b[0m\u001b[0;34m.\u001b[0m\u001b[0mdft\u001b[0m\u001b[0;34m.\u001b[0m\u001b[0mkpoints\u001b[0m \u001b[0;32mimport\u001b[0m \u001b[0mmonkhorst_pack\u001b[0m\u001b[0;34m\u001b[0m\u001b[0;34m\u001b[0m\u001b[0m\n",
            "\u001b[0;32m/usr/local/lib/python3.11/dist-packages/scipy/integrate/__init__.py\u001b[0m in \u001b[0;36m<module>\u001b[0;34m\u001b[0m\n\u001b[1;32m     92\u001b[0m \u001b[0;34m\u001b[0m\u001b[0m\n\u001b[1;32m     93\u001b[0m \u001b[0;34m\u001b[0m\u001b[0m\n\u001b[0;32m---> 94\u001b[0;31m \u001b[0;32mfrom\u001b[0m \u001b[0;34m.\u001b[0m\u001b[0m_quadrature\u001b[0m \u001b[0;32mimport\u001b[0m \u001b[0;34m*\u001b[0m\u001b[0;34m\u001b[0m\u001b[0;34m\u001b[0m\u001b[0m\n\u001b[0m\u001b[1;32m     95\u001b[0m \u001b[0;32mfrom\u001b[0m \u001b[0;34m.\u001b[0m\u001b[0m_odepack_py\u001b[0m \u001b[0;32mimport\u001b[0m \u001b[0;34m*\u001b[0m\u001b[0;34m\u001b[0m\u001b[0;34m\u001b[0m\u001b[0m\n\u001b[1;32m     96\u001b[0m \u001b[0;32mfrom\u001b[0m \u001b[0;34m.\u001b[0m\u001b[0m_quadpack_py\u001b[0m \u001b[0;32mimport\u001b[0m \u001b[0;34m*\u001b[0m\u001b[0;34m\u001b[0m\u001b[0;34m\u001b[0m\u001b[0m\n",
            "\u001b[0;32m/usr/local/lib/python3.11/dist-packages/scipy/integrate/_quadrature.py\u001b[0m in \u001b[0;36m<module>\u001b[0;34m\u001b[0m\n\u001b[1;32m      7\u001b[0m \u001b[0;32mfrom\u001b[0m \u001b[0mcollections\u001b[0m \u001b[0;32mimport\u001b[0m \u001b[0mnamedtuple\u001b[0m\u001b[0;34m\u001b[0m\u001b[0;34m\u001b[0m\u001b[0m\n\u001b[1;32m      8\u001b[0m \u001b[0;34m\u001b[0m\u001b[0m\n\u001b[0;32m----> 9\u001b[0;31m \u001b[0;32mfrom\u001b[0m \u001b[0mscipy\u001b[0m\u001b[0;34m.\u001b[0m\u001b[0mspecial\u001b[0m \u001b[0;32mimport\u001b[0m \u001b[0mroots_legendre\u001b[0m\u001b[0;34m\u001b[0m\u001b[0;34m\u001b[0m\u001b[0m\n\u001b[0m\u001b[1;32m     10\u001b[0m \u001b[0;32mfrom\u001b[0m \u001b[0mscipy\u001b[0m\u001b[0;34m.\u001b[0m\u001b[0mspecial\u001b[0m \u001b[0;32mimport\u001b[0m \u001b[0mgammaln\u001b[0m\u001b[0;34m,\u001b[0m \u001b[0mlogsumexp\u001b[0m\u001b[0;34m\u001b[0m\u001b[0;34m\u001b[0m\u001b[0m\n\u001b[1;32m     11\u001b[0m \u001b[0;32mfrom\u001b[0m \u001b[0mscipy\u001b[0m\u001b[0;34m.\u001b[0m\u001b[0m_lib\u001b[0m\u001b[0;34m.\u001b[0m\u001b[0m_util\u001b[0m \u001b[0;32mimport\u001b[0m \u001b[0m_rng_spawn\u001b[0m\u001b[0;34m\u001b[0m\u001b[0;34m\u001b[0m\u001b[0m\n",
            "\u001b[0;32m/usr/local/lib/python3.11/dist-packages/scipy/special/__init__.py\u001b[0m in \u001b[0;36m<module>\u001b[0;34m\u001b[0m\n\u001b[1;32m    809\u001b[0m \u001b[0;34m\u001b[0m\u001b[0m\n\u001b[1;32m    810\u001b[0m \u001b[0;31m# Replace some function definitions from _ufuncs to add Array API support\u001b[0m\u001b[0;34m\u001b[0m\u001b[0;34m\u001b[0m\u001b[0m\n\u001b[0;32m--> 811\u001b[0;31m from ._support_alternative_backends import (\n\u001b[0m\u001b[1;32m    812\u001b[0m     \u001b[0mlog_ndtr\u001b[0m\u001b[0;34m,\u001b[0m \u001b[0mndtr\u001b[0m\u001b[0;34m,\u001b[0m \u001b[0mndtri\u001b[0m\u001b[0;34m,\u001b[0m \u001b[0merf\u001b[0m\u001b[0;34m,\u001b[0m \u001b[0merfc\u001b[0m\u001b[0;34m,\u001b[0m \u001b[0mi0\u001b[0m\u001b[0;34m,\u001b[0m \u001b[0mi0e\u001b[0m\u001b[0;34m,\u001b[0m \u001b[0mi1\u001b[0m\u001b[0;34m,\u001b[0m \u001b[0mi1e\u001b[0m\u001b[0;34m,\u001b[0m \u001b[0mgammaln\u001b[0m\u001b[0;34m,\u001b[0m\u001b[0;34m\u001b[0m\u001b[0;34m\u001b[0m\u001b[0m\n\u001b[1;32m    813\u001b[0m     gammainc, gammaincc, logit, expit, entr, rel_entr, xlogy, chdtrc)\n",
            "\u001b[0;32m/usr/local/lib/python3.11/dist-packages/scipy/special/_support_alternative_backends.py\u001b[0m in \u001b[0;36m<module>\u001b[0;34m\u001b[0m\n\u001b[1;32m      5\u001b[0m \u001b[0;32mimport\u001b[0m \u001b[0mnumpy\u001b[0m \u001b[0;32mas\u001b[0m \u001b[0mnp\u001b[0m\u001b[0;34m\u001b[0m\u001b[0;34m\u001b[0m\u001b[0m\n\u001b[1;32m      6\u001b[0m \u001b[0;32mimport\u001b[0m \u001b[0mscipy\u001b[0m\u001b[0;34m\u001b[0m\u001b[0;34m\u001b[0m\u001b[0m\n\u001b[0;32m----> 7\u001b[0;31m from scipy._lib._array_api import (\n\u001b[0m\u001b[1;32m      8\u001b[0m     \u001b[0marray_namespace\u001b[0m\u001b[0;34m,\u001b[0m \u001b[0mscipy_namespace_for\u001b[0m\u001b[0;34m,\u001b[0m \u001b[0mis_numpy\u001b[0m\u001b[0;34m,\u001b[0m \u001b[0mis_torch\u001b[0m\u001b[0;34m\u001b[0m\u001b[0;34m\u001b[0m\u001b[0m\n\u001b[1;32m      9\u001b[0m )\n",
            "\u001b[0;32m/usr/local/lib/python3.11/dist-packages/scipy/_lib/_array_api.py\u001b[0m in \u001b[0;36m<module>\u001b[0;34m\u001b[0m\n\u001b[1;32m     19\u001b[0m \u001b[0;34m\u001b[0m\u001b[0m\n\u001b[1;32m     20\u001b[0m \u001b[0;32mfrom\u001b[0m \u001b[0mscipy\u001b[0m\u001b[0;34m.\u001b[0m\u001b[0m_lib\u001b[0m \u001b[0;32mimport\u001b[0m \u001b[0marray_api_compat\u001b[0m\u001b[0;34m\u001b[0m\u001b[0;34m\u001b[0m\u001b[0m\n\u001b[0;32m---> 21\u001b[0;31m from scipy._lib.array_api_compat import (\n\u001b[0m\u001b[1;32m     22\u001b[0m     \u001b[0mis_array_api_obj\u001b[0m\u001b[0;34m,\u001b[0m\u001b[0;34m\u001b[0m\u001b[0;34m\u001b[0m\u001b[0m\n\u001b[1;32m     23\u001b[0m     \u001b[0msize\u001b[0m\u001b[0;34m,\u001b[0m\u001b[0;34m\u001b[0m\u001b[0;34m\u001b[0m\u001b[0m\n",
            "\u001b[0;32m/usr/local/lib/python3.11/dist-packages/scipy/_lib/array_api_compat/numpy/__init__.py\u001b[0m in \u001b[0;36m<module>\u001b[0;34m\u001b[0m\n\u001b[0;32m----> 1\u001b[0;31m \u001b[0;32mfrom\u001b[0m \u001b[0mnumpy\u001b[0m \u001b[0;32mimport\u001b[0m \u001b[0;34m*\u001b[0m \u001b[0;31m# noqa: F403\u001b[0m\u001b[0;34m\u001b[0m\u001b[0;34m\u001b[0m\u001b[0m\n\u001b[0m\u001b[1;32m      2\u001b[0m \u001b[0;34m\u001b[0m\u001b[0m\n\u001b[1;32m      3\u001b[0m \u001b[0;31m# from numpy import * doesn't overwrite these builtin names\u001b[0m\u001b[0;34m\u001b[0m\u001b[0;34m\u001b[0m\u001b[0m\n\u001b[1;32m      4\u001b[0m \u001b[0;32mfrom\u001b[0m \u001b[0mnumpy\u001b[0m \u001b[0;32mimport\u001b[0m \u001b[0mabs\u001b[0m\u001b[0;34m,\u001b[0m \u001b[0mmax\u001b[0m\u001b[0;34m,\u001b[0m \u001b[0mmin\u001b[0m\u001b[0;34m,\u001b[0m \u001b[0mround\u001b[0m \u001b[0;31m# noqa: F401\u001b[0m\u001b[0;34m\u001b[0m\u001b[0;34m\u001b[0m\u001b[0m\n\u001b[1;32m      5\u001b[0m \u001b[0;34m\u001b[0m\u001b[0m\n",
            "\u001b[0;32m/usr/local/lib/python3.11/dist-packages/numpy/__init__.py\u001b[0m in \u001b[0;36m__getattr__\u001b[0;34m(attr)\u001b[0m\n\u001b[1;32m    365\u001b[0m                 \u001b[0;32mraise\u001b[0m \u001b[0mAssertionError\u001b[0m\u001b[0;34m(\u001b[0m\u001b[0;34m)\u001b[0m\u001b[0;34m\u001b[0m\u001b[0;34m\u001b[0m\u001b[0m\n\u001b[1;32m    366\u001b[0m         \u001b[0;32mexcept\u001b[0m \u001b[0mAssertionError\u001b[0m\u001b[0;34m:\u001b[0m\u001b[0;34m\u001b[0m\u001b[0;34m\u001b[0m\u001b[0m\n\u001b[0;32m--> 367\u001b[0;31m             msg = (\"The current Numpy installation ({!r}) fails to \"\n\u001b[0m\u001b[1;32m    368\u001b[0m                    \u001b[0;34m\"pass simple sanity checks. This can be caused for example \"\u001b[0m\u001b[0;34m\u001b[0m\u001b[0;34m\u001b[0m\u001b[0m\n\u001b[1;32m    369\u001b[0m                    \u001b[0;34m\"by incorrect BLAS library being linked in, or by mixing \"\u001b[0m\u001b[0;34m\u001b[0m\u001b[0;34m\u001b[0m\u001b[0m\n",
            "\u001b[0;31mModuleNotFoundError\u001b[0m: No module named 'numpy.char'",
            "",
            "\u001b[0;31m---------------------------------------------------------------------------\u001b[0;32m\nNOTE: If your import is failing due to a missing package, you can\nmanually install dependencies using either !pip or !apt.\n\nTo view examples of installing some common dependencies, click the\n\"Open Examples\" button below.\n\u001b[0;31m---------------------------------------------------------------------------\u001b[0m\n"
          ],
          "errorDetails": {
            "actions": [
              {
                "action": "open_url",
                "actionText": "Open Examples",
                "url": "/notebooks/snippets/importing_libraries.ipynb"
              }
            ]
          }
        }
      ]
    },
    {
      "cell_type": "code",
      "source": [
        "from typing import Any, Dict, Optional\n",
        "from mace.tools.scatter import scatter_sum\n",
        "from mace.modules.blocks import (\n",
        "    LinearReadoutBlock,\n",
        "    ScaleShiftBlock,\n",
        ")\n",
        "from mace.modules.utils import (\n",
        "    get_edge_vectors_and_lengths,\n",
        "    get_symmetric_displacement,\n",
        ")\n",
        "from mace.modules.models import (\n",
        "    MACE,\n",
        "    ScaleShiftFieldMACE,\n",
        ")"
      ],
      "metadata": {
        "id": "WCm8DnDny9ju"
      },
      "execution_count": null,
      "outputs": []
    },
    {
      "cell_type": "markdown",
      "source": [
        "## Write Config for the Model"
      ],
      "metadata": {
        "id": "mFPPYvCN9a6e"
      }
    },
    {
      "cell_type": "code",
      "source": [
        "%%writefile train_polarisation.yml\n",
        "\n",
        "name: \"ferroelectrics\"\n",
        "train_file: \"data/ferroelectric/ferroelectric_train_2040.xyz\"\n",
        "test_file: \"data/ferroelectric/ferroelectric_test.xyz\"\n",
        "valid_file: \"data/ferroelectric/ferroelectric_valid.xyz\"\n",
        "E0s: \"average\"\n",
        "loss: \"universal_field\"\n",
        "energy_weight: 0.0\n",
        "forces_weight: 0.0\n",
        "stress_weight: 0.0\n",
        "bec_weight: 1e2\n",
        "polarisability_weight: 0.0\n",
        "polarisation_weight: 0.0\n",
        "compute_field: True\n",
        "eval_interval: 1\n",
        "error_table: \"PerAtomRMSEstressvirialsfield\"\n",
        "model: \"ScaleShiftFieldMACE\"\n",
        "interaction_first: \"RealAgnosticResidualInteractionBlock\"\n",
        "interaction: \"RealAgnosticResidualInteractionBlock\"\n",
        "num_interactions: 2\n",
        "correlation: 3\n",
        "r_max: 6.0\n",
        "max_L: 1\n",
        "max_ell: 3\n",
        "num_channels: 128\n",
        "num_radial_basis: 10\n",
        "MLP_irreps: \"16x0e\"\n",
        "num_workers: 1\n",
        "lr: 0.05\n",
        "weight_decay: 1e-8\n",
        "batch_size: 1\n",
        "valid_batch_size: 1\n",
        "max_num_epochs: 200\n",
        "distributed: True\n",
        "device: cuda\n",
        "seed: 1"
      ],
      "metadata": {
        "id": "O1tltlQf1Ezc"
      },
      "execution_count": null,
      "outputs": []
    },
    {
      "cell_type": "markdown",
      "source": [
        "## Understanding the MACE Field Architecture"
      ],
      "metadata": {
        "id": "BV3a4zmI-kMQ"
      }
    },
    {
      "cell_type": "markdown",
      "source": [
        "### Theory"
      ],
      "metadata": {
        "id": "jYNamAclWyXS"
      }
    },
    {
      "cell_type": "markdown",
      "source": [
        "Our approach inherits most of the original MACE architecture. The primary alteration is in the readout blocks where we include an additional energy term, $-\\Omega\\ \\mathbf{P} \\cdot \\mathcal{E}$, where $\\Omega$ is the unit-cell volume, $\\mathbf{P}$ is the macroscopic polarisation, and $\\mathcal{E}$ is an external electric field. This is all in analogy to the electric enthalpy functional from Density Functional Perturbation Theory (DFPT). Please see the [VASP wiki](https://www.vasp.at/wiki/index.php/Berry_phases_and_finite_electric_fields) for a good introduction to Berry Phases and finite electric fields in DFPT."
      ],
      "metadata": {
        "id": "dt2F_YnjCiMv"
      }
    },
    {
      "cell_type": "markdown",
      "source": [
        "The molecular dipole moment is the sum of the ionic contributions, with bare ionic charge $-e Z_\\alpha$ and position $\\mathbf{R}_\\alpha$, and an electronic contribution from the first moment of the electronic charge density $\\rho(\\mathbf{r})$:\n"
      ],
      "metadata": {
        "id": "SDSY9L-JHJAX"
      }
    },
    {
      "cell_type": "markdown",
      "source": [
        "\\begin{equation}\n",
        "\\begin{aligned}\n",
        "    \\mathbf{p} &= \\mathbf{p}_{\\text{ion}} + \\mathbf{p}_{\\text{el}}\\\\\n",
        "    \\mathbf{p} &= -e \\sum_{\\alpha} Z_\\alpha \\mathbf{R}_\\alpha + \\int d\\mathbf{r}\\ \\mathbf{r}\\ \\rho(\\mathbf{r})\n",
        "\\end{aligned}\n",
        "\\end{equation}\n"
      ],
      "metadata": {
        "id": "VDTOg973HOSX"
      }
    },
    {
      "cell_type": "markdown",
      "source": [
        "where the polarisation density is then just this dipole moment divided by the total volume, $\\mathbf{P} = \\mathbf{p} / V$.\n"
      ],
      "metadata": {
        "id": "PHKyj5fMIvXS"
      }
    },
    {
      "cell_type": "markdown",
      "source": [
        "We see that the molecular dipole $\\mathbf{p}_{\\text{ion}, \\alpha}$ has a contribution per ion. Just as we decompose the total energy of the system into contributions per ion or per \"node\", suppose we decompose the electronic dipole into contributions per node, $\\mathbf{p}_{\\text{el}, \\alpha}$."
      ],
      "metadata": {
        "id": "qMSKxuprM7ZB"
      }
    },
    {
      "cell_type": "markdown",
      "source": [
        "Due to the Modern Theory of Polarisation, quantum polarisation is multivalued / \"ill-defined\" for infinite periodic systems. The electronic dipole cannot in principle be decomposed this way, but just as is the case for the total energy, we will do it anyway. To compensate, the loss term for the polarisation will only be defined modulo the polarisation quantum to account for this multivalueness."
      ],
      "metadata": {
        "id": "tOwESbdeOx_h"
      }
    },
    {
      "cell_type": "markdown",
      "source": [
        "### Alterations to MACE"
      ],
      "metadata": {
        "id": "qfJx4iPUW1ha"
      }
    },
    {
      "cell_type": "markdown",
      "source": [
        "Each layer $1 \\leq t \\leq T$ of MACE contributes to the final energy readout $E_\\alpha$ for node $\\alpha$:"
      ],
      "metadata": {
        "id": "BDjK_LrHDGNW"
      }
    },
    {
      "cell_type": "markdown",
      "source": [
        "\\begin{equation}\n",
        "    E_\\alpha = E_\\alpha^{(0)} + E_\\alpha^{(1)} + \\dots + E_\\alpha^{(T)}\n",
        "\\end{equation}"
      ],
      "metadata": {
        "id": "SdaWXOY0xqsD"
      }
    },
    {
      "cell_type": "markdown",
      "source": [
        "In a $T$-layer MACE, the readout is altered to include an additional perturbing term of a $K$-dimensional \"total atomic dipole\" feature $\\mathbf{p}_{\\alpha, k}$ for each node $\\alpha$, dot-producted with the external electric field $\\mathcal{E}$:"
      ],
      "metadata": {
        "id": "0qa6znVcEF8H"
      }
    },
    {
      "cell_type": "markdown",
      "source": [
        "\\begin{equation}\n",
        "  E_\\alpha(t) = \\mathcal{R}_t\\left(\\mathbf{h}_i^{(t)}\\right) =\n",
        "    \\begin{cases}\n",
        "    \\begin{aligned}\n",
        "        &\\sum_{\\tilde{k}} W_{\\text{readout}, \\tilde{k}}^{(t)} \\left[ h_{\\alpha,\\tilde{k} 0 0}^{e, (t)} - \\mathbf{p}_{\\alpha, \\tilde{k}}^{(t)} \\cdot \\mathbf{\\mathcal{E}} \\right] \\qquad\\ \\text{if}\\ t<T, \\\\\n",
        "        &\\text{MLP}_{\\text{readout}}^{(t)}\\left( \\left\\{ h_{\\alpha,k 0 0}^{e, (t)} - \\mathbf{p}_{\\alpha, k}^{(t)} \\cdot \\mathbf{\\mathcal{E}} \\right\\}_{k} \\right) \\quad \\text{if}\\ t = T.\n",
        "    \\end{aligned}\n",
        "    \\end{cases}\n",
        "\\end{equation}"
      ],
      "metadata": {
        "id": "TxemPmYXx4SM"
      }
    },
    {
      "cell_type": "markdown",
      "source": [
        "Where in the final layer the electric field enters the nonlinear MLP."
      ],
      "metadata": {
        "id": "SXn57KSLFqC4"
      }
    },
    {
      "cell_type": "markdown",
      "source": [
        "After the higher body-order `node_feats` are produced from the standard `product` blocks in the MACE model, we linearly map them to two scalar features and one vector feature which we may relate to the local node energy \"$e$\", charge \"$q$\" and electronic dipole moment:"
      ],
      "metadata": {
        "id": "Flfz8BrCFzUW"
      }
    },
    {
      "cell_type": "markdown",
      "source": [
        "\\begin{equation}\n",
        "    \\left[ h_{\\alpha, k 0 0}^{e, (t)},\\ h_{\\alpha, k 0 0}^{q, (t)},\\ h_{\\alpha, k 1 m}^{(t)} \\right] = \\sum_{l \\tilde{m}} W^{l \\tilde{m}}_{0 0, 1 m} h^{(t)}_{\\alpha,kl\\tilde{m}}.\n",
        "\\end{equation}"
      ],
      "metadata": {
        "id": "k_HXp55-6ev1"
      }
    },
    {
      "cell_type": "markdown",
      "source": [
        "Note that these are not complete readouts yet as we have not yet mixed the k channels."
      ],
      "metadata": {
        "id": "gK170zm2GjpW"
      }
    },
    {
      "cell_type": "markdown",
      "source": [
        "To extract these features, we need to initialise in `__init__()` a new readout:\n",
        "\n",
        "```\n",
        "field_irreps = o3.Irreps(\"0e\") + o3.Irreps.spherical_harmonics(1)\n",
        "field_irreps_out = o3.Irreps(f\"{num_channels * field_irreps}\").sort()[0].simplify()\n",
        "\n",
        "self.field_readout = LinearReadoutBlock(hidden_irreps, field_irreps_out)\n",
        "```\n",
        "\n",
        "which gives us two $l=0$ scalars and a $l=1$ vector *without* mixing the channels.\n",
        "\n",
        "After we obtain `node_feats` from the `product` block, we obtain these additional features from:\n",
        "\n",
        "```\n",
        "node_out = self.field_readout(node_feats, node_heads).reshape(node_feats.shape[0], -1, 5)\n",
        "node_energy_feats, node_charge_feats, node_electronic_dipole_feats = node_out[:,:,0],  node_out[:,:,1], -node_out[:,:,2:]\n",
        "```"
      ],
      "metadata": {
        "id": "qpVs31AXP8y5"
      }
    },
    {
      "cell_type": "markdown",
      "source": [
        "We then define a total dipole moment feature as:"
      ],
      "metadata": {
        "id": "agt8sQIEGoq2"
      }
    },
    {
      "cell_type": "markdown",
      "source": [
        "\\begin{equation}\n",
        "    \\mathbf{p}^{(t)}_{\\alpha,k} = h^{q,(t)}_{\\alpha,k 0 0} \\mathbf{R}_{\\alpha} - \\mathbf{h}^{(t)}_{\\alpha,k 1},\n",
        "\\end{equation}"
      ],
      "metadata": {
        "id": "n34HRFjs6mal"
      }
    },
    {
      "cell_type": "markdown",
      "source": [
        "where the first term represents the ionic dipole contribution.\n",
        "\n",
        "In the code we have:\n",
        "\n",
        "```\n",
        "node_atomic_dipole_feats = torch.einsum('ij,ik->ijk', node_charge_feats, data[\"positions\"])\n",
        "node_dipole_feats = node_atomic_dipole_feats + node_electronic_dipole_feats           \n",
        "```\n",
        "\n",
        "This \"total dipole\" acts as an atomic decomposition of the total macroscopic polarisation which, dot product with the external electric field, contributes to the total energy:"
      ],
      "metadata": {
        "id": "ay2cOBe9GtCe"
      }
    },
    {
      "cell_type": "markdown",
      "source": [
        "\\begin{equation}\n",
        "h_{\\alpha,\\tilde{k} 0 0}^{e, (t)} - \\mathbf{p}_{\\alpha, \\tilde{k}}^{(t)} \\cdot \\mathbf{\\mathcal{E}},\n",
        "\\end{equation}"
      ],
      "metadata": {
        "id": "dB8w4Bp1fFqV"
      }
    },
    {
      "cell_type": "markdown",
      "source": [
        "which we then feed into the final energy `readout` block which mixes the $k$ channels:\n",
        "\n",
        "```\n",
        "node_energies = node_energy_feats - torch.einsum('ijk,k->ij', node_dipole_feats, data[\"electric_field\"])\n",
        "node_energies = readout(node_energies, node_heads)[num_atoms_arange, node_heads]        \n",
        "```"
      ],
      "metadata": {
        "id": "SBNOEd_UgCMs"
      }
    },
    {
      "cell_type": "markdown",
      "source": [
        "Since we need the node features, `node_feats`, to always have a $l=1$ piece, we need to alter the final `interaction` and `product` blocks of MACE which originally only preserve the $l=0$ piece in the last layer $T$.\n",
        "\n",
        "Therefore, in `__init__()` in our new model `ScaleShiftFieldMACE` we also include:\n",
        "```\n",
        "self.interactions[-1].skip_tp = o3.FullyConnectedTensorProduct(\n",
        "    hidden_irreps,\n",
        "    self.interactions[-1].node_attrs_irreps,\n",
        "    hidden_irreps,\n",
        "    self.interactions[-1].cueq_config,\n",
        ")\n",
        "```\n",
        "and\n",
        "```\n",
        "self.products[-1] = self.products[-2]\n",
        "```"
      ],
      "metadata": {
        "id": "Qcq7LUFlQCxp"
      }
    },
    {
      "cell_type": "markdown",
      "source": [
        "Finally, as our new `field_readout` is an intermediate step between the `product` block and the energy `readout`, we need to alter the `irreps_in` of the energy `readout` blocks:\n",
        "```\n",
        "for i in range(len(self.readouts)-1):\n",
        "    self.readouts[i].linear = o3.Linear(f\"{num_channels}x0e\", f\"{len(self.heads)}x0e\")\n",
        "\n",
        "self.readouts[-1].linear_1 = o3.Linear(f\"{num_channels}x0e\", f\"{len(self.heads) * kwargs['MLP_irreps']}\")   \n",
        "```"
      ],
      "metadata": {
        "id": "WiA6QAlgQWQ5"
      }
    },
    {
      "cell_type": "markdown",
      "source": [
        "### Deriving Polarisation, BECs and Polarisability as derivates of energy"
      ],
      "metadata": {
        "id": "VRCahZILW7Uy"
      }
    },
    {
      "cell_type": "markdown",
      "source": [
        "The predicted energy $E$ depends upon the atomic positions $\\mathbf{R}_{\\alpha}$ and the external electric field $\\mathbf{\\mathcal{E}}$ to arbitrary order,\n",
        "\n",
        "\\begin{equation}\n",
        "    E(\\{\\mathbf{R}_\\alpha\\}, \\mathbf{\\mathcal{E}}) = E^{(0)}(\\mathbf{\\mathcal{E}}) + \\sum_{\\alpha=1}^N E_{\\alpha}^{(0)}\\left( \\mathbf{R}_{\\alpha};\\  \\mathbf{\\mathcal{E}} \\right) + \\sum_{1 \\leq \\alpha \\leq \\beta \\leq N}^N E_{\\alpha, \\beta}^{(1)}\\left( \\mathbf{R}_{\\alpha}, \\mathbf{R}_{\\beta};\\ \\mathbf{\\mathcal{E}} \\right) + \\dots + \\mathcal{F}\\left[m^{(T)}\\left(\\mathbf{R}_{\\alpha_1}, \\dots, \\mathbf{R}_{\\alpha_N};\\  \\mathbf{\\mathcal{E}}\\right)\\right],\n",
        "\\end{equation}  \n",
        "\n",
        "where $\\mathcal{F}$ is a general, learnable non-linear term (here evaluated using a MLP) that accounts for excluded higher-order terms."
      ],
      "metadata": {
        "id": "ADYa2j80TpSL"
      }
    },
    {
      "cell_type": "markdown",
      "source": [
        "Therefore, we account for non-linear susceptibilities,\n",
        "\n",
        "\\begin{equation}\n",
        "    \\mathbf{P}(\\{\\mathbf{R}_\\alpha\\}, \\mathbf{\\mathcal{E}}) = -\\frac{1}{\\Omega} \\mathbf{\\nabla}_{\\mathbf{\\mathcal{E}}} E(\\{\\mathbf{R}_\\alpha\\}, \\mathbf{\\mathcal{E}}) = \\mathbf{P}_0(\\{\\mathbf{R}_\\alpha\\}) + \\chi^{(1)}(\\{\\mathbf{R}_\\alpha\\}) \\cdot  \\mathbf{\\mathcal{E}} + \\mathbf{\\mathcal{E}} \\cdot \\chi^{(2)}(\\{\\mathbf{R}_\\alpha\\}) \\cdot  \\mathbf{\\mathcal{E}} + \\dots,\n",
        "\\end{equation}\n",
        "\n",
        "where we see that the polarisability is the linear susceptibility term, $\\chi^{(1)} \\equiv \\alpha$."
      ],
      "metadata": {
        "id": "ZjNaRQqzURq6"
      }
    },
    {
      "cell_type": "markdown",
      "source": [
        "The polarisation ($P_i$) is then derived from the derivative of the total energy with respect to the external electric field:"
      ],
      "metadata": {
        "id": "aMXXNpiRUtW5"
      }
    },
    {
      "cell_type": "markdown",
      "source": [
        "\\begin{equation}\n",
        "  P_i = -\\frac{1}{\\Omega} \\frac{\\partial E}{\\partial \\mathcal{E}_i},\n",
        "\\end{equation}"
      ],
      "metadata": {
        "id": "eFRkpUJEVjvC"
      }
    },
    {
      "cell_type": "markdown",
      "source": [
        "which we compute using the forward `autograd.grad` function:\n",
        "\n",
        "```\n",
        "def compute_polarisation(\n",
        "    energy: torch.Tensor,\n",
        "    electric_field: torch.Tensor,\n",
        "    cell: torch.Tensor,\n",
        "    training: bool = True,\n",
        ") -> torch.Tensor:\n",
        "    \n",
        "    volume = torch.linalg.det(cell.view(-1, 3, 3)).abs()\n",
        "    \n",
        "    polarisation = torch.autograd.grad(\n",
        "        outputs=energy,  # [n_graphs, ]            \n",
        "        inputs=electric_field,  # [3, ]\n",
        "        grad_outputs=torch.ones_like(energy),\n",
        "        retain_graph=training,  # Make sure the graph is not destroyed during training  \n",
        "        create_graph=training,  # Create graph for higher derivatives\n",
        "        allow_unused=True,\n",
        "    )[0]\n",
        "\n",
        "    return -polarisation / volume\n",
        "```\n"
      ],
      "metadata": {
        "id": "4GkOrEFpV7d7"
      }
    },
    {
      "cell_type": "markdown",
      "source": [
        "The Born effective charges ($Z^*_{\\alpha,ij}$) and the polarisability tensor ($\\alpha_{ij}$) may then be derived from derivatives of the polarisation with respect to atom position and the electric field, respectively,"
      ],
      "metadata": {
        "id": "89iOkk0TVf86"
      }
    },
    {
      "cell_type": "markdown",
      "source": [
        "\\begin{equation}\n",
        "    Z^*_{\\alpha, ij} = -\\frac{1}{e}\\frac{\\partial^2 E}{\\partial \\mathcal{E}_i\\ \\partial R_{\\alpha,j}}\\bigg\\rvert_{\\mathbf{\\mathcal{E}}=\\mathbf{0}}\n",
        "    = \\frac{1}{e} \\frac{\\partial F_i}{\\partial \\mathcal{E}_j}\\bigg\\rvert_{\\mathbf{\\mathcal{E}}=\\mathbf{0}} = \\frac{\\Omega}{e} \\frac{\\partial P_i}{\\partial R_{\\alpha, j}}\\bigg\\rvert_{\\mathbf{\\mathcal{E}}=\\mathbf{0}},\n",
        "\\end{equation}"
      ],
      "metadata": {
        "id": "7MeYkAsPUwE5"
      }
    },
    {
      "cell_type": "markdown",
      "source": [
        "\\begin{equation}\n",
        "    \\alpha_{ij} = - \\frac{1}{\\Omega} \\frac{\\partial^2 E}{\\partial \\mathcal{E}_i\\ \\partial \\mathcal{E}_j} = \\frac{\\partial P_i}{\\partial \\mathcal{E}_j},\n",
        "\\end{equation}"
      ],
      "metadata": {
        "id": "TDK6zSQCUvCa"
      }
    },
    {
      "cell_type": "markdown",
      "source": [
        "which are computed by looping over the $3$ dimensions of the polarisation vector:"
      ],
      "metadata": {
        "id": "LsG47dL3WQKa"
      }
    },
    {
      "cell_type": "markdown",
      "source": [
        "```\n",
        "def compute_bec(\n",
        "    polarisation: torch.Tensor,\n",
        "    positions: torch.Tensor,\n",
        "    cell: torch.Tensor,\n",
        "    training: bool = True,\n",
        ") -> torch.Tensor:\n",
        "    \n",
        "    volume = torch.linalg.det(cell.view(-1, 3, 3)).abs()\n",
        "    \n",
        "    bec_polar_list = []\n",
        "    for d in range(3): # Loop over dimensions\n",
        "        polar_component = polarisation[d]\n",
        "        gradient = torch.autograd.grad(\n",
        "            outputs=polar_component, # [n_graphs, 1]\n",
        "            inputs=positions, # [n_nodes, 3]\n",
        "            grad_outputs=torch.ones_like(polar_component),\n",
        "            retain_graph=training,  # Make sure the graph is not destroyed during training\n",
        "            create_graph=training,  # Create graph for higher derivatives\n",
        "            allow_unused=True,\n",
        "        )[0]\n",
        "        bec_polar_list.append(gradient) # [n_nodes, 3]\n",
        "        \n",
        "    bec = torch.stack(bec_polar_list, dim=1) # [n_nodes, 3, 3]\n",
        "\n",
        "    return bec * volume\n",
        "```"
      ],
      "metadata": {
        "id": "10ahjMWdWfoJ"
      }
    },
    {
      "cell_type": "markdown",
      "source": [
        "```\n",
        "def compute_polarisability(\n",
        "    polarisation: torch.Tensor,\n",
        "    electric_field: torch.Tensor,\n",
        "    training: bool = True,\n",
        ") -> torch.Tensor:\n",
        "    \n",
        "    # Second derivatives (BEC and polarisability) computed for each polarisation component.   \n",
        "    polarisability_list = []\n",
        "    for d in range(3):\n",
        "        polar_component = polarisation[d]\n",
        "        grad_field = torch.autograd.grad(\n",
        "            outputs=polar_component, # [n_graphs, 1]\n",
        "            inputs=electric_field, # [3, ]\n",
        "            grad_outputs=torch.ones_like(polar_component),\n",
        "            retain_graph=training,  # Make sure the graph is not destroyed during training\n",
        "            create_graph=training,  # Create graph for higher derivatives\n",
        "            allow_unused=True,\n",
        "        )[0]\n",
        "        polarisability_list.append(grad_field) # [n_graphs, 3]\n",
        "        \n",
        "    polarisability = torch.stack(polarisability_list, dim=1)  # [n_graphs, 3, 3]\n",
        "\n",
        "    return polarisability\n",
        "```"
      ],
      "metadata": {
        "id": "Mr2e_vDwWk_i"
      }
    },
    {
      "cell_type": "markdown",
      "source": [
        "### Additional Loss Term"
      ],
      "metadata": {
        "id": "hg7FkGKqXFw6"
      }
    },
    {
      "cell_type": "markdown",
      "source": [
        "In addition to the original loss function for the energy, forces and stress, we include three additional terms to account for the polarisation, becs and polarisability:"
      ],
      "metadata": {
        "id": "f_nQGAaSXPTz"
      }
    },
    {
      "cell_type": "markdown",
      "source": [
        "\\begin{equation}\n",
        "\\begin{aligned}\n",
        "    \\Delta \\mathcal{L} &= \\frac{\\lambda_P}{3 B} \\sum_{b=1}^{B} \\sum_{i=1}^3 \\left(\\left[-\\frac{1}{\\Omega}\\frac{\\partial E_b^{(\\text{pred})}}{\\partial \\mathcal{E}_i} - P^{(\\text{ref})}_{b,i}\\right] \\text{mod}\\ \\Delta P_{b,i} \\right)^2 + \\frac{\\lambda_Z}{9 B N} \\sum_{\\alpha=1}^{B \\cdot N} \\sum_{i=1}^3 \\sum_{j=1}^3 \\left(-\\frac{1}{e}\\frac{\\partial^2 E^{(\\text{pred})}}{\\partial \\mathcal{E}_i\\ \\partial R_{\\alpha,j}} - Z^{* (\\text{ref})}_{\\alpha, ij} \\right)^2 \\\\\n",
        "    &+ \\frac{\\lambda_\\alpha}{9 B} \\sum_{b=1}^{B} \\sum_{i=1}^3 \\sum_{j=1}^3 \\left(-\\frac{1}{\\Omega}\\frac{\\partial^2 E_b^{(\\text{pred})}}{\\partial \\mathcal{E}_i\\ \\partial \\mathcal{E}_j} - \\alpha^{(\\text{ref})}_{b,ij} \\right)^2 .\n",
        "\\end{aligned}\n",
        "\\end{equation}"
      ],
      "metadata": {
        "id": "V-yjN44zXL_j"
      }
    },
    {
      "cell_type": "markdown",
      "source": [
        "Here $B$ is the size of the batch and $b$ the batch index. $N$ is the number of atoms in the graph. The $\\lambda$s are the weights which will be automatically set to zero if the relevant training data is absent. This means a mixed dataset can be used for training."
      ],
      "metadata": {
        "id": "rvWFnHQ5XfSa"
      }
    },
    {
      "cell_type": "markdown",
      "source": [
        "Here we write the MSE loss, but other losses can be used. In the main code we actually use the `torch.nn.HuberLoss` Huber loss with $\\delta = 0.1$."
      ],
      "metadata": {
        "id": "CbWw4YUEZ-YT"
      }
    },
    {
      "cell_type": "markdown",
      "source": [
        "The modulo $\\text{mod}\\ \\Delta P_{b,i}$ term tells the model that the polarisation may be multivalued due to the Berry Phase, where the $ \\Delta \\mathbf{P} $ term is the polarisation quantum:"
      ],
      "metadata": {
        "id": "4weD7dfnYLwi"
      }
    },
    {
      "cell_type": "markdown",
      "source": [
        "\\begin{equation}\n",
        "   \\Delta \\mathbf{P} = \\frac{e \\mathbf{R}}{\\Omega},\n",
        "\\end{equation}"
      ],
      "metadata": {
        "id": "xAZA2D3OYj_i"
      }
    },
    {
      "cell_type": "markdown",
      "source": [
        "where $\\mathbf{R}$ is the lattice vector."
      ],
      "metadata": {
        "id": "ugciiURfZCUs"
      }
    },
    {
      "cell_type": "markdown",
      "source": [
        "To implement this, we `torch.repeat` the reference and predicted polarisation vectors into a $3\\times3$ matrices and compare their difference modulo the $3\\times3$ `Cell` object from the `ASE` `Atom` type , weighted by the volume:"
      ],
      "metadata": {
        "id": "CD4bzIRUZI5i"
      }
    },
    {
      "cell_type": "markdown",
      "source": [
        "```\n",
        "# Calculate the polarisation quantum\n",
        "cell = ref[\"cell\"].view(-1,3,3)\n",
        "polarisation_quantum = cell / torch.linalg.det(cell).abs()\n",
        "\n",
        "# modulo ignore zero components to leave pol unfolded and avoid divide by 0\n",
        "polarisation_quantum[polarisation_quantum == 0] = max(torch.cat((ref[\"polarisation\"], pred[\"polarisation\"]))) + 1.0\n",
        "\n",
        "# Expand polarisation to lattice (3x3 matrix) that is modulo the polarisation quantum. Any nan (due to divide by 0), set to zero.\n",
        "ref_polarisation = ref[\"polarisation\"].repeat(3,1).view(-1,3,3)\n",
        "pred_polarisation = pred[\"polarisation\"].repeat(3,1).view(-1,3,3)\n",
        "\n",
        "polarisation_loss = self.huber_loss((ref_polarisation - pred_polarisation).fmod(polarisation_quantum).nan_to_num(nan=0) / num_atoms, torch.zeros_like(ref_polarisation))\n",
        "        \n",
        "```"
      ],
      "metadata": {
        "id": "XvweyiicZ5Oj"
      }
    },
    {
      "cell_type": "markdown",
      "source": [
        "The [`Cell` object](https://wiki.fysik.dtu.dk/ase/ase/cell.html) is simply the three lattice vectors forming a parallelepiped.\n",
        "\n",
        "The weird manipulation of the polarisation quantum here is just to avoid dividing by zero in the modulo and to ignore any null directions where the lattice vector has zero entries. The difference modulo the `Cell` object is the compared to a $3\\times3$ null matrix."
      ],
      "metadata": {
        "id": "wWpPT25IanMD"
      }
    }
  ]
}