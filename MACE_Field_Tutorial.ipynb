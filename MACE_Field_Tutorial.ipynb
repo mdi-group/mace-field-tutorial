{
  "nbformat": 4,
  "nbformat_minor": 0,
  "metadata": {
    "colab": {
      "provenance": [],
      "authorship_tag": "ABX9TyPJaj6zncXWC5llMGWp05rK",
      "include_colab_link": true
    },
    "kernelspec": {
      "name": "python3",
      "display_name": "Python 3"
    },
    "language_info": {
      "name": "python"
    }
  },
  "cells": [
    {
      "cell_type": "markdown",
      "metadata": {
        "id": "view-in-github",
        "colab_type": "text"
      },
      "source": [
        "<a href=\"https://colab.research.google.com/github/mdi-group/mace-field-tutorial/blob/main/MACE_Field_Tutorial.ipynb\" target=\"_parent\"><img src=\"https://colab.research.google.com/assets/colab-badge.svg\" alt=\"Open In Colab\"/></a>"
      ]
    },
    {
      "cell_type": "markdown",
      "source": [
        "# MACE Field Architecture\n",
        "\n",
        "\n"
      ],
      "metadata": {
        "id": "9kY30kCYsWOE"
      }
    },
    {
      "cell_type": "markdown",
      "source": [
        "In this tutorial, we dive into the alterations we have made to the MACE model to incorporate an external perturbing electric field into the MACE architecture, and how to use it to derive derivative properties such as the macroscopic polarisation, Born Effective Charges (BECS) and polarisability."
      ],
      "metadata": {
        "id": "QTndatuysl3C"
      }
    },
    {
      "cell_type": "markdown",
      "source": [
        "To learn how the base MACE code works, we highly recommend you look at the [MACE theory tutorial](https://colab.research.google.com/drive/1AlfjQETV_jZ0JQnV5M3FGwAM2SGCl2aU) developed by Will Baldwin and Ilyes Batatia."
      ],
      "metadata": {
        "id": "juQVIyxUs_d0"
      }
    },
    {
      "cell_type": "code",
      "source": [
        "!git clone https://github.com/mdi-group/mace-field-tutorial.git\n",
        "!pip install"
      ],
      "metadata": {
        "id": "tzwwemRNslCz"
      },
      "execution_count": null,
      "outputs": []
    }
  ]
}