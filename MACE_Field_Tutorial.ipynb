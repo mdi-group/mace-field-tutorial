{
  "nbformat": 4,
  "nbformat_minor": 0,
  "metadata": {
    "colab": {
      "provenance": [],
      "gpuType": "T4",
      "authorship_tag": "ABX9TyP12KYMoIT2CuaFYBNFEj5C",
      "include_colab_link": true
    },
    "kernelspec": {
      "name": "python3",
      "display_name": "Python 3"
    },
    "language_info": {
      "name": "python"
    },
    "accelerator": "GPU"
  },
  "cells": [
    {
      "cell_type": "markdown",
      "metadata": {
        "id": "view-in-github",
        "colab_type": "text"
      },
      "source": [
        "<a href=\"https://colab.research.google.com/github/mdi-group/mace-field-tutorial/blob/main/MACE_Field_Tutorial.ipynb\" target=\"_parent\"><img src=\"https://colab.research.google.com/assets/colab-badge.svg\" alt=\"Open In Colab\"/></a>"
      ]
    },
    {
      "cell_type": "markdown",
      "source": [
        "# MACE Field Tutorial\n",
        "\n",
        "\n"
      ],
      "metadata": {
        "id": "9kY30kCYsWOE"
      }
    },
    {
      "cell_type": "markdown",
      "source": [
        "In this tutorial, we dive into the alterations we have made to the MACE model to incorporate an external perturbing electric field into the MACE architecture, and how to use it to derive derivative properties such as the macroscopic polarisation, Born Effective Charges (BECS) and polarisability."
      ],
      "metadata": {
        "id": "QTndatuysl3C"
      }
    },
    {
      "cell_type": "markdown",
      "source": [
        "To learn how the base MACE code works, we highly recommend you look at the [MACE theory tutorial](https://colab.research.google.com/drive/1AlfjQETV_jZ0JQnV5M3FGwAM2SGCl2aU) developed by Will Baldwin and Ilyes Batatia."
      ],
      "metadata": {
        "id": "juQVIyxUs_d0"
      }
    },
    {
      "cell_type": "markdown",
      "source": [
        "## Installs"
      ],
      "metadata": {
        "id": "1JwZdoFffL5z"
      }
    },
    {
      "cell_type": "code",
      "source": [
        "!rm -rf /usr/local/lib/python3.11/site-packages/mace\n",
        "!git clone https://github.com/mdi-group/mace-field-tutorial.git\n",
        "!git clone https://github.com/mdi-group/mace-field.git\n",
        "%cd mace-field\n",
        "!git switch field\n",
        "!pip install .\n",
        "!pip install --force-reinstall numpy==2.0\n",
        "%cd ../mace-field-tutorial"
      ],
      "metadata": {
        "id": "tzwwemRNslCz",
        "colab": {
          "base_uri": "https://localhost:8080/"
        },
        "outputId": "124309cf-c8aa-4c6e-b1bc-7d1b6ab98052"
      },
      "execution_count": 1,
      "outputs": [
        {
          "output_type": "stream",
          "name": "stdout",
          "text": [
            "Cloning into 'mace-field-tutorial'...\n",
            "remote: Enumerating objects: 50, done.\u001b[K\n",
            "remote: Counting objects: 100% (50/50), done.\u001b[K\n",
            "remote: Compressing objects: 100% (46/46), done.\u001b[K\n",
            "remote: Total 50 (delta 21), reused 8 (delta 1), pack-reused 0 (from 0)\u001b[K\n",
            "Receiving objects: 100% (50/50), 2.27 MiB | 5.88 MiB/s, done.\n",
            "Resolving deltas: 100% (21/21), done.\n",
            "Cloning into 'mace-field'...\n",
            "remote: Enumerating objects: 6184, done.\u001b[K\n",
            "remote: Counting objects: 100% (58/58), done.\u001b[K\n",
            "remote: Compressing objects: 100% (31/31), done.\u001b[K\n",
            "remote: Total 6184 (delta 38), reused 29 (delta 27), pack-reused 6126 (from 3)\u001b[K\n",
            "Receiving objects: 100% (6184/6184), 123.65 MiB | 13.74 MiB/s, done.\n",
            "Resolving deltas: 100% (4643/4643), done.\n",
            "Updating files: 100% (98/98), done.\n",
            "/content/mace-field\n",
            "Branch 'field' set up to track remote branch 'field' from 'origin'.\n",
            "Switched to a new branch 'field'\n",
            "Processing /content/mace-field\n",
            "  Installing build dependencies ... \u001b[?25l\u001b[?25hdone\n",
            "  Getting requirements to build wheel ... \u001b[?25l\u001b[?25hdone\n",
            "  Preparing metadata (pyproject.toml) ... \u001b[?25l\u001b[?25hdone\n",
            "Requirement already satisfied: torch>=1.12 in /usr/local/lib/python3.11/dist-packages (from mace-torch==0.3.10) (2.6.0+cu124)\n",
            "Collecting e3nn==0.4.4 (from mace-torch==0.3.10)\n",
            "  Downloading e3nn-0.4.4-py3-none-any.whl.metadata (5.1 kB)\n",
            "Collecting numpy<2.0 (from mace-torch==0.3.10)\n",
            "  Downloading numpy-1.26.4-cp311-cp311-manylinux_2_17_x86_64.manylinux2014_x86_64.whl.metadata (61 kB)\n",
            "\u001b[2K     \u001b[90m━━━━━━━━━━━━━━━━━━━━━━━━━━━━━━━━━━━━━━━━\u001b[0m \u001b[32m61.0/61.0 kB\u001b[0m \u001b[31m2.5 MB/s\u001b[0m eta \u001b[36m0:00:00\u001b[0m\n",
            "\u001b[?25hRequirement already satisfied: opt_einsum in /usr/local/lib/python3.11/dist-packages (from mace-torch==0.3.10) (3.4.0)\n",
            "Collecting ase (from mace-torch==0.3.10)\n",
            "  Downloading ase-3.25.0-py3-none-any.whl.metadata (4.2 kB)\n",
            "Collecting torch-ema (from mace-torch==0.3.10)\n",
            "  Downloading torch_ema-0.3-py3-none-any.whl.metadata (415 bytes)\n",
            "Requirement already satisfied: prettytable in /usr/local/lib/python3.11/dist-packages (from mace-torch==0.3.10) (3.16.0)\n",
            "Collecting matscipy (from mace-torch==0.3.10)\n",
            "  Downloading matscipy-1.1.1-cp311-cp311-manylinux_2_17_x86_64.manylinux2014_x86_64.whl.metadata (37 kB)\n",
            "Requirement already satisfied: h5py in /usr/local/lib/python3.11/dist-packages (from mace-torch==0.3.10) (3.13.0)\n",
            "Collecting torchmetrics (from mace-torch==0.3.10)\n",
            "  Downloading torchmetrics-1.7.1-py3-none-any.whl.metadata (21 kB)\n",
            "Collecting python-hostlist (from mace-torch==0.3.10)\n",
            "  Downloading python-hostlist-2.2.1.tar.gz (37 kB)\n",
            "  Preparing metadata (setup.py) ... \u001b[?25l\u001b[?25hdone\n",
            "Collecting configargparse (from mace-torch==0.3.10)\n",
            "  Downloading ConfigArgParse-1.7-py3-none-any.whl.metadata (23 kB)\n",
            "Requirement already satisfied: GitPython in /usr/local/lib/python3.11/dist-packages (from mace-torch==0.3.10) (3.1.44)\n",
            "Requirement already satisfied: pyYAML in /usr/local/lib/python3.11/dist-packages (from mace-torch==0.3.10) (6.0.2)\n",
            "Requirement already satisfied: tqdm in /usr/local/lib/python3.11/dist-packages (from mace-torch==0.3.10) (4.67.1)\n",
            "Requirement already satisfied: matplotlib in /usr/local/lib/python3.11/dist-packages (from mace-torch==0.3.10) (3.10.0)\n",
            "Requirement already satisfied: pandas in /usr/local/lib/python3.11/dist-packages (from mace-torch==0.3.10) (2.2.2)\n",
            "Requirement already satisfied: sympy in /usr/local/lib/python3.11/dist-packages (from e3nn==0.4.4->mace-torch==0.3.10) (1.13.1)\n",
            "Requirement already satisfied: scipy in /usr/local/lib/python3.11/dist-packages (from e3nn==0.4.4->mace-torch==0.3.10) (1.14.1)\n",
            "Collecting opt-einsum-fx>=0.1.4 (from e3nn==0.4.4->mace-torch==0.3.10)\n",
            "  Downloading opt_einsum_fx-0.1.4-py3-none-any.whl.metadata (3.3 kB)\n",
            "Requirement already satisfied: filelock in /usr/local/lib/python3.11/dist-packages (from torch>=1.12->mace-torch==0.3.10) (3.18.0)\n",
            "Requirement already satisfied: typing-extensions>=4.10.0 in /usr/local/lib/python3.11/dist-packages (from torch>=1.12->mace-torch==0.3.10) (4.13.1)\n",
            "Requirement already satisfied: networkx in /usr/local/lib/python3.11/dist-packages (from torch>=1.12->mace-torch==0.3.10) (3.4.2)\n",
            "Requirement already satisfied: jinja2 in /usr/local/lib/python3.11/dist-packages (from torch>=1.12->mace-torch==0.3.10) (3.1.6)\n",
            "Requirement already satisfied: fsspec in /usr/local/lib/python3.11/dist-packages (from torch>=1.12->mace-torch==0.3.10) (2025.3.2)\n",
            "Collecting nvidia-cuda-nvrtc-cu12==12.4.127 (from torch>=1.12->mace-torch==0.3.10)\n",
            "  Downloading nvidia_cuda_nvrtc_cu12-12.4.127-py3-none-manylinux2014_x86_64.whl.metadata (1.5 kB)\n",
            "Collecting nvidia-cuda-runtime-cu12==12.4.127 (from torch>=1.12->mace-torch==0.3.10)\n",
            "  Downloading nvidia_cuda_runtime_cu12-12.4.127-py3-none-manylinux2014_x86_64.whl.metadata (1.5 kB)\n",
            "Collecting nvidia-cuda-cupti-cu12==12.4.127 (from torch>=1.12->mace-torch==0.3.10)\n",
            "  Downloading nvidia_cuda_cupti_cu12-12.4.127-py3-none-manylinux2014_x86_64.whl.metadata (1.6 kB)\n",
            "Collecting nvidia-cudnn-cu12==9.1.0.70 (from torch>=1.12->mace-torch==0.3.10)\n",
            "  Downloading nvidia_cudnn_cu12-9.1.0.70-py3-none-manylinux2014_x86_64.whl.metadata (1.6 kB)\n",
            "Collecting nvidia-cublas-cu12==12.4.5.8 (from torch>=1.12->mace-torch==0.3.10)\n",
            "  Downloading nvidia_cublas_cu12-12.4.5.8-py3-none-manylinux2014_x86_64.whl.metadata (1.5 kB)\n",
            "Collecting nvidia-cufft-cu12==11.2.1.3 (from torch>=1.12->mace-torch==0.3.10)\n",
            "  Downloading nvidia_cufft_cu12-11.2.1.3-py3-none-manylinux2014_x86_64.whl.metadata (1.5 kB)\n",
            "Collecting nvidia-curand-cu12==10.3.5.147 (from torch>=1.12->mace-torch==0.3.10)\n",
            "  Downloading nvidia_curand_cu12-10.3.5.147-py3-none-manylinux2014_x86_64.whl.metadata (1.5 kB)\n",
            "Collecting nvidia-cusolver-cu12==11.6.1.9 (from torch>=1.12->mace-torch==0.3.10)\n",
            "  Downloading nvidia_cusolver_cu12-11.6.1.9-py3-none-manylinux2014_x86_64.whl.metadata (1.6 kB)\n",
            "Collecting nvidia-cusparse-cu12==12.3.1.170 (from torch>=1.12->mace-torch==0.3.10)\n",
            "  Downloading nvidia_cusparse_cu12-12.3.1.170-py3-none-manylinux2014_x86_64.whl.metadata (1.6 kB)\n",
            "Requirement already satisfied: nvidia-cusparselt-cu12==0.6.2 in /usr/local/lib/python3.11/dist-packages (from torch>=1.12->mace-torch==0.3.10) (0.6.2)\n",
            "Requirement already satisfied: nvidia-nccl-cu12==2.21.5 in /usr/local/lib/python3.11/dist-packages (from torch>=1.12->mace-torch==0.3.10) (2.21.5)\n",
            "Requirement already satisfied: nvidia-nvtx-cu12==12.4.127 in /usr/local/lib/python3.11/dist-packages (from torch>=1.12->mace-torch==0.3.10) (12.4.127)\n",
            "Collecting nvidia-nvjitlink-cu12==12.4.127 (from torch>=1.12->mace-torch==0.3.10)\n",
            "  Downloading nvidia_nvjitlink_cu12-12.4.127-py3-none-manylinux2014_x86_64.whl.metadata (1.5 kB)\n",
            "Requirement already satisfied: triton==3.2.0 in /usr/local/lib/python3.11/dist-packages (from torch>=1.12->mace-torch==0.3.10) (3.2.0)\n",
            "Requirement already satisfied: mpmath<1.4,>=1.1.0 in /usr/local/lib/python3.11/dist-packages (from sympy->e3nn==0.4.4->mace-torch==0.3.10) (1.3.0)\n",
            "Requirement already satisfied: contourpy>=1.0.1 in /usr/local/lib/python3.11/dist-packages (from matplotlib->mace-torch==0.3.10) (1.3.1)\n",
            "Requirement already satisfied: cycler>=0.10 in /usr/local/lib/python3.11/dist-packages (from matplotlib->mace-torch==0.3.10) (0.12.1)\n",
            "Requirement already satisfied: fonttools>=4.22.0 in /usr/local/lib/python3.11/dist-packages (from matplotlib->mace-torch==0.3.10) (4.57.0)\n",
            "Requirement already satisfied: kiwisolver>=1.3.1 in /usr/local/lib/python3.11/dist-packages (from matplotlib->mace-torch==0.3.10) (1.4.8)\n",
            "Requirement already satisfied: packaging>=20.0 in /usr/local/lib/python3.11/dist-packages (from matplotlib->mace-torch==0.3.10) (24.2)\n",
            "Requirement already satisfied: pillow>=8 in /usr/local/lib/python3.11/dist-packages (from matplotlib->mace-torch==0.3.10) (11.1.0)\n",
            "Requirement already satisfied: pyparsing>=2.3.1 in /usr/local/lib/python3.11/dist-packages (from matplotlib->mace-torch==0.3.10) (3.2.3)\n",
            "Requirement already satisfied: python-dateutil>=2.7 in /usr/local/lib/python3.11/dist-packages (from matplotlib->mace-torch==0.3.10) (2.8.2)\n",
            "Requirement already satisfied: gitdb<5,>=4.0.1 in /usr/local/lib/python3.11/dist-packages (from GitPython->mace-torch==0.3.10) (4.0.12)\n",
            "Requirement already satisfied: pytz>=2020.1 in /usr/local/lib/python3.11/dist-packages (from pandas->mace-torch==0.3.10) (2025.2)\n",
            "Requirement already satisfied: tzdata>=2022.7 in /usr/local/lib/python3.11/dist-packages (from pandas->mace-torch==0.3.10) (2025.2)\n",
            "Requirement already satisfied: wcwidth in /usr/local/lib/python3.11/dist-packages (from prettytable->mace-torch==0.3.10) (0.2.13)\n",
            "Collecting lightning-utilities>=0.8.0 (from torchmetrics->mace-torch==0.3.10)\n",
            "  Downloading lightning_utilities-0.14.3-py3-none-any.whl.metadata (5.6 kB)\n",
            "Requirement already satisfied: smmap<6,>=3.0.1 in /usr/local/lib/python3.11/dist-packages (from gitdb<5,>=4.0.1->GitPython->mace-torch==0.3.10) (5.0.2)\n",
            "Requirement already satisfied: setuptools in /usr/local/lib/python3.11/dist-packages (from lightning-utilities>=0.8.0->torchmetrics->mace-torch==0.3.10) (75.2.0)\n",
            "Requirement already satisfied: six>=1.5 in /usr/local/lib/python3.11/dist-packages (from python-dateutil>=2.7->matplotlib->mace-torch==0.3.10) (1.17.0)\n",
            "Requirement already satisfied: MarkupSafe>=2.0 in /usr/local/lib/python3.11/dist-packages (from jinja2->torch>=1.12->mace-torch==0.3.10) (3.0.2)\n",
            "Downloading e3nn-0.4.4-py3-none-any.whl (387 kB)\n",
            "\u001b[2K   \u001b[90m━━━━━━━━━━━━━━━━━━━━━━━━━━━━━━━━━━━━━━━━\u001b[0m \u001b[32m387.7/387.7 kB\u001b[0m \u001b[31m17.4 MB/s\u001b[0m eta \u001b[36m0:00:00\u001b[0m\n",
            "\u001b[?25hDownloading numpy-1.26.4-cp311-cp311-manylinux_2_17_x86_64.manylinux2014_x86_64.whl (18.3 MB)\n",
            "\u001b[2K   \u001b[90m━━━━━━━━━━━━━━━━━━━━━━━━━━━━━━━━━━━━━━━━\u001b[0m \u001b[32m18.3/18.3 MB\u001b[0m \u001b[31m70.1 MB/s\u001b[0m eta \u001b[36m0:00:00\u001b[0m\n",
            "\u001b[?25hDownloading nvidia_cublas_cu12-12.4.5.8-py3-none-manylinux2014_x86_64.whl (363.4 MB)\n",
            "\u001b[2K   \u001b[90m━━━━━━━━━━━━━━━━━━━━━━━━━━━━━━━━━━━━━━━━\u001b[0m \u001b[32m363.4/363.4 MB\u001b[0m \u001b[31m4.3 MB/s\u001b[0m eta \u001b[36m0:00:00\u001b[0m\n",
            "\u001b[?25hDownloading nvidia_cuda_cupti_cu12-12.4.127-py3-none-manylinux2014_x86_64.whl (13.8 MB)\n",
            "\u001b[2K   \u001b[90m━━━━━━━━━━━━━━━━━━━━━━━━━━━━━━━━━━━━━━━━\u001b[0m \u001b[32m13.8/13.8 MB\u001b[0m \u001b[31m103.2 MB/s\u001b[0m eta \u001b[36m0:00:00\u001b[0m\n",
            "\u001b[?25hDownloading nvidia_cuda_nvrtc_cu12-12.4.127-py3-none-manylinux2014_x86_64.whl (24.6 MB)\n",
            "\u001b[2K   \u001b[90m━━━━━━━━━━━━━━━━━━━━━━━━━━━━━━━━━━━━━━━━\u001b[0m \u001b[32m24.6/24.6 MB\u001b[0m \u001b[31m78.1 MB/s\u001b[0m eta \u001b[36m0:00:00\u001b[0m\n",
            "\u001b[?25hDownloading nvidia_cuda_runtime_cu12-12.4.127-py3-none-manylinux2014_x86_64.whl (883 kB)\n",
            "\u001b[2K   \u001b[90m━━━━━━━━━━━━━━━━━━━━━━━━━━━━━━━━━━━━━━━━\u001b[0m \u001b[32m883.7/883.7 kB\u001b[0m \u001b[31m53.7 MB/s\u001b[0m eta \u001b[36m0:00:00\u001b[0m\n",
            "\u001b[?25hDownloading nvidia_cudnn_cu12-9.1.0.70-py3-none-manylinux2014_x86_64.whl (664.8 MB)\n",
            "\u001b[2K   \u001b[90m━━━━━━━━━━━━━━━━━━━━━━━━━━━━━━━━━━━━━━━━\u001b[0m \u001b[32m664.8/664.8 MB\u001b[0m \u001b[31m2.7 MB/s\u001b[0m eta \u001b[36m0:00:00\u001b[0m\n",
            "\u001b[?25hDownloading nvidia_cufft_cu12-11.2.1.3-py3-none-manylinux2014_x86_64.whl (211.5 MB)\n",
            "\u001b[2K   \u001b[90m━━━━━━━━━━━━━━━━━━━━━━━━━━━━━━━━━━━━━━━━\u001b[0m \u001b[32m211.5/211.5 MB\u001b[0m \u001b[31m5.7 MB/s\u001b[0m eta \u001b[36m0:00:00\u001b[0m\n",
            "\u001b[?25hDownloading nvidia_curand_cu12-10.3.5.147-py3-none-manylinux2014_x86_64.whl (56.3 MB)\n",
            "\u001b[2K   \u001b[90m━━━━━━━━━━━━━━━━━━━━━━━━━━━━━━━━━━━━━━━━\u001b[0m \u001b[32m56.3/56.3 MB\u001b[0m \u001b[31m12.8 MB/s\u001b[0m eta \u001b[36m0:00:00\u001b[0m\n",
            "\u001b[?25hDownloading nvidia_cusolver_cu12-11.6.1.9-py3-none-manylinux2014_x86_64.whl (127.9 MB)\n",
            "\u001b[2K   \u001b[90m━━━━━━━━━━━━━━━━━━━━━━━━━━━━━━━━━━━━━━━━\u001b[0m \u001b[32m127.9/127.9 MB\u001b[0m \u001b[31m7.3 MB/s\u001b[0m eta \u001b[36m0:00:00\u001b[0m\n",
            "\u001b[?25hDownloading nvidia_cusparse_cu12-12.3.1.170-py3-none-manylinux2014_x86_64.whl (207.5 MB)\n",
            "\u001b[2K   \u001b[90m━━━━━━━━━━━━━━━━━━━━━━━━━━━━━━━━━━━━━━━━\u001b[0m \u001b[32m207.5/207.5 MB\u001b[0m \u001b[31m5.9 MB/s\u001b[0m eta \u001b[36m0:00:00\u001b[0m\n",
            "\u001b[?25hDownloading nvidia_nvjitlink_cu12-12.4.127-py3-none-manylinux2014_x86_64.whl (21.1 MB)\n",
            "\u001b[2K   \u001b[90m━━━━━━━━━━━━━━━━━━━━━━━━━━━━━━━━━━━━━━━━\u001b[0m \u001b[32m21.1/21.1 MB\u001b[0m \u001b[31m65.9 MB/s\u001b[0m eta \u001b[36m0:00:00\u001b[0m\n",
            "\u001b[?25hDownloading ase-3.25.0-py3-none-any.whl (3.0 MB)\n",
            "\u001b[2K   \u001b[90m━━━━━━━━━━━━━━━━━━━━━━━━━━━━━━━━━━━━━━━━\u001b[0m \u001b[32m3.0/3.0 MB\u001b[0m \u001b[31m65.9 MB/s\u001b[0m eta \u001b[36m0:00:00\u001b[0m\n",
            "\u001b[?25hDownloading ConfigArgParse-1.7-py3-none-any.whl (25 kB)\n",
            "Downloading matscipy-1.1.1-cp311-cp311-manylinux_2_17_x86_64.manylinux2014_x86_64.whl (448 kB)\n",
            "\u001b[2K   \u001b[90m━━━━━━━━━━━━━━━━━━━━━━━━━━━━━━━━━━━━━━━━\u001b[0m \u001b[32m448.8/448.8 kB\u001b[0m \u001b[31m33.0 MB/s\u001b[0m eta \u001b[36m0:00:00\u001b[0m\n",
            "\u001b[?25hDownloading torch_ema-0.3-py3-none-any.whl (5.5 kB)\n",
            "Downloading torchmetrics-1.7.1-py3-none-any.whl (961 kB)\n",
            "\u001b[2K   \u001b[90m━━━━━━━━━━━━━━━━━━━━━━━━━━━━━━━━━━━━━━━━\u001b[0m \u001b[32m961.5/961.5 kB\u001b[0m \u001b[31m52.2 MB/s\u001b[0m eta \u001b[36m0:00:00\u001b[0m\n",
            "\u001b[?25hDownloading lightning_utilities-0.14.3-py3-none-any.whl (28 kB)\n",
            "Downloading opt_einsum_fx-0.1.4-py3-none-any.whl (13 kB)\n",
            "Building wheels for collected packages: mace-torch, python-hostlist\n",
            "  Building wheel for mace-torch (pyproject.toml) ... \u001b[?25l\u001b[?25hdone\n",
            "  Created wheel for mace-torch: filename=mace_torch-0.3.10-py3-none-any.whl size=159987 sha256=71318be31199a9cadcb031f388d8e0ae28a70410077fa2343d0324fc241ba613\n",
            "  Stored in directory: /root/.cache/pip/wheels/fb/ff/27/a97f2258bc135695f8532fac0144fe221b7de21b4eeb0d7380\n",
            "  Building wheel for python-hostlist (setup.py) ... \u001b[?25l\u001b[?25hdone\n",
            "  Created wheel for python-hostlist: filename=python_hostlist-2.2.1-py3-none-any.whl size=39603 sha256=3435838ac165219883eac6a6ff5dfb9a7293b03982fa1fb705ceba22d48cfc86\n",
            "  Stored in directory: /root/.cache/pip/wheels/df/d3/7c/23728e2c3ff6d2fcc1c8b8bb7a101fa205b2f7cd37431a938b\n",
            "Successfully built mace-torch python-hostlist\n",
            "Installing collected packages: python-hostlist, nvidia-nvjitlink-cu12, nvidia-curand-cu12, nvidia-cufft-cu12, nvidia-cuda-runtime-cu12, nvidia-cuda-nvrtc-cu12, nvidia-cuda-cupti-cu12, nvidia-cublas-cu12, numpy, lightning-utilities, configargparse, nvidia-cusparse-cu12, nvidia-cudnn-cu12, nvidia-cusolver-cu12, ase, torchmetrics, torch-ema, opt-einsum-fx, matscipy, e3nn, mace-torch\n",
            "  Attempting uninstall: nvidia-nvjitlink-cu12\n",
            "    Found existing installation: nvidia-nvjitlink-cu12 12.5.82\n",
            "    Uninstalling nvidia-nvjitlink-cu12-12.5.82:\n",
            "      Successfully uninstalled nvidia-nvjitlink-cu12-12.5.82\n",
            "  Attempting uninstall: nvidia-curand-cu12\n",
            "    Found existing installation: nvidia-curand-cu12 10.3.6.82\n",
            "    Uninstalling nvidia-curand-cu12-10.3.6.82:\n",
            "      Successfully uninstalled nvidia-curand-cu12-10.3.6.82\n",
            "  Attempting uninstall: nvidia-cufft-cu12\n",
            "    Found existing installation: nvidia-cufft-cu12 11.2.3.61\n",
            "    Uninstalling nvidia-cufft-cu12-11.2.3.61:\n",
            "      Successfully uninstalled nvidia-cufft-cu12-11.2.3.61\n",
            "  Attempting uninstall: nvidia-cuda-runtime-cu12\n",
            "    Found existing installation: nvidia-cuda-runtime-cu12 12.5.82\n",
            "    Uninstalling nvidia-cuda-runtime-cu12-12.5.82:\n",
            "      Successfully uninstalled nvidia-cuda-runtime-cu12-12.5.82\n",
            "  Attempting uninstall: nvidia-cuda-nvrtc-cu12\n",
            "    Found existing installation: nvidia-cuda-nvrtc-cu12 12.5.82\n",
            "    Uninstalling nvidia-cuda-nvrtc-cu12-12.5.82:\n",
            "      Successfully uninstalled nvidia-cuda-nvrtc-cu12-12.5.82\n",
            "  Attempting uninstall: nvidia-cuda-cupti-cu12\n",
            "    Found existing installation: nvidia-cuda-cupti-cu12 12.5.82\n",
            "    Uninstalling nvidia-cuda-cupti-cu12-12.5.82:\n",
            "      Successfully uninstalled nvidia-cuda-cupti-cu12-12.5.82\n",
            "  Attempting uninstall: nvidia-cublas-cu12\n",
            "    Found existing installation: nvidia-cublas-cu12 12.5.3.2\n",
            "    Uninstalling nvidia-cublas-cu12-12.5.3.2:\n",
            "      Successfully uninstalled nvidia-cublas-cu12-12.5.3.2\n",
            "  Attempting uninstall: numpy\n",
            "    Found existing installation: numpy 2.0.2\n",
            "    Uninstalling numpy-2.0.2:\n",
            "      Successfully uninstalled numpy-2.0.2\n",
            "  Attempting uninstall: nvidia-cusparse-cu12\n",
            "    Found existing installation: nvidia-cusparse-cu12 12.5.1.3\n",
            "    Uninstalling nvidia-cusparse-cu12-12.5.1.3:\n",
            "      Successfully uninstalled nvidia-cusparse-cu12-12.5.1.3\n",
            "  Attempting uninstall: nvidia-cudnn-cu12\n",
            "    Found existing installation: nvidia-cudnn-cu12 9.3.0.75\n",
            "    Uninstalling nvidia-cudnn-cu12-9.3.0.75:\n",
            "      Successfully uninstalled nvidia-cudnn-cu12-9.3.0.75\n",
            "  Attempting uninstall: nvidia-cusolver-cu12\n",
            "    Found existing installation: nvidia-cusolver-cu12 11.6.3.83\n",
            "    Uninstalling nvidia-cusolver-cu12-11.6.3.83:\n",
            "      Successfully uninstalled nvidia-cusolver-cu12-11.6.3.83\n",
            "\u001b[31mERROR: pip's dependency resolver does not currently take into account all the packages that are installed. This behaviour is the source of the following dependency conflicts.\n",
            "thinc 8.3.6 requires numpy<3.0.0,>=2.0.0, but you have numpy 1.26.4 which is incompatible.\u001b[0m\u001b[31m\n",
            "\u001b[0mSuccessfully installed ase-3.25.0 configargparse-1.7 e3nn-0.4.4 lightning-utilities-0.14.3 mace-torch-0.3.10 matscipy-1.1.1 numpy-1.26.4 nvidia-cublas-cu12-12.4.5.8 nvidia-cuda-cupti-cu12-12.4.127 nvidia-cuda-nvrtc-cu12-12.4.127 nvidia-cuda-runtime-cu12-12.4.127 nvidia-cudnn-cu12-9.1.0.70 nvidia-cufft-cu12-11.2.1.3 nvidia-curand-cu12-10.3.5.147 nvidia-cusolver-cu12-11.6.1.9 nvidia-cusparse-cu12-12.3.1.170 nvidia-nvjitlink-cu12-12.4.127 opt-einsum-fx-0.1.4 python-hostlist-2.2.1 torch-ema-0.3 torchmetrics-1.7.1\n",
            "Collecting numpy==2.0\n",
            "  Downloading numpy-2.0.0-cp311-cp311-manylinux_2_17_x86_64.manylinux2014_x86_64.whl.metadata (60 kB)\n",
            "\u001b[2K     \u001b[90m━━━━━━━━━━━━━━━━━━━━━━━━━━━━━━━━━━━━━━━━\u001b[0m \u001b[32m60.9/60.9 kB\u001b[0m \u001b[31m4.6 MB/s\u001b[0m eta \u001b[36m0:00:00\u001b[0m\n",
            "\u001b[?25hDownloading numpy-2.0.0-cp311-cp311-manylinux_2_17_x86_64.manylinux2014_x86_64.whl (19.3 MB)\n",
            "\u001b[2K   \u001b[90m━━━━━━━━━━━━━━━━━━━━━━━━━━━━━━━━━━━━━━━━\u001b[0m \u001b[32m19.3/19.3 MB\u001b[0m \u001b[31m83.9 MB/s\u001b[0m eta \u001b[36m0:00:00\u001b[0m\n",
            "\u001b[?25hInstalling collected packages: numpy\n",
            "  Attempting uninstall: numpy\n",
            "    Found existing installation: numpy 1.26.4\n",
            "    Uninstalling numpy-1.26.4:\n",
            "      Successfully uninstalled numpy-1.26.4\n",
            "\u001b[31mERROR: pip's dependency resolver does not currently take into account all the packages that are installed. This behaviour is the source of the following dependency conflicts.\n",
            "mace-torch 0.3.10 requires numpy<2.0, but you have numpy 2.0.0 which is incompatible.\n",
            "matscipy 1.1.1 requires numpy<2.0.0,>=1.16.0, but you have numpy 2.0.0 which is incompatible.\u001b[0m\u001b[31m\n",
            "\u001b[0mSuccessfully installed numpy-2.0.0\n",
            "/content/mace-field-tutorial\n"
          ]
        }
      ]
    },
    {
      "cell_type": "code",
      "source": [
        "import numpy as np\n",
        "import torch\n",
        "\n",
        "# Add this line before importing e3nn\n",
        "torch.serialization.add_safe_globals([slice])  # Allow the 'slice'\n",
        "\n",
        "import torch.nn.functional\n",
        "from e3nn import o3\n",
        "from matplotlib import pyplot as plt\n",
        "\n",
        "from ase.io import read, write\n",
        "\n",
        "from mace import data, modules, tools\n",
        "from mace.tools import torch_geometric\n",
        "torch.set_default_dtype(torch.float64)\n",
        "\n",
        "import warnings\n",
        "warnings.filterwarnings(\"ignore\")\n",
        "\n",
        "from mace.cli.run_train import main as mace_run_train_main\n",
        "import sys\n",
        "import logging"
      ],
      "metadata": {
        "id": "05ZUYWXHxK1d"
      },
      "execution_count": 2,
      "outputs": []
    },
    {
      "cell_type": "code",
      "source": [
        "from typing import Any, Dict, Optional\n",
        "from mace.tools.scatter import scatter_sum\n",
        "from mace.modules.blocks import (\n",
        "    LinearReadoutBlock,\n",
        "    ScaleShiftBlock,\n",
        ")\n",
        "from mace.modules.utils import (\n",
        "    get_edge_vectors_and_lengths,\n",
        "    get_symmetric_displacement,\n",
        ")\n",
        "from mace.modules.models import (\n",
        "    MACE,\n",
        "    ScaleShiftFieldMACE\n",
        ")"
      ],
      "metadata": {
        "id": "WCm8DnDny9ju"
      },
      "execution_count": 3,
      "outputs": []
    },
    {
      "cell_type": "markdown",
      "source": [
        "## Write Config for the Model"
      ],
      "metadata": {
        "id": "mFPPYvCN9a6e"
      }
    },
    {
      "cell_type": "code",
      "source": [
        "training_atoms = read(\"data/ferroelectric/ferroelectric_train_2040.xyz\", \":\")[:1]\n",
        "validation_atoms = read(\"data/ferroelectric/ferroelectric_valid.xyz\", \":\")[:1]\n",
        "test_atoms = read(\"data/ferroelectric/ferroelectric_test.xyz\", \":\")[:1]\n",
        "write(\"data/training_dataset.xyz\", training_atoms)\n",
        "write(\"data/validation_dataset.xyz\", validation_atoms)\n",
        "write(\"data/test_dataset.xyz\", test_atoms)"
      ],
      "metadata": {
        "id": "h2yz1bKJo6tG"
      },
      "execution_count": 11,
      "outputs": []
    },
    {
      "cell_type": "code",
      "source": [
        "%%writefile train_mace_field.yml\n",
        "\n",
        "name: \"mace_field\"\n",
        "train_file: \"data/training_dataset.xyz\"\n",
        "test_file: \"data/validation_dataset.xyz\"\n",
        "valid_file: \"data/test_dataset.xyz\"\n",
        "E0s: \"average\"\n",
        "loss: \"universal_field\"\n",
        "energy_weight: 0.0\n",
        "forces_weight: 0.0\n",
        "stress_weight: 0.0\n",
        "bec_weight: 0.0\n",
        "polarisability_weight: 0.0\n",
        "polarisation_weight: 1e7\n",
        "compute_field: True\n",
        "eval_interval: 1\n",
        "error_table: \"PerAtomRMSEstressvirialsfield\"\n",
        "model: \"ScaleShiftFieldMACE\"\n",
        "interaction_first: \"RealAgnosticResidualInteractionBlock\"\n",
        "interaction: \"RealAgnosticResidualInteractionBlock\"\n",
        "num_interactions: 2\n",
        "correlation: 3\n",
        "r_max: 6.0\n",
        "max_L: 1\n",
        "max_ell: 3\n",
        "num_channels: 128\n",
        "num_radial_basis: 10\n",
        "MLP_irreps: \"16x0e\"\n",
        "num_workers: 1\n",
        "lr: 0.05\n",
        "weight_decay: 1e-8\n",
        "batch_size: 1\n",
        "valid_batch_size: 1\n",
        "max_num_epochs: 50\n",
        "device: cuda\n",
        "seed: 1"
      ],
      "metadata": {
        "id": "O1tltlQf1Ezc",
        "colab": {
          "base_uri": "https://localhost:8080/"
        },
        "outputId": "cdf0c811-c819-4c7e-872a-a96eace7de2d"
      },
      "execution_count": 8,
      "outputs": [
        {
          "output_type": "stream",
          "name": "stdout",
          "text": [
            "Overwriting train_polarisation.yml\n"
          ]
        }
      ]
    },
    {
      "cell_type": "markdown",
      "source": [
        "## Training a MACE Field model"
      ],
      "metadata": {
        "id": "Jxp1cXk6q3DF"
      }
    },
    {
      "cell_type": "code",
      "source": [
        "def train_mace_field(config_file_path):\n",
        "    logging.getLogger().handlers.clear()\n",
        "    sys.argv = [\"program\", \"--config\", config_file_path]\n",
        "    mace_run_train_main()"
      ],
      "metadata": {
        "id": "cXyn3ar-rD39"
      },
      "execution_count": 9,
      "outputs": []
    },
    {
      "cell_type": "code",
      "source": [
        "# train_mace_field(\"train_mace_field.yml\")"
      ],
      "metadata": {
        "id": "ATPnMBN4rKYz",
        "colab": {
          "base_uri": "https://localhost:8080/",
          "height": 1000
        },
        "outputId": "53bcb108-796a-46ad-868d-7b514cc846ca"
      },
      "execution_count": 10,
      "outputs": [
        {
          "output_type": "stream",
          "name": "stdout",
          "text": [
            "2025-04-16 08:39:04.166 INFO: ===========VERIFYING SETTINGS===========\n",
            "2025-04-16 08:39:04.167 INFO: MACE version: 0.3.10\n",
            "2025-04-16 08:39:04.168 INFO: CUDA version: 12.4, CUDA device: 0\n",
            "2025-04-16 08:39:04.173 INFO: ===========LOADING INPUT DATA===========\n",
            "2025-04-16 08:39:04.174 INFO: Using heads: ['default']\n",
            "2025-04-16 08:39:04.175 INFO: =============    Processing head default     ===========\n",
            "2025-04-16 08:39:04.181 INFO: Training set [1 configs, 1 energy, 252 forces] loaded from 'data/ferroelectric/ferroelectric_train_1.xyz'\n",
            "2025-04-16 08:39:04.185 INFO: Validation set [1 configs, 1 energy, 132 forces] loaded from 'data/ferroelectric/ferroelectric_valid_1.xyz'\n",
            "2025-04-16 08:39:04.189 INFO: Test set (1 configs) loaded from 'data/ferroelectric/ferroelectric_test_1.xyz':\n",
            "2025-04-16 08:39:04.190 INFO: Default_default: 1 configs, 1 energy, 120 forces\n",
            "2025-04-16 08:39:04.192 INFO: Total number of configurations: train=1, valid=1, tests=[Default_default: 1],\n",
            "2025-04-16 08:39:04.193 INFO: Atomic Numbers used: [np.int64(3), np.int64(6), np.int64(8), np.int64(17), np.int64(27), np.int64(30), np.int64(37)]\n",
            "2025-04-16 08:39:04.195 INFO: Isolated Atomic Energies (E0s) not in training file, using command line argument\n",
            "2025-04-16 08:39:04.196 INFO: Computing average Atomic Energies using least squares regression\n",
            "2025-04-16 08:39:04.198 INFO: Atomic Energies used (z: eV) for head default: {3: 0.0, 6: 0.0, 8: 0.0, 17: -4.234004974603174, 27: 0.0, 30: -1.0585012436507935, 37: -2.117002487301587}\n",
            "2025-04-16 08:39:04.212 INFO: Computing average number of neighbors\n",
            "2025-04-16 08:39:04.315 INFO: Average number of neighbors: 25.238095238095237\n",
            "2025-04-16 08:39:04.317 INFO: During training the following quantities will be reported: energy, forces, virials, stress, polarisation, bec, polarisability\n",
            "2025-04-16 08:39:04.318 INFO: ===========MODEL DETAILS===========\n",
            "2025-04-16 08:39:04.427 INFO: Building model\n",
            "2025-04-16 08:39:04.429 INFO: Message passing with 128 channels and max_L=1 (128x0e+128x1o)\n",
            "2025-04-16 08:39:04.430 INFO: 2 layers, each with correlation order: 3 (body order: 4) and spherical harmonics up to: l=3\n",
            "2025-04-16 08:39:04.432 INFO: 10 radial and 5 basis functions\n",
            "2025-04-16 08:39:04.433 INFO: Radial cutoff: 6.0 A (total receptive field for each atom: 12.0 A)\n",
            "2025-04-16 08:39:04.435 INFO: Distance transform for radial basis functions: None\n",
            "2025-04-16 08:39:04.436 INFO: Hidden irreps: 128x0e+128x1o\n",
            "2025-04-16 08:39:07.200 INFO: Total number of parameters: 917008\n",
            "2025-04-16 08:39:07.201 INFO: \n",
            "2025-04-16 08:39:07.202 INFO: ===========OPTIMIZER INFORMATION===========\n",
            "2025-04-16 08:39:07.203 INFO: Using ADAM as parameter optimizer\n",
            "2025-04-16 08:39:07.204 INFO: Batch size: 1\n",
            "2025-04-16 08:39:07.204 INFO: Number of gradient updates: 50\n",
            "2025-04-16 08:39:07.205 INFO: Learning rate: 0.05, weight decay: 1e-08\n",
            "2025-04-16 08:39:07.206 INFO: UniversalFieldLoss(energy_weight=0.000, forces_weight=0.000, stress_weight=0.000, polarisation_weight=10000000.000, bec_weight=0.000, polarisability_weight=0.000)\n",
            "2025-04-16 08:39:07.207 INFO: Using gradient clipping with tolerance=10.000\n",
            "2025-04-16 08:39:07.208 INFO: \n",
            "2025-04-16 08:39:07.211 INFO: ===========TRAINING===========\n",
            "2025-04-16 08:39:07.212 INFO: Started training, reporting errors on validation set\n",
            "2025-04-16 08:39:07.213 INFO: Loss metrics on validation set\n",
            "2025-04-16 08:39:08.093 INFO: Initial: head: default, loss=168.03075386, RMSE_E_per_atom= 6664.93 meV, RMSE_F=  636.60 meV / A, RMSE_stress= 9299.78 meV / A^3, RMSE_polarisation=  896.46 meV / A^2, RMSE_BEC=    0.00 |e|, RMSE_polarisability=    0.00 A\n",
            "2025-04-16 08:39:10.335 INFO: Epoch 0: head: default, loss=168.04030588, RMSE_E_per_atom= 6664.97 meV, RMSE_F=  636.60 meV / A, RMSE_stress= 9299.78 meV / A^3, RMSE_polarisation=  896.48 meV / A^2, RMSE_BEC=    0.00 |e|, RMSE_polarisability=    0.00 A\n",
            "2025-04-16 08:39:12.543 INFO: Epoch 1: head: default, loss=168.02919909, RMSE_E_per_atom= 6665.01 meV, RMSE_F=  636.59 meV / A, RMSE_stress= 9299.79 meV / A^3, RMSE_polarisation=  896.46 meV / A^2, RMSE_BEC=    0.00 |e|, RMSE_polarisability=    0.00 A\n",
            "2025-04-16 08:39:14.691 INFO: Epoch 2: head: default, loss=168.01749593, RMSE_E_per_atom= 6665.03 meV, RMSE_F=  636.57 meV / A, RMSE_stress= 9299.79 meV / A^3, RMSE_polarisation=  896.45 meV / A^2, RMSE_BEC=    0.00 |e|, RMSE_polarisability=    0.00 A\n",
            "2025-04-16 08:39:16.830 INFO: Epoch 3: head: default, loss=168.03152372, RMSE_E_per_atom= 6665.03 meV, RMSE_F=  636.54 meV / A, RMSE_stress= 9299.79 meV / A^3, RMSE_polarisation=  896.47 meV / A^2, RMSE_BEC=    0.00 |e|, RMSE_polarisability=    0.00 A\n",
            "2025-04-16 08:39:18.986 INFO: Epoch 4: head: default, loss=168.03931812, RMSE_E_per_atom= 6665.00 meV, RMSE_F=  636.51 meV / A, RMSE_stress= 9299.79 meV / A^3, RMSE_polarisation=  896.47 meV / A^2, RMSE_BEC=    0.00 |e|, RMSE_polarisability=    0.00 A\n",
            "2025-04-16 08:39:21.139 INFO: Epoch 5: head: default, loss=168.03399817, RMSE_E_per_atom= 6664.96 meV, RMSE_F=  636.48 meV / A, RMSE_stress= 9299.79 meV / A^3, RMSE_polarisation=  896.47 meV / A^2, RMSE_BEC=    0.00 |e|, RMSE_polarisability=    0.00 A\n",
            "2025-04-16 08:39:23.211 INFO: Epoch 6: head: default, loss=168.01545654, RMSE_E_per_atom= 6664.94 meV, RMSE_F=  636.45 meV / A, RMSE_stress= 9299.79 meV / A^3, RMSE_polarisation=  896.45 meV / A^2, RMSE_BEC=    0.01 |e|, RMSE_polarisability=    0.00 A\n",
            "2025-04-16 08:39:25.353 INFO: Epoch 7: head: default, loss=167.99167209, RMSE_E_per_atom= 6664.95 meV, RMSE_F=  636.41 meV / A, RMSE_stress= 9299.79 meV / A^3, RMSE_polarisation=  896.42 meV / A^2, RMSE_BEC=    0.01 |e|, RMSE_polarisability=    0.00 A\n",
            "2025-04-16 08:39:27.498 INFO: Epoch 8: head: default, loss=167.95763243, RMSE_E_per_atom= 6664.90 meV, RMSE_F=  636.37 meV / A, RMSE_stress= 9299.79 meV / A^3, RMSE_polarisation=  896.38 meV / A^2, RMSE_BEC=    0.01 |e|, RMSE_polarisability=    0.00 A\n",
            "2025-04-16 08:39:29.648 INFO: Epoch 9: head: default, loss=167.92787840, RMSE_E_per_atom= 6664.72 meV, RMSE_F=  636.32 meV / A, RMSE_stress= 9299.78 meV / A^3, RMSE_polarisation=  896.35 meV / A^2, RMSE_BEC=    0.02 |e|, RMSE_polarisability=    0.00 A\n",
            "2025-04-16 08:39:31.920 INFO: Epoch 10: head: default, loss=167.87367698, RMSE_E_per_atom= 6664.48 meV, RMSE_F=  636.23 meV / A, RMSE_stress= 9299.78 meV / A^3, RMSE_polarisation=  896.29 meV / A^2, RMSE_BEC=    0.02 |e|, RMSE_polarisability=    0.00 A\n",
            "2025-04-16 08:39:34.266 INFO: Epoch 11: head: default, loss=167.91304446, RMSE_E_per_atom= 6664.70 meV, RMSE_F=  636.31 meV / A, RMSE_stress= 9299.79 meV / A^3, RMSE_polarisation=  896.33 meV / A^2, RMSE_BEC=    0.02 |e|, RMSE_polarisability=    0.00 A\n",
            "2025-04-16 08:39:36.491 INFO: Epoch 12: head: default, loss=167.94390872, RMSE_E_per_atom= 6664.86 meV, RMSE_F=  636.35 meV / A, RMSE_stress= 9299.79 meV / A^3, RMSE_polarisation=  896.37 meV / A^2, RMSE_BEC=    0.01 |e|, RMSE_polarisability=    0.00 A\n",
            "2025-04-16 08:39:38.566 INFO: Epoch 13: head: default, loss=167.97077738, RMSE_E_per_atom= 6664.98 meV, RMSE_F=  636.38 meV / A, RMSE_stress= 9299.79 meV / A^3, RMSE_polarisation=  896.40 meV / A^2, RMSE_BEC=    0.01 |e|, RMSE_polarisability=    0.00 A\n",
            "2025-04-16 08:39:40.645 INFO: Epoch 14: head: default, loss=167.99417092, RMSE_E_per_atom= 6665.06 meV, RMSE_F=  636.39 meV / A, RMSE_stress= 9299.78 meV / A^3, RMSE_polarisation=  896.42 meV / A^2, RMSE_BEC=    0.01 |e|, RMSE_polarisability=    0.00 A\n",
            "2025-04-16 08:39:42.809 INFO: Epoch 15: head: default, loss=168.01446883, RMSE_E_per_atom= 6665.12 meV, RMSE_F=  636.41 meV / A, RMSE_stress= 9299.78 meV / A^3, RMSE_polarisation=  896.45 meV / A^2, RMSE_BEC=    0.01 |e|, RMSE_polarisability=    0.00 A\n",
            "2025-04-16 08:39:44.947 INFO: Epoch 16: head: default, loss=168.03179103, RMSE_E_per_atom= 6665.17 meV, RMSE_F=  636.42 meV / A, RMSE_stress= 9299.78 meV / A^3, RMSE_polarisation=  896.47 meV / A^2, RMSE_BEC=    0.01 |e|, RMSE_polarisability=    0.00 A\n",
            "2025-04-16 08:39:47.024 INFO: Epoch 17: head: default, loss=168.04629139, RMSE_E_per_atom= 6665.20 meV, RMSE_F=  636.43 meV / A, RMSE_stress= 9299.78 meV / A^3, RMSE_polarisation=  896.48 meV / A^2, RMSE_BEC=    0.01 |e|, RMSE_polarisability=    0.00 A\n",
            "2025-04-16 08:39:49.120 INFO: Epoch 18: head: default, loss=168.05817556, RMSE_E_per_atom= 6665.23 meV, RMSE_F=  636.43 meV / A, RMSE_stress= 9299.78 meV / A^3, RMSE_polarisation=  896.50 meV / A^2, RMSE_BEC=    0.01 |e|, RMSE_polarisability=    0.00 A\n",
            "2025-04-16 08:39:51.212 INFO: Epoch 19: head: default, loss=168.06762000, RMSE_E_per_atom= 6665.25 meV, RMSE_F=  636.44 meV / A, RMSE_stress= 9299.78 meV / A^3, RMSE_polarisation=  896.51 meV / A^2, RMSE_BEC=    0.01 |e|, RMSE_polarisability=    0.00 A\n",
            "2025-04-16 08:39:53.287 INFO: Epoch 20: head: default, loss=168.07480956, RMSE_E_per_atom= 6665.27 meV, RMSE_F=  636.44 meV / A, RMSE_stress= 9299.78 meV / A^3, RMSE_polarisation=  896.51 meV / A^2, RMSE_BEC=    0.01 |e|, RMSE_polarisability=    0.00 A\n",
            "2025-04-16 08:39:55.456 INFO: Epoch 21: head: default, loss=168.07981550, RMSE_E_per_atom= 6665.29 meV, RMSE_F=  636.44 meV / A, RMSE_stress= 9299.78 meV / A^3, RMSE_polarisation=  896.52 meV / A^2, RMSE_BEC=    0.01 |e|, RMSE_polarisability=    0.00 A\n",
            "2025-04-16 08:39:57.600 INFO: Epoch 22: head: default, loss=168.08255270, RMSE_E_per_atom= 6665.31 meV, RMSE_F=  636.44 meV / A, RMSE_stress= 9299.78 meV / A^3, RMSE_polarisation=  896.52 meV / A^2, RMSE_BEC=    0.02 |e|, RMSE_polarisability=    0.00 A\n",
            "2025-04-16 08:39:59.667 INFO: Epoch 23: head: default, loss=168.08268908, RMSE_E_per_atom= 6665.32 meV, RMSE_F=  636.43 meV / A, RMSE_stress= 9299.78 meV / A^3, RMSE_polarisation=  896.52 meV / A^2, RMSE_BEC=    0.02 |e|, RMSE_polarisability=    0.00 A\n",
            "2025-04-16 08:40:01.741 INFO: Epoch 24: head: default, loss=168.07955498, RMSE_E_per_atom= 6665.34 meV, RMSE_F=  636.42 meV / A, RMSE_stress= 9299.77 meV / A^3, RMSE_polarisation=  896.52 meV / A^2, RMSE_BEC=    0.02 |e|, RMSE_polarisability=    0.00 A\n",
            "2025-04-16 08:40:03.821 INFO: Epoch 25: head: default, loss=168.07183221, RMSE_E_per_atom= 6665.36 meV, RMSE_F=  636.40 meV / A, RMSE_stress= 9299.77 meV / A^3, RMSE_polarisation=  896.51 meV / A^2, RMSE_BEC=    0.03 |e|, RMSE_polarisability=    0.00 A\n",
            "2025-04-16 08:40:05.891 INFO: Epoch 26: head: default, loss=168.06224366, RMSE_E_per_atom= 6665.39 meV, RMSE_F=  636.39 meV / A, RMSE_stress= 9299.77 meV / A^3, RMSE_polarisation=  896.50 meV / A^2, RMSE_BEC=    0.03 |e|, RMSE_polarisability=    0.00 A\n",
            "2025-04-16 08:40:08.459 INFO: Epoch 27: head: default, loss=168.05472492, RMSE_E_per_atom= 6665.40 meV, RMSE_F=  636.38 meV / A, RMSE_stress= 9299.77 meV / A^3, RMSE_polarisation=  896.49 meV / A^2, RMSE_BEC=    0.04 |e|, RMSE_polarisability=    0.00 A\n",
            "2025-04-16 08:40:10.567 INFO: Epoch 28: head: default, loss=168.06648602, RMSE_E_per_atom= 6665.40 meV, RMSE_F=  636.41 meV / A, RMSE_stress= 9299.77 meV / A^3, RMSE_polarisation=  896.51 meV / A^2, RMSE_BEC=    0.03 |e|, RMSE_polarisability=    0.00 A\n",
            "2025-04-16 08:40:12.655 INFO: Epoch 29: head: default, loss=168.07533010, RMSE_E_per_atom= 6665.39 meV, RMSE_F=  636.43 meV / A, RMSE_stress= 9299.77 meV / A^3, RMSE_polarisation=  896.52 meV / A^2, RMSE_BEC=    0.03 |e|, RMSE_polarisability=    0.00 A\n",
            "2025-04-16 08:40:14.735 INFO: Epoch 30: head: default, loss=168.08097366, RMSE_E_per_atom= 6665.39 meV, RMSE_F=  636.45 meV / A, RMSE_stress= 9299.78 meV / A^3, RMSE_polarisation=  896.52 meV / A^2, RMSE_BEC=    0.02 |e|, RMSE_polarisability=    0.00 A\n",
            "2025-04-16 08:40:16.823 INFO: Epoch 31: head: default, loss=168.08445475, RMSE_E_per_atom= 6665.38 meV, RMSE_F=  636.46 meV / A, RMSE_stress= 9299.78 meV / A^3, RMSE_polarisation=  896.53 meV / A^2, RMSE_BEC=    0.02 |e|, RMSE_polarisability=    0.00 A\n",
            "2025-04-16 08:40:18.970 INFO: Epoch 32: head: default, loss=168.08683370, RMSE_E_per_atom= 6665.39 meV, RMSE_F=  636.46 meV / A, RMSE_stress= 9299.78 meV / A^3, RMSE_polarisation=  896.53 meV / A^2, RMSE_BEC=    0.02 |e|, RMSE_polarisability=    0.00 A\n",
            "2025-04-16 08:40:21.181 INFO: Epoch 33: head: default, loss=168.08870213, RMSE_E_per_atom= 6665.39 meV, RMSE_F=  636.47 meV / A, RMSE_stress= 9299.78 meV / A^3, RMSE_polarisation=  896.53 meV / A^2, RMSE_BEC=    0.02 |e|, RMSE_polarisability=    0.00 A\n",
            "2025-04-16 08:40:23.273 INFO: Epoch 34: head: default, loss=168.09016217, RMSE_E_per_atom= 6665.40 meV, RMSE_F=  636.48 meV / A, RMSE_stress= 9299.78 meV / A^3, RMSE_polarisation=  896.53 meV / A^2, RMSE_BEC=    0.02 |e|, RMSE_polarisability=    0.00 A\n",
            "2025-04-16 08:40:25.374 INFO: Epoch 35: head: default, loss=168.09106407, RMSE_E_per_atom= 6665.41 meV, RMSE_F=  636.49 meV / A, RMSE_stress= 9299.78 meV / A^3, RMSE_polarisation=  896.53 meV / A^2, RMSE_BEC=    0.02 |e|, RMSE_polarisability=    0.00 A\n",
            "2025-04-16 08:40:27.489 INFO: Epoch 36: head: default, loss=168.09121294, RMSE_E_per_atom= 6665.42 meV, RMSE_F=  636.49 meV / A, RMSE_stress= 9299.78 meV / A^3, RMSE_polarisation=  896.53 meV / A^2, RMSE_BEC=    0.02 |e|, RMSE_polarisability=    0.00 A\n",
            "2025-04-16 08:40:29.593 INFO: Epoch 37: head: default, loss=168.09036863, RMSE_E_per_atom= 6665.44 meV, RMSE_F=  636.50 meV / A, RMSE_stress= 9299.78 meV / A^3, RMSE_polarisation=  896.53 meV / A^2, RMSE_BEC=    0.02 |e|, RMSE_polarisability=    0.00 A\n",
            "2025-04-16 08:40:31.790 INFO: Epoch 38: head: default, loss=168.08840872, RMSE_E_per_atom= 6665.45 meV, RMSE_F=  636.50 meV / A, RMSE_stress= 9299.78 meV / A^3, RMSE_polarisation=  896.53 meV / A^2, RMSE_BEC=    0.02 |e|, RMSE_polarisability=    0.00 A\n",
            "2025-04-16 08:40:33.936 INFO: Epoch 39: head: default, loss=168.08525513, RMSE_E_per_atom= 6665.46 meV, RMSE_F=  636.50 meV / A, RMSE_stress= 9299.78 meV / A^3, RMSE_polarisation=  896.53 meV / A^2, RMSE_BEC=    0.02 |e|, RMSE_polarisability=    0.00 A\n",
            "2025-04-16 08:40:36.053 INFO: Epoch 40: head: default, loss=168.08101714, RMSE_E_per_atom= 6665.48 meV, RMSE_F=  636.50 meV / A, RMSE_stress= 9299.78 meV / A^3, RMSE_polarisation=  896.52 meV / A^2, RMSE_BEC=    0.02 |e|, RMSE_polarisability=    0.00 A\n",
            "2025-04-16 08:40:38.165 INFO: Epoch 41: head: default, loss=168.07612005, RMSE_E_per_atom= 6665.49 meV, RMSE_F=  636.49 meV / A, RMSE_stress= 9299.78 meV / A^3, RMSE_polarisation=  896.52 meV / A^2, RMSE_BEC=    0.02 |e|, RMSE_polarisability=    0.00 A\n",
            "2025-04-16 08:40:40.267 INFO: Epoch 42: head: default, loss=168.07134098, RMSE_E_per_atom= 6665.51 meV, RMSE_F=  636.49 meV / A, RMSE_stress= 9299.78 meV / A^3, RMSE_polarisation=  896.51 meV / A^2, RMSE_BEC=    0.03 |e|, RMSE_polarisability=    0.00 A\n",
            "2025-04-16 08:40:42.378 INFO: Epoch 43: head: default, loss=168.06689329, RMSE_E_per_atom= 6665.53 meV, RMSE_F=  636.47 meV / A, RMSE_stress= 9299.78 meV / A^3, RMSE_polarisation=  896.51 meV / A^2, RMSE_BEC=    0.03 |e|, RMSE_polarisability=    0.00 A\n",
            "2025-04-16 08:40:44.581 INFO: Epoch 44: head: default, loss=168.06187210, RMSE_E_per_atom= 6665.54 meV, RMSE_F=  636.46 meV / A, RMSE_stress= 9299.78 meV / A^3, RMSE_polarisation=  896.50 meV / A^2, RMSE_BEC=    0.03 |e|, RMSE_polarisability=    0.00 A\n",
            "2025-04-16 08:40:46.739 INFO: Epoch 45: head: default, loss=168.05585247, RMSE_E_per_atom= 6665.56 meV, RMSE_F=  636.44 meV / A, RMSE_stress= 9299.78 meV / A^3, RMSE_polarisation=  896.49 meV / A^2, RMSE_BEC=    0.03 |e|, RMSE_polarisability=    0.00 A\n",
            "2025-04-16 08:40:48.828 INFO: Epoch 46: head: default, loss=168.05000686, RMSE_E_per_atom= 6665.57 meV, RMSE_F=  636.43 meV / A, RMSE_stress= 9299.78 meV / A^3, RMSE_polarisation=  896.49 meV / A^2, RMSE_BEC=    0.03 |e|, RMSE_polarisability=    0.00 A\n",
            "2025-04-16 08:40:50.928 INFO: Epoch 47: head: default, loss=168.04668432, RMSE_E_per_atom= 6665.59 meV, RMSE_F=  636.41 meV / A, RMSE_stress= 9299.78 meV / A^3, RMSE_polarisation=  896.48 meV / A^2, RMSE_BEC=    0.03 |e|, RMSE_polarisability=    0.00 A\n",
            "2025-04-16 08:40:53.019 INFO: Epoch 48: head: default, loss=168.04616912, RMSE_E_per_atom= 6665.60 meV, RMSE_F=  636.41 meV / A, RMSE_stress= 9299.78 meV / A^3, RMSE_polarisation=  896.48 meV / A^2, RMSE_BEC=    0.03 |e|, RMSE_polarisability=    0.00 A\n",
            "2025-04-16 08:40:55.132 INFO: Epoch 49: head: default, loss=168.04591897, RMSE_E_per_atom= 6665.61 meV, RMSE_F=  636.40 meV / A, RMSE_stress= 9299.78 meV / A^3, RMSE_polarisation=  896.48 meV / A^2, RMSE_BEC=    0.03 |e|, RMSE_polarisability=    0.00 A\n",
            "2025-04-16 08:40:55.136 INFO: Training complete\n",
            "2025-04-16 08:40:55.137 INFO: \n",
            "2025-04-16 08:40:55.140 INFO: ===========RESULTS===========\n",
            "2025-04-16 08:40:55.141 INFO: Computing metrics for training, validation, and test sets\n"
          ]
        },
        {
          "output_type": "error",
          "ename": "ValueError",
          "evalue": "np.int64(11) is not in list",
          "traceback": [
            "\u001b[0;31m---------------------------------------------------------------------------\u001b[0m",
            "\u001b[0;31mValueError\u001b[0m                                Traceback (most recent call last)",
            "\u001b[0;32m<ipython-input-10-7652e49d23d7>\u001b[0m in \u001b[0;36m<cell line: 0>\u001b[0;34m()\u001b[0m\n\u001b[0;32m----> 1\u001b[0;31m \u001b[0mtrain_mace_field\u001b[0m\u001b[0;34m(\u001b[0m\u001b[0;34m\"train_polarisation.yml\"\u001b[0m\u001b[0;34m)\u001b[0m\u001b[0;34m\u001b[0m\u001b[0;34m\u001b[0m\u001b[0m\n\u001b[0m",
            "\u001b[0;32m<ipython-input-9-dd93872b1359>\u001b[0m in \u001b[0;36mtrain_mace_field\u001b[0;34m(config_file_path)\u001b[0m\n\u001b[1;32m      2\u001b[0m     \u001b[0mlogging\u001b[0m\u001b[0;34m.\u001b[0m\u001b[0mgetLogger\u001b[0m\u001b[0;34m(\u001b[0m\u001b[0;34m)\u001b[0m\u001b[0;34m.\u001b[0m\u001b[0mhandlers\u001b[0m\u001b[0;34m.\u001b[0m\u001b[0mclear\u001b[0m\u001b[0;34m(\u001b[0m\u001b[0;34m)\u001b[0m\u001b[0;34m\u001b[0m\u001b[0;34m\u001b[0m\u001b[0m\n\u001b[1;32m      3\u001b[0m     \u001b[0msys\u001b[0m\u001b[0;34m.\u001b[0m\u001b[0margv\u001b[0m \u001b[0;34m=\u001b[0m \u001b[0;34m[\u001b[0m\u001b[0;34m\"program\"\u001b[0m\u001b[0;34m,\u001b[0m \u001b[0;34m\"--config\"\u001b[0m\u001b[0;34m,\u001b[0m \u001b[0mconfig_file_path\u001b[0m\u001b[0;34m]\u001b[0m\u001b[0;34m\u001b[0m\u001b[0;34m\u001b[0m\u001b[0m\n\u001b[0;32m----> 4\u001b[0;31m     \u001b[0mmace_run_train_main\u001b[0m\u001b[0;34m(\u001b[0m\u001b[0;34m)\u001b[0m\u001b[0;34m\u001b[0m\u001b[0;34m\u001b[0m\u001b[0m\n\u001b[0m",
            "\u001b[0;32m/usr/local/lib/python3.11/dist-packages/mace/cli/run_train.py\u001b[0m in \u001b[0;36mmain\u001b[0;34m()\u001b[0m\n\u001b[1;32m     80\u001b[0m         \u001b[0mmp\u001b[0m\u001b[0;34m.\u001b[0m\u001b[0mspawn\u001b[0m\u001b[0;34m(\u001b[0m\u001b[0mrun\u001b[0m\u001b[0;34m,\u001b[0m \u001b[0margs\u001b[0m\u001b[0;34m=\u001b[0m\u001b[0;34m(\u001b[0m\u001b[0margs\u001b[0m\u001b[0;34m,\u001b[0m \u001b[0mworld_size\u001b[0m\u001b[0;34m,\u001b[0m \u001b[0mport\u001b[0m\u001b[0;34m)\u001b[0m\u001b[0;34m,\u001b[0m \u001b[0mnprocs\u001b[0m\u001b[0;34m=\u001b[0m\u001b[0mworld_size\u001b[0m\u001b[0;34m)\u001b[0m\u001b[0;34m\u001b[0m\u001b[0;34m\u001b[0m\u001b[0m\n\u001b[1;32m     81\u001b[0m     \u001b[0;32melse\u001b[0m\u001b[0;34m:\u001b[0m\u001b[0;34m\u001b[0m\u001b[0;34m\u001b[0m\u001b[0m\n\u001b[0;32m---> 82\u001b[0;31m         \u001b[0mrun\u001b[0m\u001b[0;34m(\u001b[0m\u001b[0;36m0\u001b[0m\u001b[0;34m,\u001b[0m \u001b[0margs\u001b[0m\u001b[0;34m,\u001b[0m \u001b[0;36m1\u001b[0m\u001b[0;34m,\u001b[0m \u001b[0;36m1\u001b[0m\u001b[0;34m)\u001b[0m\u001b[0;34m\u001b[0m\u001b[0;34m\u001b[0m\u001b[0m\n\u001b[0m\u001b[1;32m     83\u001b[0m \u001b[0;34m\u001b[0m\u001b[0m\n\u001b[1;32m     84\u001b[0m \u001b[0;32mdef\u001b[0m \u001b[0mrun\u001b[0m\u001b[0;34m(\u001b[0m\u001b[0mrank\u001b[0m\u001b[0;34m:\u001b[0m \u001b[0mint\u001b[0m\u001b[0;34m,\u001b[0m \u001b[0margs\u001b[0m\u001b[0;34m:\u001b[0m \u001b[0margparse\u001b[0m\u001b[0;34m.\u001b[0m\u001b[0mNamespace\u001b[0m\u001b[0;34m,\u001b[0m \u001b[0mworld_size\u001b[0m\u001b[0;34m:\u001b[0m \u001b[0mint\u001b[0m\u001b[0;34m,\u001b[0m \u001b[0mport\u001b[0m\u001b[0;34m:\u001b[0m \u001b[0mint\u001b[0m\u001b[0;34m)\u001b[0m \u001b[0;34m->\u001b[0m \u001b[0;32mNone\u001b[0m\u001b[0;34m:\u001b[0m\u001b[0;34m\u001b[0m\u001b[0;34m\u001b[0m\u001b[0m\n",
            "\u001b[0;32m/usr/local/lib/python3.11/dist-packages/mace/cli/run_train.py\u001b[0m in \u001b[0;36mrun\u001b[0;34m(rank, args, world_size, port)\u001b[0m\n\u001b[1;32m    728\u001b[0m         \u001b[0;32mif\u001b[0m \u001b[0mcheck_path_ase_read\u001b[0m\u001b[0;34m(\u001b[0m\u001b[0mhead_config\u001b[0m\u001b[0;34m.\u001b[0m\u001b[0mtrain_file\u001b[0m\u001b[0;34m)\u001b[0m\u001b[0;34m:\u001b[0m\u001b[0;34m\u001b[0m\u001b[0;34m\u001b[0m\u001b[0m\n\u001b[1;32m    729\u001b[0m             \u001b[0;32mfor\u001b[0m \u001b[0mname\u001b[0m\u001b[0;34m,\u001b[0m \u001b[0msubset\u001b[0m \u001b[0;32min\u001b[0m \u001b[0mhead_config\u001b[0m\u001b[0;34m.\u001b[0m\u001b[0mcollections\u001b[0m\u001b[0;34m.\u001b[0m\u001b[0mtests\u001b[0m\u001b[0;34m:\u001b[0m\u001b[0;34m\u001b[0m\u001b[0;34m\u001b[0m\u001b[0m\n\u001b[0;32m--> 730\u001b[0;31m                 test_sets[name] = [\n\u001b[0m\u001b[1;32m    731\u001b[0m                     data.AtomicData.from_config(\n\u001b[1;32m    732\u001b[0m                         \u001b[0mconfig\u001b[0m\u001b[0;34m,\u001b[0m \u001b[0mz_table\u001b[0m\u001b[0;34m=\u001b[0m\u001b[0mz_table\u001b[0m\u001b[0;34m,\u001b[0m \u001b[0mcutoff\u001b[0m\u001b[0;34m=\u001b[0m\u001b[0margs\u001b[0m\u001b[0;34m.\u001b[0m\u001b[0mr_max\u001b[0m\u001b[0;34m,\u001b[0m \u001b[0mheads\u001b[0m\u001b[0;34m=\u001b[0m\u001b[0mheads\u001b[0m\u001b[0;34m\u001b[0m\u001b[0;34m\u001b[0m\u001b[0m\n",
            "\u001b[0;32m/usr/local/lib/python3.11/dist-packages/mace/cli/run_train.py\u001b[0m in \u001b[0;36m<listcomp>\u001b[0;34m(.0)\u001b[0m\n\u001b[1;32m    729\u001b[0m             \u001b[0;32mfor\u001b[0m \u001b[0mname\u001b[0m\u001b[0;34m,\u001b[0m \u001b[0msubset\u001b[0m \u001b[0;32min\u001b[0m \u001b[0mhead_config\u001b[0m\u001b[0;34m.\u001b[0m\u001b[0mcollections\u001b[0m\u001b[0;34m.\u001b[0m\u001b[0mtests\u001b[0m\u001b[0;34m:\u001b[0m\u001b[0;34m\u001b[0m\u001b[0;34m\u001b[0m\u001b[0m\n\u001b[1;32m    730\u001b[0m                 test_sets[name] = [\n\u001b[0;32m--> 731\u001b[0;31m                     data.AtomicData.from_config(\n\u001b[0m\u001b[1;32m    732\u001b[0m                         \u001b[0mconfig\u001b[0m\u001b[0;34m,\u001b[0m \u001b[0mz_table\u001b[0m\u001b[0;34m=\u001b[0m\u001b[0mz_table\u001b[0m\u001b[0;34m,\u001b[0m \u001b[0mcutoff\u001b[0m\u001b[0;34m=\u001b[0m\u001b[0margs\u001b[0m\u001b[0;34m.\u001b[0m\u001b[0mr_max\u001b[0m\u001b[0;34m,\u001b[0m \u001b[0mheads\u001b[0m\u001b[0;34m=\u001b[0m\u001b[0mheads\u001b[0m\u001b[0;34m\u001b[0m\u001b[0;34m\u001b[0m\u001b[0m\n\u001b[1;32m    733\u001b[0m                     )\n",
            "\u001b[0;32m/usr/local/lib/python3.11/dist-packages/mace/data/atomic_data.py\u001b[0m in \u001b[0;36mfrom_config\u001b[0;34m(cls, config, z_table, cutoff, heads)\u001b[0m\n\u001b[1;32m    151\u001b[0m             \u001b[0mpositions\u001b[0m\u001b[0;34m=\u001b[0m\u001b[0mconfig\u001b[0m\u001b[0;34m.\u001b[0m\u001b[0mpositions\u001b[0m\u001b[0;34m,\u001b[0m \u001b[0mcutoff\u001b[0m\u001b[0;34m=\u001b[0m\u001b[0mcutoff\u001b[0m\u001b[0;34m,\u001b[0m \u001b[0mpbc\u001b[0m\u001b[0;34m=\u001b[0m\u001b[0mconfig\u001b[0m\u001b[0;34m.\u001b[0m\u001b[0mpbc\u001b[0m\u001b[0;34m,\u001b[0m \u001b[0mcell\u001b[0m\u001b[0;34m=\u001b[0m\u001b[0mconfig\u001b[0m\u001b[0;34m.\u001b[0m\u001b[0mcell\u001b[0m\u001b[0;34m\u001b[0m\u001b[0;34m\u001b[0m\u001b[0m\n\u001b[1;32m    152\u001b[0m         )\n\u001b[0;32m--> 153\u001b[0;31m         \u001b[0mindices\u001b[0m \u001b[0;34m=\u001b[0m \u001b[0matomic_numbers_to_indices\u001b[0m\u001b[0;34m(\u001b[0m\u001b[0mconfig\u001b[0m\u001b[0;34m.\u001b[0m\u001b[0matomic_numbers\u001b[0m\u001b[0;34m,\u001b[0m \u001b[0mz_table\u001b[0m\u001b[0;34m=\u001b[0m\u001b[0mz_table\u001b[0m\u001b[0;34m)\u001b[0m\u001b[0;34m\u001b[0m\u001b[0;34m\u001b[0m\u001b[0m\n\u001b[0m\u001b[1;32m    154\u001b[0m         one_hot = to_one_hot(\n\u001b[1;32m    155\u001b[0m             \u001b[0mtorch\u001b[0m\u001b[0;34m.\u001b[0m\u001b[0mtensor\u001b[0m\u001b[0;34m(\u001b[0m\u001b[0mindices\u001b[0m\u001b[0;34m,\u001b[0m \u001b[0mdtype\u001b[0m\u001b[0;34m=\u001b[0m\u001b[0mtorch\u001b[0m\u001b[0;34m.\u001b[0m\u001b[0mlong\u001b[0m\u001b[0;34m)\u001b[0m\u001b[0;34m.\u001b[0m\u001b[0munsqueeze\u001b[0m\u001b[0;34m(\u001b[0m\u001b[0;34m-\u001b[0m\u001b[0;36m1\u001b[0m\u001b[0;34m)\u001b[0m\u001b[0;34m,\u001b[0m\u001b[0;34m\u001b[0m\u001b[0;34m\u001b[0m\u001b[0m\n",
            "\u001b[0;32m/usr/local/lib/python3.11/dist-packages/mace/tools/utils.py\u001b[0m in \u001b[0;36matomic_numbers_to_indices\u001b[0;34m(atomic_numbers, z_table)\u001b[0m\n\u001b[1;32m    119\u001b[0m ) -> np.ndarray:\n\u001b[1;32m    120\u001b[0m     \u001b[0mto_index_fn\u001b[0m \u001b[0;34m=\u001b[0m \u001b[0mnp\u001b[0m\u001b[0;34m.\u001b[0m\u001b[0mvectorize\u001b[0m\u001b[0;34m(\u001b[0m\u001b[0mz_table\u001b[0m\u001b[0;34m.\u001b[0m\u001b[0mz_to_index\u001b[0m\u001b[0;34m)\u001b[0m\u001b[0;34m\u001b[0m\u001b[0;34m\u001b[0m\u001b[0m\n\u001b[0;32m--> 121\u001b[0;31m     \u001b[0;32mreturn\u001b[0m \u001b[0mto_index_fn\u001b[0m\u001b[0;34m(\u001b[0m\u001b[0matomic_numbers\u001b[0m\u001b[0;34m)\u001b[0m\u001b[0;34m\u001b[0m\u001b[0;34m\u001b[0m\u001b[0m\n\u001b[0m\u001b[1;32m    122\u001b[0m \u001b[0;34m\u001b[0m\u001b[0m\n\u001b[1;32m    123\u001b[0m \u001b[0;34m\u001b[0m\u001b[0m\n",
            "\u001b[0;32m/usr/local/lib/python3.11/dist-packages/numpy/lib/_function_base_impl.py\u001b[0m in \u001b[0;36m__call__\u001b[0;34m(self, *args, **kwargs)\u001b[0m\n\u001b[1;32m   2395\u001b[0m             \u001b[0;32mreturn\u001b[0m \u001b[0mself\u001b[0m\u001b[0;34m\u001b[0m\u001b[0;34m\u001b[0m\u001b[0m\n\u001b[1;32m   2396\u001b[0m \u001b[0;34m\u001b[0m\u001b[0m\n\u001b[0;32m-> 2397\u001b[0;31m         \u001b[0;32mreturn\u001b[0m \u001b[0mself\u001b[0m\u001b[0;34m.\u001b[0m\u001b[0m_call_as_normal\u001b[0m\u001b[0;34m(\u001b[0m\u001b[0;34m*\u001b[0m\u001b[0margs\u001b[0m\u001b[0;34m,\u001b[0m \u001b[0;34m**\u001b[0m\u001b[0mkwargs\u001b[0m\u001b[0;34m)\u001b[0m\u001b[0;34m\u001b[0m\u001b[0;34m\u001b[0m\u001b[0m\n\u001b[0m\u001b[1;32m   2398\u001b[0m \u001b[0;34m\u001b[0m\u001b[0m\n\u001b[1;32m   2399\u001b[0m     \u001b[0;32mdef\u001b[0m \u001b[0m_get_ufunc_and_otypes\u001b[0m\u001b[0;34m(\u001b[0m\u001b[0mself\u001b[0m\u001b[0;34m,\u001b[0m \u001b[0mfunc\u001b[0m\u001b[0;34m,\u001b[0m \u001b[0margs\u001b[0m\u001b[0;34m)\u001b[0m\u001b[0;34m:\u001b[0m\u001b[0;34m\u001b[0m\u001b[0;34m\u001b[0m\u001b[0m\n",
            "\u001b[0;32m/usr/local/lib/python3.11/dist-packages/numpy/lib/_function_base_impl.py\u001b[0m in \u001b[0;36m_call_as_normal\u001b[0;34m(self, *args, **kwargs)\u001b[0m\n\u001b[1;32m   2388\u001b[0m             \u001b[0mvargs\u001b[0m\u001b[0;34m.\u001b[0m\u001b[0mextend\u001b[0m\u001b[0;34m(\u001b[0m\u001b[0;34m[\u001b[0m\u001b[0mkwargs\u001b[0m\u001b[0;34m[\u001b[0m\u001b[0m_n\u001b[0m\u001b[0;34m]\u001b[0m \u001b[0;32mfor\u001b[0m \u001b[0m_n\u001b[0m \u001b[0;32min\u001b[0m \u001b[0mnames\u001b[0m\u001b[0;34m]\u001b[0m\u001b[0;34m)\u001b[0m\u001b[0;34m\u001b[0m\u001b[0;34m\u001b[0m\u001b[0m\n\u001b[1;32m   2389\u001b[0m \u001b[0;34m\u001b[0m\u001b[0m\n\u001b[0;32m-> 2390\u001b[0;31m         \u001b[0;32mreturn\u001b[0m \u001b[0mself\u001b[0m\u001b[0;34m.\u001b[0m\u001b[0m_vectorize_call\u001b[0m\u001b[0;34m(\u001b[0m\u001b[0mfunc\u001b[0m\u001b[0;34m=\u001b[0m\u001b[0mfunc\u001b[0m\u001b[0;34m,\u001b[0m \u001b[0margs\u001b[0m\u001b[0;34m=\u001b[0m\u001b[0mvargs\u001b[0m\u001b[0;34m)\u001b[0m\u001b[0;34m\u001b[0m\u001b[0;34m\u001b[0m\u001b[0m\n\u001b[0m\u001b[1;32m   2391\u001b[0m \u001b[0;34m\u001b[0m\u001b[0m\n\u001b[1;32m   2392\u001b[0m     \u001b[0;32mdef\u001b[0m \u001b[0m__call__\u001b[0m\u001b[0;34m(\u001b[0m\u001b[0mself\u001b[0m\u001b[0;34m,\u001b[0m \u001b[0;34m*\u001b[0m\u001b[0margs\u001b[0m\u001b[0;34m,\u001b[0m \u001b[0;34m**\u001b[0m\u001b[0mkwargs\u001b[0m\u001b[0;34m)\u001b[0m\u001b[0;34m:\u001b[0m\u001b[0;34m\u001b[0m\u001b[0;34m\u001b[0m\u001b[0m\n",
            "\u001b[0;32m/usr/local/lib/python3.11/dist-packages/numpy/lib/_function_base_impl.py\u001b[0m in \u001b[0;36m_vectorize_call\u001b[0;34m(self, func, args)\u001b[0m\n\u001b[1;32m   2473\u001b[0m             \u001b[0mres\u001b[0m \u001b[0;34m=\u001b[0m \u001b[0mfunc\u001b[0m\u001b[0;34m(\u001b[0m\u001b[0;34m)\u001b[0m\u001b[0;34m\u001b[0m\u001b[0;34m\u001b[0m\u001b[0m\n\u001b[1;32m   2474\u001b[0m         \u001b[0;32melse\u001b[0m\u001b[0;34m:\u001b[0m\u001b[0;34m\u001b[0m\u001b[0;34m\u001b[0m\u001b[0m\n\u001b[0;32m-> 2475\u001b[0;31m             \u001b[0mufunc\u001b[0m\u001b[0;34m,\u001b[0m \u001b[0motypes\u001b[0m \u001b[0;34m=\u001b[0m \u001b[0mself\u001b[0m\u001b[0;34m.\u001b[0m\u001b[0m_get_ufunc_and_otypes\u001b[0m\u001b[0;34m(\u001b[0m\u001b[0mfunc\u001b[0m\u001b[0;34m=\u001b[0m\u001b[0mfunc\u001b[0m\u001b[0;34m,\u001b[0m \u001b[0margs\u001b[0m\u001b[0;34m=\u001b[0m\u001b[0margs\u001b[0m\u001b[0;34m)\u001b[0m\u001b[0;34m\u001b[0m\u001b[0;34m\u001b[0m\u001b[0m\n\u001b[0m\u001b[1;32m   2476\u001b[0m \u001b[0;34m\u001b[0m\u001b[0m\n\u001b[1;32m   2477\u001b[0m             \u001b[0;31m# Convert args to object arrays first\u001b[0m\u001b[0;34m\u001b[0m\u001b[0;34m\u001b[0m\u001b[0m\n",
            "\u001b[0;32m/usr/local/lib/python3.11/dist-packages/numpy/lib/_function_base_impl.py\u001b[0m in \u001b[0;36m_get_ufunc_and_otypes\u001b[0;34m(self, func, args)\u001b[0m\n\u001b[1;32m   2433\u001b[0m \u001b[0;34m\u001b[0m\u001b[0m\n\u001b[1;32m   2434\u001b[0m             \u001b[0minputs\u001b[0m \u001b[0;34m=\u001b[0m \u001b[0;34m[\u001b[0m\u001b[0marg\u001b[0m\u001b[0;34m.\u001b[0m\u001b[0mflat\u001b[0m\u001b[0;34m[\u001b[0m\u001b[0;36m0\u001b[0m\u001b[0;34m]\u001b[0m \u001b[0;32mfor\u001b[0m \u001b[0marg\u001b[0m \u001b[0;32min\u001b[0m \u001b[0margs\u001b[0m\u001b[0;34m]\u001b[0m\u001b[0;34m\u001b[0m\u001b[0;34m\u001b[0m\u001b[0m\n\u001b[0;32m-> 2435\u001b[0;31m             \u001b[0moutputs\u001b[0m \u001b[0;34m=\u001b[0m \u001b[0mfunc\u001b[0m\u001b[0;34m(\u001b[0m\u001b[0;34m*\u001b[0m\u001b[0minputs\u001b[0m\u001b[0;34m)\u001b[0m\u001b[0;34m\u001b[0m\u001b[0;34m\u001b[0m\u001b[0m\n\u001b[0m\u001b[1;32m   2436\u001b[0m \u001b[0;34m\u001b[0m\u001b[0m\n\u001b[1;32m   2437\u001b[0m             \u001b[0;31m# Performance note: profiling indicates that -- for simple\u001b[0m\u001b[0;34m\u001b[0m\u001b[0;34m\u001b[0m\u001b[0m\n",
            "\u001b[0;32m/usr/local/lib/python3.11/dist-packages/mace/tools/utils.py\u001b[0m in \u001b[0;36mz_to_index\u001b[0;34m(self, atomic_number)\u001b[0m\n\u001b[1;32m    105\u001b[0m \u001b[0;34m\u001b[0m\u001b[0m\n\u001b[1;32m    106\u001b[0m     \u001b[0;32mdef\u001b[0m \u001b[0mz_to_index\u001b[0m\u001b[0;34m(\u001b[0m\u001b[0mself\u001b[0m\u001b[0;34m,\u001b[0m \u001b[0matomic_number\u001b[0m\u001b[0;34m:\u001b[0m \u001b[0mstr\u001b[0m\u001b[0;34m)\u001b[0m \u001b[0;34m->\u001b[0m \u001b[0mint\u001b[0m\u001b[0;34m:\u001b[0m\u001b[0;34m\u001b[0m\u001b[0;34m\u001b[0m\u001b[0m\n\u001b[0;32m--> 107\u001b[0;31m         \u001b[0;32mreturn\u001b[0m \u001b[0mself\u001b[0m\u001b[0;34m.\u001b[0m\u001b[0mzs\u001b[0m\u001b[0;34m.\u001b[0m\u001b[0mindex\u001b[0m\u001b[0;34m(\u001b[0m\u001b[0matomic_number\u001b[0m\u001b[0;34m)\u001b[0m\u001b[0;34m\u001b[0m\u001b[0;34m\u001b[0m\u001b[0m\n\u001b[0m\u001b[1;32m    108\u001b[0m \u001b[0;34m\u001b[0m\u001b[0m\n\u001b[1;32m    109\u001b[0m \u001b[0;34m\u001b[0m\u001b[0m\n",
            "\u001b[0;31mValueError\u001b[0m: np.int64(11) is not in list"
          ]
        }
      ]
    },
    {
      "cell_type": "code",
      "source": [
        "train_configs = [data.config_from_atoms(atoms) for atoms in training_atoms]\n",
        "valid_configs = [data.config_from_atoms(atoms) for atoms in validation_atoms]\n",
        "atomic_numbers = []\n",
        "for config in train_configs + valid_configs:\n",
        "    atomic_numbers.extend(config.atomic_numbers)\n",
        "atomic_numbers = list(set(atomic_numbers))\n",
        "z_table = tools.AtomicNumberTable(atomic_numbers)\n",
        "print(training_atoms)\n",
        "print(validation_atoms)\n",
        "print(z_table.zs)"
      ],
      "metadata": {
        "id": "OxMMOkSDxNSV",
        "outputId": "ae3f9bae-fdd5-408d-e277-3ab078bb5cf0",
        "colab": {
          "base_uri": "https://localhost:8080/"
        }
      },
      "execution_count": 12,
      "outputs": [
        {
          "output_type": "stream",
          "name": "stdout",
          "text": [
            "[Atoms(symbols='Cl48Rb24Zn12', pbc=True, cell=[28.258334, 13.013901, 7.437371], REF_forces=...)]\n",
            "[Atoms(symbols='Li8Co4C8O24', pbc=True, cell=[[7.346871, 0.0, -2.533357], [0.0, 9.693216, 0.0], [0.022785, 0.0, 7.725388]], REF_forces=...)]\n",
            "[np.int64(3), np.int64(37), np.int64(6), np.int64(8), np.int64(17), np.int64(27), np.int64(30)]\n"
          ]
        }
      ]
    },
    {
      "cell_type": "code",
      "source": [
        "# setup some default prameters\n",
        "atomic_energy = {1: -3.4811272190365488, 3: -3.405789842096201, 4: -7.067932456053734, 5: -7.944493721785815, 6: -8.746951185675684, 7: -8.018275502146556, 8: -7.397118831026134, 9: -5.181586043491356, 11: -2.660663237507169, 12: -4.07183344068331, 13: -7.148953698251626, 14: -7.384133054595276, 15: -6.1087097551269816, 16: -4.679135128814314, 17: -2.9455352531524985, 19: -2.2568741341295846, 20: -4.576199362313644, 21: -9.582149061762781, 22: -12.103761788494054, 23: -9.01724147475884, 24: -9.254443628597073, 25: -8.442821202900108, 26: -6.159394604543429, 27: -5.41537230497698, 28: -3.1758801181240184, 29: -3.715754869753084, 30: -2.056319785008477, 31: -3.7276941073804197, 32: -5.120537129598759, 33: -4.154546322256404, 34: -3.811932781194901, 35: -2.2423125363058842, 37: -1.7320761004586025, 38: -4.281880504148956, 39: -11.452259451769779, 40: -13.166111399736801, 41: -12.060371264882782, 42: -9.973108695355801, 43: -10.188550035773947, 44: -7.74238222587903, 45: -6.274156197571513, 46: -4.851553253453126, 47: -2.04226071160437, 48: -1.1108172299063257, 49: -3.401692732338145, 50: -4.056216830037828, 51: -3.76555136817488, 52: -3.0582319023512547, 53: -1.9890885706191899, 54: 11.273107214700449, 55: -2.5803250049696214, 56: -4.690975145187065, 57: -10.024900097916152, 58: -11.657174020320685, 59: -9.630573241828774, 60: -9.69824155747603, 62: -9.688781605275459, 64: -18.976866365297035, 65: -9.46140901088781, 66: -9.42149220145286, 67: -9.423979979661791, 68: -9.300407919532761, 69: -9.311797683028653, 70: -4.400815224095631, 71: -10.180974069695909, 72: -14.835461901890257, 73: -15.627692535310869, 74: -9.290101166555921, 75: -12.722728657224483, 76: -9.251678424540348, 77: -8.837881571893774, 78: -5.635244693115368, 79: -1.64027184618186, 80: 0.6989666481252783, 81: -2.432059660659048, 82: -3.649430152103191, 83: -3.5907381591957708, 90: -12.198230223339193, 92: -19.079775230792716}\n",
        "atomic_energies = np.array([atomic_energy.get(z) for z in atomic_numbers], dtype=float)\n",
        "\n",
        "model_config = dict(\n",
        "        num_elements=len(z_table),  # number of chemical elements\n",
        "        atomic_energies=atomic_energies,  # atomic energies used for normalisation\n",
        "        atomic_numbers=z_table.zs,\n",
        "        avg_num_neighbors=8,  # avg number of neighbours of the atoms, used for internal normalisation of messages\n",
        "        r_max=6.0,  # cutoff\n",
        "        num_bessel=10,  # number of radial features\n",
        "        num_polynomial_cutoff=6,  # smoothness of the radial cutoff\n",
        "        max_ell=3,  # expansion order of spherical harmonic adge attributes\n",
        "        num_interactions=2,  # number of layers, typically 2\n",
        "        interaction_cls_first=modules.interaction_classes[\n",
        "            \"RealAgnosticResidualInteractionBlock\"\n",
        "        ],  # interation block of first layer\n",
        "        interaction_cls=modules.interaction_classes[\n",
        "            \"RealAgnosticResidualInteractionBlock\"\n",
        "        ],  # interaction block of subsequent layers\n",
        "        hidden_irreps=o3.Irreps(\"16x0e+16x1o\"),  # 8: number of embedding channels, 0e, 1o is specifying which equivariant messages to use. Here up to L_max=1\n",
        "        correlation=3,  # correlation order of the messages (body order - 1)\n",
        "        MLP_irreps=o3.Irreps(\"16x0e\"),  # number of hidden dimensions of last layer readout MLP\n",
        "        gate=torch.nn.functional.silu,  # nonlinearity used in last layer readout MLP\n",
        "    )\n",
        "model = ScaleShiftFieldMACE(**model_config, atomic_inter_scale=[1.0], atomic_inter_shift=[0.0])"
      ],
      "metadata": {
        "id": "Ms1cmsKbyFC2",
        "outputId": "52861071-32da-4ae9-87a3-cac1124a3788",
        "colab": {
          "base_uri": "https://localhost:8080/",
          "height": 251
        }
      },
      "execution_count": 1,
      "outputs": [
        {
          "output_type": "error",
          "ename": "NameError",
          "evalue": "name 'np' is not defined",
          "traceback": [
            "\u001b[0;31m---------------------------------------------------------------------------\u001b[0m",
            "\u001b[0;31mNameError\u001b[0m                                 Traceback (most recent call last)",
            "\u001b[0;32m<ipython-input-1-fad578668e42>\u001b[0m in \u001b[0;36m<cell line: 0>\u001b[0;34m()\u001b[0m\n\u001b[1;32m      1\u001b[0m \u001b[0;31m# setup some default prameters\u001b[0m\u001b[0;34m\u001b[0m\u001b[0;34m\u001b[0m\u001b[0m\n\u001b[1;32m      2\u001b[0m \u001b[0matomic_energy\u001b[0m \u001b[0;34m=\u001b[0m \u001b[0;34m{\u001b[0m\u001b[0;36m1\u001b[0m\u001b[0;34m:\u001b[0m \u001b[0;34m-\u001b[0m\u001b[0;36m3.4811272190365488\u001b[0m\u001b[0;34m,\u001b[0m \u001b[0;36m3\u001b[0m\u001b[0;34m:\u001b[0m \u001b[0;34m-\u001b[0m\u001b[0;36m3.405789842096201\u001b[0m\u001b[0;34m,\u001b[0m \u001b[0;36m4\u001b[0m\u001b[0;34m:\u001b[0m \u001b[0;34m-\u001b[0m\u001b[0;36m7.067932456053734\u001b[0m\u001b[0;34m,\u001b[0m \u001b[0;36m5\u001b[0m\u001b[0;34m:\u001b[0m \u001b[0;34m-\u001b[0m\u001b[0;36m7.944493721785815\u001b[0m\u001b[0;34m,\u001b[0m \u001b[0;36m6\u001b[0m\u001b[0;34m:\u001b[0m \u001b[0;34m-\u001b[0m\u001b[0;36m8.746951185675684\u001b[0m\u001b[0;34m,\u001b[0m \u001b[0;36m7\u001b[0m\u001b[0;34m:\u001b[0m \u001b[0;34m-\u001b[0m\u001b[0;36m8.018275502146556\u001b[0m\u001b[0;34m,\u001b[0m \u001b[0;36m8\u001b[0m\u001b[0;34m:\u001b[0m \u001b[0;34m-\u001b[0m\u001b[0;36m7.397118831026134\u001b[0m\u001b[0;34m,\u001b[0m \u001b[0;36m9\u001b[0m\u001b[0;34m:\u001b[0m \u001b[0;34m-\u001b[0m\u001b[0;36m5.181586043491356\u001b[0m\u001b[0;34m,\u001b[0m \u001b[0;36m11\u001b[0m\u001b[0;34m:\u001b[0m \u001b[0;34m-\u001b[0m\u001b[0;36m2.660663237507169\u001b[0m\u001b[0;34m,\u001b[0m \u001b[0;36m12\u001b[0m\u001b[0;34m:\u001b[0m \u001b[0;34m-\u001b[0m\u001b[0;36m4.07183344068331\u001b[0m\u001b[0;34m,\u001b[0m \u001b[0;36m13\u001b[0m\u001b[0;34m:\u001b[0m \u001b[0;34m-\u001b[0m\u001b[0;36m7.148953698251626\u001b[0m\u001b[0;34m,\u001b[0m \u001b[0;36m14\u001b[0m\u001b[0;34m:\u001b[0m \u001b[0;34m-\u001b[0m\u001b[0;36m7.384133054595276\u001b[0m\u001b[0;34m,\u001b[0m \u001b[0;36m15\u001b[0m\u001b[0;34m:\u001b[0m \u001b[0;34m-\u001b[0m\u001b[0;36m6.1087097551269816\u001b[0m\u001b[0;34m,\u001b[0m \u001b[0;36m16\u001b[0m\u001b[0;34m:\u001b[0m \u001b[0;34m-\u001b[0m\u001b[0;36m4.679135128814314\u001b[0m\u001b[0;34m,\u001b[0m \u001b[0;36m17\u001b[0m\u001b[0;34m:\u001b[0m \u001b[0;34m-\u001b[0m\u001b[0;36m2.9455352531524985\u001b[0m\u001b[0;34m,\u001b[0m \u001b[0;36m19\u001b[0m\u001b[0;34m:\u001b[0m \u001b[0;34m-\u001b[0m\u001b[0;36m2.2568741341295846\u001b[0m\u001b[0;34m,\u001b[0m \u001b[0;36m20\u001b[0m\u001b[0;34m:\u001b[0m \u001b[0;34m-\u001b[0m\u001b[0;36m4.576199362313644\u001b[0m\u001b[0;34m,\u001b[0m \u001b[0;36m21\u001b[0m\u001b[0;34m:\u001b[0m \u001b[0;34m-\u001b[0m\u001b[0;36m9.582149061762781\u001b[0m\u001b[0;34m,\u001b[0m \u001b[0;36m22\u001b[0m\u001b...\n\u001b[0;32m----> 3\u001b[0;31m \u001b[0matomic_energies\u001b[0m \u001b[0;34m=\u001b[0m \u001b[0mnp\u001b[0m\u001b[0;34m.\u001b[0m\u001b[0marray\u001b[0m\u001b[0;34m(\u001b[0m\u001b[0;34m[\u001b[0m\u001b[0matomic_energy\u001b[0m\u001b[0;34m.\u001b[0m\u001b[0mget\u001b[0m\u001b[0;34m(\u001b[0m\u001b[0mz\u001b[0m\u001b[0;34m)\u001b[0m \u001b[0;32mfor\u001b[0m \u001b[0mz\u001b[0m \u001b[0;32min\u001b[0m \u001b[0matomic_numbers\u001b[0m\u001b[0;34m]\u001b[0m\u001b[0;34m,\u001b[0m \u001b[0mdtype\u001b[0m\u001b[0;34m=\u001b[0m\u001b[0mfloat\u001b[0m\u001b[0;34m)\u001b[0m\u001b[0;34m\u001b[0m\u001b[0;34m\u001b[0m\u001b[0m\n\u001b[0m\u001b[1;32m      4\u001b[0m \u001b[0;34m\u001b[0m\u001b[0m\n\u001b[1;32m      5\u001b[0m model_config = dict(\n",
            "\u001b[0;31mNameError\u001b[0m: name 'np' is not defined"
          ]
        }
      ]
    },
    {
      "cell_type": "code",
      "source": [
        "%matplotlib inline\n",
        "import pylab as pl\n",
        "from IPython import display\n",
        "import copy\n",
        "import os\n",
        "\n",
        "# Optimiser\n",
        "param_options = dict(\n",
        "        params=[\n",
        "            {\n",
        "                \"name\": \"embedding\",\n",
        "                \"params\": model.node_embedding.parameters(),\n",
        "                \"weight_decay\": 0,\n",
        "            },\n",
        "            {\n",
        "                \"name\": \"products\",\n",
        "                \"params\": model.products.parameters(),\n",
        "                \"weight_decay\": 1e-7,\n",
        "            },\n",
        "            {\n",
        "                \"name\": \"readouts\",\n",
        "                \"params\": model.readouts.parameters(),\n",
        "                \"weight_decay\": 0,\n",
        "            },\n",
        "        ],\n",
        "        lr=0.005,\n",
        "        amsgrad=True,\n",
        "        betas=(0.9, 0.999),\n",
        "    )\n",
        "optimizer = torch.optim.AdamW(**param_options)\n",
        "\n",
        "energy_train_trace = []\n",
        "force_train_trace = []\n",
        "polarisation_train_trace = []\n",
        "bec_train_trace = []\n",
        "polarisability_train_trace = []\n",
        "loss_train_trace = []\n",
        "\n",
        "energy_valid_trace = []\n",
        "force_valid_trace = []\n",
        "polarisation_valid_trace = []\n",
        "bec_valid_trace = []\n",
        "polarisability_valid_trace = []\n",
        "loss_valid_trace = []\n",
        "\n",
        "mse = torch.nn.MSELoss()\n",
        "\n",
        "epoch = 0\n",
        "best_epoch = 0\n",
        "best_alpha = 0\n",
        "best_loss = np.inf\n",
        "best_model = copy.deepcopy(model)\n",
        "max_num_epochs = 1000\n",
        "\n",
        "# Load model\n",
        "# model.load_state_dict(torch.load('water_bulk_all_64_epoch_41.model', weights_only=True), strict=False)\n",
        "\n",
        "# Training algorithm\n",
        "while epoch <= max_num_epochs:\n",
        "\n",
        "    # Initialise training and validation arrays\n",
        "    loss_train = []\n",
        "    energies_train = []\n",
        "    forces_train = []\n",
        "    polarisations_train = []\n",
        "    becs_train = []\n",
        "    polarisabilities_train = []\n",
        "    loss_valid = []\n",
        "    energies_valid = []\n",
        "    forces_valid = []\n",
        "    polarisations_valid = []\n",
        "    becs_valid = []\n",
        "    polarisabilities_valid = []\n",
        "\n",
        "    i=0\n",
        "\n",
        "    # Validation\n",
        "    for batch in validation_batches:\n",
        "        for param in model.parameters():\n",
        "            param.requires_grad = False\n",
        "        output = model(batch.to_dict())\n",
        "        loss = loss_fn(output, batch)\n",
        "        loss_valid.append(loss.detach())\n",
        "        energies_valid.append(torch.sqrt(mse(batch[\"energy\"], output[\"energy\"])))\n",
        "        forces_valid.append(torch.sqrt(mse(batch[\"forces\"], output[\"forces\"])))\n",
        "        polarisations_valid.append(torch.sqrt(mse(batch[\"polarisation\"], output[\"polarisation\"])))\n",
        "        becs_valid.append(torch.sqrt(mse(batch[\"bec\"], output[\"bec\"])))\n",
        "        polarisabilities_valid.append(torch.sqrt(mse(batch[\"polarisability\"][0], output[\"polarisability\"])))\n",
        "        print(i, \"| valid:\", loss.detach().item())\n",
        "        i+=1\n",
        "\n",
        "    i=0\n",
        "\n",
        "    # Training\n",
        "    for batch in training_batches:\n",
        "        for param in model.parameters():\n",
        "            param.requires_grad = True\n",
        "        optimizer.zero_grad(set_to_none=True)\n",
        "        output = model(batch.to_dict())\n",
        "        loss = loss_fn(output, batch)\n",
        "        loss.backward()\n",
        "        optimizer.step()\n",
        "        loss_train.append(loss.detach())\n",
        "        energies_train.append(torch.sqrt(mse(batch[\"energy\"], output[\"energy\"])))\n",
        "        forces_train.append(torch.sqrt(mse(batch[\"forces\"], output[\"forces\"])))\n",
        "        polarisations_train.append(torch.sqrt(mse(batch[\"polarisation\"], output[\"polarisation\"])))\n",
        "        becs_train.append(torch.sqrt(mse(batch[\"bec\"], output[\"bec\"])))\n",
        "        polarisabilities_train.append(torch.sqrt(mse(batch[\"polarisability\"][0], output[\"polarisability\"])))\n",
        "        print(i, \"| train:\", loss.detach().item())\n",
        "        i+=1\n",
        "\n",
        "    # Log traces\n",
        "    loss_train_trace.append(torch.mean(torch.tensor(loss_train)))\n",
        "    energy_train_trace.append(torch.mean(torch.tensor(energies_train)))\n",
        "    force_train_trace.append(torch.mean(torch.tensor(forces_train)))\n",
        "    polarisation_train_trace.append(torch.mean(torch.tensor(polarisations_train)))\n",
        "    bec_train_trace.append(torch.mean(torch.tensor(becs_train)))\n",
        "    polarisability_train_trace.append(torch.mean(torch.tensor(polarisabilities_train)))\n",
        "\n",
        "    loss_valid_trace.append(torch.mean(torch.tensor(loss_valid)))\n",
        "    energy_valid_trace.append(torch.mean(torch.tensor(energies_valid)))\n",
        "    force_valid_trace.append(torch.mean(torch.tensor(forces_valid)))\n",
        "    polarisation_valid_trace.append(torch.mean(torch.tensor(polarisations_valid)))\n",
        "    bec_valid_trace.append(torch.mean(torch.tensor(becs_valid)))\n",
        "    polarisability_valid_trace.append(torch.mean(torch.tensor(polarisabilities_valid)))\n",
        "\n",
        "\n",
        "    # Plot training and validation loss ratio traces and property RMSE traces\n",
        "\n",
        "    pl.plot(torch.tensor(polarisability_train_trace), color='blue', linestyle='-', label=\"alp train\")\n",
        "    pl.plot(torch.tensor(polarisability_valid_trace), color='blue', linestyle='--', label = 'alp valid')\n",
        "    pl.plot(torch.tensor(bec_train_trace), color='green', linestyle='-', label=\"bec train\")\n",
        "    pl.plot(torch.tensor(bec_valid_trace), color='green', linestyle='--', label = 'bec valid')\n",
        "    pl.plot(torch.tensor(polarisation_train_trace), color='orange', linestyle='-', label=\"pol train\")\n",
        "    pl.plot(torch.tensor(polarisation_valid_trace), color='orange', linestyle='--', label = 'pol valid')\n",
        "    pl.plot(torch.tensor(energy_train_trace), color='red', linestyle='-', label='E train')\n",
        "    pl.plot(torch.tensor(energy_valid_trace), color='red', linestyle='dotted', label='E valid')\n",
        "    pl.plot(torch.tensor(force_train_trace), color='purple', linestyle='-', label='F train')\n",
        "    pl.plot(torch.tensor(force_valid_trace), color='purple', linestyle='dotted', label='F valid')\n",
        "    pl.plot(torch.tensor(loss_train_trace), color='black', linestyle='-', label='train')\n",
        "    pl.plot(torch.tensor(loss_valid_trace), color='black', linestyle='--', label='valid')\n",
        "\n",
        "    pl.autoscale()\n",
        "    pl.ylim(bottom=-1, top=None)\n",
        "\n",
        "    if epoch == 0:\n",
        "        pl.legend(bbox_to_anchor=(1.05, 1.0), loc='upper left')\n",
        "        pl.xlabel('Epoch')\n",
        "        pl.ylabel('RMSE Error & Loss Ratio')\n",
        "        pl.axhline(y=1.0, color='gray', linestyle='dotted')\n",
        "        pl.axhline(y=0.0, color='gray', linestyle='--')\n",
        "        pl.yscale('symlog')\n",
        "\n",
        "    display.clear_output(wait=True)\n",
        "    display.display(pl.gcf())\n",
        "\n",
        "    # Checkpoint lowest valid loss\n",
        "    if loss_valid_trace[-1] == torch.min(torch.tensor(loss_valid_trace)):\n",
        "        best_model = copy.deepcopy(model)\n",
        "        # try:\n",
        "        #     os.remove(f\"../test_models/water_bulk_epoch_{best_epoch}.model\")\n",
        "        # except OSError:\n",
        "        #     pass\n",
        "        best_epoch = epoch\n",
        "        best_loss = loss_valid_trace[-1].item()\n",
        "        best_alpha = polarisability_valid_trace[-1].item()\n",
        "        # torch.save(obj=best_model.state_dict(), f=f\"../test_models/water_bulk_epoch_{best_epoch}.model\")\n",
        "        print(\"Checkpoint for epoch\", epoch)\n",
        "\n",
        "    print(\"Epoch:\", epoch, \"| valid:\", loss_valid_trace[-1].item(), \"| train:\", loss_train_trace[-1].item(), \"| best epoch:\", best_epoch, \"| best loss:\", best_loss)\n",
        "\n",
        "    epoch += 1\n",
        "\n",
        "    # Patience\n",
        "    # if epoch - best_epoch == 50:\n",
        "    #     break"
      ],
      "metadata": {
        "id": "A-2w6h-YxBUK"
      },
      "execution_count": null,
      "outputs": []
    },
    {
      "cell_type": "markdown",
      "source": [
        "## Understanding the MACE Field Architecture"
      ],
      "metadata": {
        "id": "BV3a4zmI-kMQ"
      }
    },
    {
      "cell_type": "markdown",
      "source": [
        "### Theory"
      ],
      "metadata": {
        "id": "jYNamAclWyXS"
      }
    },
    {
      "cell_type": "markdown",
      "source": [
        "Our approach inherits most of the original MACE architecture. The primary alteration is in the readout blocks where we include an additional energy term, $-\\Omega\\ \\mathbf{P} \\cdot \\mathcal{E}$, where $\\Omega$ is the unit-cell volume, $\\mathbf{P}$ is the macroscopic polarisation, and $\\mathcal{E}$ is an external electric field. This is all in analogy to the electric enthalpy functional from Density Functional Perturbation Theory (DFPT). Please see the [VASP wiki](https://www.vasp.at/wiki/index.php/Berry_phases_and_finite_electric_fields) for a good introduction to Berry Phases and finite electric fields in DFPT."
      ],
      "metadata": {
        "id": "dt2F_YnjCiMv"
      }
    },
    {
      "cell_type": "markdown",
      "source": [
        "The molecular dipole moment is the sum of the ionic contributions, with bare ionic charge $-e Z_\\alpha$ and position $\\mathbf{R}_\\alpha$, and an electronic contribution from the first moment of the electronic charge density $\\rho(\\mathbf{r})$:\n"
      ],
      "metadata": {
        "id": "SDSY9L-JHJAX"
      }
    },
    {
      "cell_type": "markdown",
      "source": [
        "\\begin{equation}\n",
        "\\begin{aligned}\n",
        "    \\mathbf{p} &= \\mathbf{p}_{\\text{ion}} + \\mathbf{p}_{\\text{el}}\\\\\n",
        "    \\mathbf{p} &= -e \\sum_{\\alpha} Z_\\alpha \\mathbf{R}_\\alpha + \\int d\\mathbf{r}\\ \\mathbf{r}\\ \\rho(\\mathbf{r})\n",
        "\\end{aligned}\n",
        "\\end{equation}\n"
      ],
      "metadata": {
        "id": "VDTOg973HOSX"
      }
    },
    {
      "cell_type": "markdown",
      "source": [
        "where the polarisation density is then just this dipole moment divided by the total volume, $\\mathbf{P} = \\mathbf{p} / V$.\n"
      ],
      "metadata": {
        "id": "PHKyj5fMIvXS"
      }
    },
    {
      "cell_type": "markdown",
      "source": [
        "We see that the molecular dipole $\\mathbf{p}_{\\text{ion}, \\alpha}$ has a contribution per ion. Just as we decompose the total energy of the system into contributions per ion or per \"node\", suppose we decompose the electronic dipole into contributions per node, $\\mathbf{p}_{\\text{el}, \\alpha}$."
      ],
      "metadata": {
        "id": "qMSKxuprM7ZB"
      }
    },
    {
      "cell_type": "markdown",
      "source": [
        "Due to the Modern Theory of Polarisation, quantum polarisation is multivalued / \"ill-defined\" for infinite periodic systems. The electronic dipole cannot in principle be decomposed this way, but just as is the case for the total energy, we will do it anyway. To compensate, the loss term for the polarisation will only be defined modulo the polarisation quantum to account for this multivalueness."
      ],
      "metadata": {
        "id": "tOwESbdeOx_h"
      }
    },
    {
      "cell_type": "markdown",
      "source": [
        "### Alterations to MACE"
      ],
      "metadata": {
        "id": "qfJx4iPUW1ha"
      }
    },
    {
      "cell_type": "markdown",
      "source": [
        "Each layer $1 \\leq t \\leq T$ of MACE contributes to the final energy readout $E_\\alpha$ for node $\\alpha$:"
      ],
      "metadata": {
        "id": "BDjK_LrHDGNW"
      }
    },
    {
      "cell_type": "markdown",
      "source": [
        "\\begin{equation}\n",
        "    E_\\alpha = E_\\alpha^{(0)} + E_\\alpha^{(1)} + \\dots + E_\\alpha^{(T)}\n",
        "\\end{equation}"
      ],
      "metadata": {
        "id": "SdaWXOY0xqsD"
      }
    },
    {
      "cell_type": "markdown",
      "source": [
        "In a $T$-layer MACE, the readout is altered to include an additional perturbing term of a $K$-dimensional \"total atomic dipole\" feature $\\mathbf{p}_{\\alpha, k}$ for each node $\\alpha$, dot-producted with the external electric field $\\mathcal{E}$:"
      ],
      "metadata": {
        "id": "0qa6znVcEF8H"
      }
    },
    {
      "cell_type": "markdown",
      "source": [
        "\\begin{equation}\n",
        "  E_\\alpha(t) = \\mathcal{R}_t\\left(\\mathbf{h}_i^{(t)}\\right) =\n",
        "    \\begin{cases}\n",
        "    \\begin{aligned}\n",
        "        &\\sum_{\\tilde{k}} W_{\\text{readout}, \\tilde{k}}^{(t)} \\left[ h_{\\alpha,\\tilde{k} 0 0}^{e, (t)} - \\mathbf{p}_{\\alpha, \\tilde{k}}^{(t)} \\cdot \\mathbf{\\mathcal{E}} \\right] \\qquad\\ \\text{if}\\ t<T, \\\\\n",
        "        &\\text{MLP}_{\\text{readout}}^{(t)}\\left( \\left\\{ h_{\\alpha,k 0 0}^{e, (t)} - \\mathbf{p}_{\\alpha, k}^{(t)} \\cdot \\mathbf{\\mathcal{E}} \\right\\}_{k} \\right) \\quad \\text{if}\\ t = T.\n",
        "    \\end{aligned}\n",
        "    \\end{cases}\n",
        "\\end{equation}"
      ],
      "metadata": {
        "id": "TxemPmYXx4SM"
      }
    },
    {
      "cell_type": "markdown",
      "source": [
        "Where in the final layer the electric field enters the nonlinear MLP."
      ],
      "metadata": {
        "id": "SXn57KSLFqC4"
      }
    },
    {
      "cell_type": "markdown",
      "source": [
        "After the higher body-order `node_feats` are produced from the standard `product` blocks in the MACE model, we linearly map them to two scalar features and one vector feature which we may relate to the local node energy \"$e$\", charge \"$q$\" and electronic dipole moment:"
      ],
      "metadata": {
        "id": "Flfz8BrCFzUW"
      }
    },
    {
      "cell_type": "markdown",
      "source": [
        "\\begin{equation}\n",
        "    \\left[ h_{\\alpha, k 0 0}^{e, (t)},\\ h_{\\alpha, k 0 0}^{q, (t)},\\ h_{\\alpha, k 1 m}^{(t)} \\right] = \\sum_{l \\tilde{m}} W^{l \\tilde{m}}_{0 0, 1 m} h^{(t)}_{\\alpha,kl\\tilde{m}}.\n",
        "\\end{equation}"
      ],
      "metadata": {
        "id": "k_HXp55-6ev1"
      }
    },
    {
      "cell_type": "markdown",
      "source": [
        "Note that these are not complete readouts yet as we have not yet mixed the k channels."
      ],
      "metadata": {
        "id": "gK170zm2GjpW"
      }
    },
    {
      "cell_type": "markdown",
      "source": [
        "To extract these features, we need to initialise in `__init__()` a new readout:\n",
        "\n",
        "```\n",
        "field_irreps = o3.Irreps(\"0e\") + o3.Irreps.spherical_harmonics(1)\n",
        "field_irreps_out = o3.Irreps(f\"{num_channels * field_irreps}\").sort()[0].simplify()\n",
        "\n",
        "self.field_readout = LinearReadoutBlock(hidden_irreps, field_irreps_out)\n",
        "```\n",
        "\n",
        "which gives us two $l=0$ scalars and a $l=1$ vector *without* mixing the channels.\n",
        "\n",
        "After we obtain `node_feats` from the `product` block, we obtain these additional features from:\n",
        "\n",
        "```\n",
        "node_out = self.field_readout(node_feats, node_heads).reshape(node_feats.shape[0], -1, 5)\n",
        "node_energy_feats, node_charge_feats, node_electronic_dipole_feats = node_out[:,:,0],  node_out[:,:,1], -node_out[:,:,2:]\n",
        "```"
      ],
      "metadata": {
        "id": "qpVs31AXP8y5"
      }
    },
    {
      "cell_type": "markdown",
      "source": [
        "We then define a total dipole moment feature as:"
      ],
      "metadata": {
        "id": "agt8sQIEGoq2"
      }
    },
    {
      "cell_type": "markdown",
      "source": [
        "\\begin{equation}\n",
        "    \\mathbf{p}^{(t)}_{\\alpha,k} = h^{q,(t)}_{\\alpha,k 0 0} \\mathbf{R}_{\\alpha} - \\mathbf{h}^{(t)}_{\\alpha,k 1},\n",
        "\\end{equation}"
      ],
      "metadata": {
        "id": "n34HRFjs6mal"
      }
    },
    {
      "cell_type": "markdown",
      "source": [
        "where the first term represents the ionic dipole contribution.\n",
        "\n",
        "In the code we have:\n",
        "\n",
        "```\n",
        "node_atomic_dipole_feats = torch.einsum('ij,ik->ijk', node_charge_feats, data[\"positions\"])\n",
        "node_dipole_feats = node_atomic_dipole_feats + node_electronic_dipole_feats           \n",
        "```\n",
        "\n",
        "This \"total dipole\" acts as an atomic decomposition of the total macroscopic polarisation which, dot product with the external electric field, contributes to the total energy:"
      ],
      "metadata": {
        "id": "ay2cOBe9GtCe"
      }
    },
    {
      "cell_type": "markdown",
      "source": [
        "\\begin{equation}\n",
        "h_{\\alpha,\\tilde{k} 0 0}^{e, (t)} - \\mathbf{p}_{\\alpha, \\tilde{k}}^{(t)} \\cdot \\mathbf{\\mathcal{E}},\n",
        "\\end{equation}"
      ],
      "metadata": {
        "id": "dB8w4Bp1fFqV"
      }
    },
    {
      "cell_type": "markdown",
      "source": [
        "which we then feed into the final energy `readout` block which mixes the $k$ channels:\n",
        "\n",
        "```\n",
        "node_energies = node_energy_feats - torch.einsum('ijk,k->ij', node_dipole_feats, data[\"electric_field\"])\n",
        "node_energies = readout(node_energies, node_heads)[num_atoms_arange, node_heads]        \n",
        "```"
      ],
      "metadata": {
        "id": "SBNOEd_UgCMs"
      }
    },
    {
      "cell_type": "markdown",
      "source": [
        "Since we need the node features, `node_feats`, to always have a $l=1$ piece, we need to alter the final `interaction` and `product` blocks of MACE which originally only preserve the $l=0$ piece in the last layer $T$.\n",
        "\n",
        "Therefore, in `__init__()` in our new model `ScaleShiftFieldMACE` we also include:\n",
        "```\n",
        "self.interactions[-1].skip_tp = o3.FullyConnectedTensorProduct(\n",
        "    hidden_irreps,\n",
        "    self.interactions[-1].node_attrs_irreps,\n",
        "    hidden_irreps,\n",
        "    self.interactions[-1].cueq_config,\n",
        ")\n",
        "```\n",
        "and\n",
        "```\n",
        "self.products[-1] = self.products[-2]\n",
        "```"
      ],
      "metadata": {
        "id": "Qcq7LUFlQCxp"
      }
    },
    {
      "cell_type": "markdown",
      "source": [
        "Finally, as our new `field_readout` is an intermediate step between the `product` block and the energy `readout`, we need to alter the `irreps_in` of the energy `readout` blocks:\n",
        "```\n",
        "for i in range(len(self.readouts)-1):\n",
        "    self.readouts[i].linear = o3.Linear(f\"{num_channels}x0e\", f\"{len(self.heads)}x0e\")\n",
        "\n",
        "self.readouts[-1].linear_1 = o3.Linear(f\"{num_channels}x0e\", f\"{len(self.heads) * kwargs['MLP_irreps']}\")   \n",
        "```"
      ],
      "metadata": {
        "id": "WiA6QAlgQWQ5"
      }
    },
    {
      "cell_type": "markdown",
      "source": [
        "### Deriving Polarisation, BECs and Polarisability as derivates of energy"
      ],
      "metadata": {
        "id": "VRCahZILW7Uy"
      }
    },
    {
      "cell_type": "markdown",
      "source": [
        "The predicted energy $E$ depends upon the atomic positions $\\mathbf{R}_{\\alpha}$ and the external electric field $\\mathbf{\\mathcal{E}}$ to arbitrary order,\n",
        "\n",
        "\\begin{equation}\n",
        "    E(\\{\\mathbf{R}_\\alpha\\}, \\mathbf{\\mathcal{E}}) = E^{(0)}(\\mathbf{\\mathcal{E}}) + \\sum_{\\alpha=1}^N E_{\\alpha}^{(0)}\\left( \\mathbf{R}_{\\alpha};\\  \\mathbf{\\mathcal{E}} \\right) + \\sum_{1 \\leq \\alpha \\leq \\beta \\leq N}^N E_{\\alpha, \\beta}^{(1)}\\left( \\mathbf{R}_{\\alpha}, \\mathbf{R}_{\\beta};\\ \\mathbf{\\mathcal{E}} \\right) + \\dots + \\mathcal{F}\\left[m^{(T)}\\left(\\mathbf{R}_{\\alpha_1}, \\dots, \\mathbf{R}_{\\alpha_N};\\  \\mathbf{\\mathcal{E}}\\right)\\right],\n",
        "\\end{equation}  \n",
        "\n",
        "where $\\mathcal{F}$ is a general, learnable non-linear term (here evaluated using a MLP) that accounts for excluded higher-order terms."
      ],
      "metadata": {
        "id": "ADYa2j80TpSL"
      }
    },
    {
      "cell_type": "markdown",
      "source": [
        "Therefore, we account for non-linear susceptibilities,\n",
        "\n",
        "\\begin{equation}\n",
        "    \\mathbf{P}(\\{\\mathbf{R}_\\alpha\\}, \\mathbf{\\mathcal{E}}) = -\\frac{1}{\\Omega} \\mathbf{\\nabla}_{\\mathbf{\\mathcal{E}}} E(\\{\\mathbf{R}_\\alpha\\}, \\mathbf{\\mathcal{E}}) = \\mathbf{P}_0(\\{\\mathbf{R}_\\alpha\\}) + \\chi^{(1)}(\\{\\mathbf{R}_\\alpha\\}) \\cdot  \\mathbf{\\mathcal{E}} + \\mathbf{\\mathcal{E}} \\cdot \\chi^{(2)}(\\{\\mathbf{R}_\\alpha\\}) \\cdot  \\mathbf{\\mathcal{E}} + \\dots,\n",
        "\\end{equation}\n",
        "\n",
        "where we see that the polarisability is the linear susceptibility term, $\\chi^{(1)} \\equiv \\alpha$."
      ],
      "metadata": {
        "id": "ZjNaRQqzURq6"
      }
    },
    {
      "cell_type": "markdown",
      "source": [
        "The polarisation ($P_i$) is then derived from the derivative of the total energy with respect to the external electric field:"
      ],
      "metadata": {
        "id": "aMXXNpiRUtW5"
      }
    },
    {
      "cell_type": "markdown",
      "source": [
        "\\begin{equation}\n",
        "  P_i = -\\frac{1}{\\Omega} \\frac{\\partial E}{\\partial \\mathcal{E}_i},\n",
        "\\end{equation}"
      ],
      "metadata": {
        "id": "eFRkpUJEVjvC"
      }
    },
    {
      "cell_type": "markdown",
      "source": [
        "which we compute using the forward `autograd.grad` function:\n",
        "\n",
        "```\n",
        "def compute_polarisation(\n",
        "    energy: torch.Tensor,\n",
        "    electric_field: torch.Tensor,\n",
        "    cell: torch.Tensor,\n",
        "    training: bool = True,\n",
        ") -> torch.Tensor:\n",
        "    \n",
        "    volume = torch.linalg.det(cell.view(-1, 3, 3)).abs()\n",
        "    \n",
        "    polarisation = torch.autograd.grad(\n",
        "        outputs=energy,  # [n_graphs, ]            \n",
        "        inputs=electric_field,  # [3, ]\n",
        "        grad_outputs=torch.ones_like(energy),\n",
        "        retain_graph=training,  # Make sure the graph is not destroyed during training  \n",
        "        create_graph=training,  # Create graph for higher derivatives\n",
        "        allow_unused=True,\n",
        "    )[0]\n",
        "\n",
        "    return -polarisation / volume\n",
        "```\n"
      ],
      "metadata": {
        "id": "4GkOrEFpV7d7"
      }
    },
    {
      "cell_type": "markdown",
      "source": [
        "The Born effective charges ($Z^*_{\\alpha,ij}$) and the polarisability tensor ($\\alpha_{ij}$) may then be derived from derivatives of the polarisation with respect to atom position and the electric field, respectively,"
      ],
      "metadata": {
        "id": "89iOkk0TVf86"
      }
    },
    {
      "cell_type": "markdown",
      "source": [
        "\\begin{equation}\n",
        "    Z^*_{\\alpha, ij} = -\\frac{1}{e}\\frac{\\partial^2 E}{\\partial \\mathcal{E}_i\\ \\partial R_{\\alpha,j}}\\bigg\\rvert_{\\mathbf{\\mathcal{E}}=\\mathbf{0}}\n",
        "    = \\frac{1}{e} \\frac{\\partial F_i}{\\partial \\mathcal{E}_j}\\bigg\\rvert_{\\mathbf{\\mathcal{E}}=\\mathbf{0}} = \\frac{\\Omega}{e} \\frac{\\partial P_i}{\\partial R_{\\alpha, j}}\\bigg\\rvert_{\\mathbf{\\mathcal{E}}=\\mathbf{0}},\n",
        "\\end{equation}"
      ],
      "metadata": {
        "id": "7MeYkAsPUwE5"
      }
    },
    {
      "cell_type": "markdown",
      "source": [
        "\\begin{equation}\n",
        "    \\alpha_{ij} = - \\frac{1}{\\Omega} \\frac{\\partial^2 E}{\\partial \\mathcal{E}_i\\ \\partial \\mathcal{E}_j} = \\frac{\\partial P_i}{\\partial \\mathcal{E}_j},\n",
        "\\end{equation}"
      ],
      "metadata": {
        "id": "TDK6zSQCUvCa"
      }
    },
    {
      "cell_type": "markdown",
      "source": [
        "which are computed by looping over the $3$ dimensions of the polarisation vector:"
      ],
      "metadata": {
        "id": "LsG47dL3WQKa"
      }
    },
    {
      "cell_type": "markdown",
      "source": [
        "```\n",
        "def compute_bec(\n",
        "    polarisation: torch.Tensor,\n",
        "    positions: torch.Tensor,\n",
        "    cell: torch.Tensor,\n",
        "    training: bool = True,\n",
        ") -> torch.Tensor:\n",
        "    \n",
        "    volume = torch.linalg.det(cell.view(-1, 3, 3)).abs()\n",
        "    \n",
        "    bec_polar_list = []\n",
        "    for d in range(3): # Loop over dimensions\n",
        "        polar_component = polarisation[d]\n",
        "        gradient = torch.autograd.grad(\n",
        "            outputs=polar_component, # [n_graphs, 1]\n",
        "            inputs=positions, # [n_nodes, 3]\n",
        "            grad_outputs=torch.ones_like(polar_component),\n",
        "            retain_graph=training,  # Make sure the graph is not destroyed during training\n",
        "            create_graph=training,  # Create graph for higher derivatives\n",
        "            allow_unused=True,\n",
        "        )[0]\n",
        "        bec_polar_list.append(gradient) # [n_nodes, 3]\n",
        "        \n",
        "    bec = torch.stack(bec_polar_list, dim=1) # [n_nodes, 3, 3]\n",
        "\n",
        "    return bec * volume\n",
        "```"
      ],
      "metadata": {
        "id": "10ahjMWdWfoJ"
      }
    },
    {
      "cell_type": "markdown",
      "source": [
        "```\n",
        "def compute_polarisability(\n",
        "    polarisation: torch.Tensor,\n",
        "    electric_field: torch.Tensor,\n",
        "    training: bool = True,\n",
        ") -> torch.Tensor:\n",
        "    \n",
        "    # Second derivatives (BEC and polarisability) computed for each polarisation component.   \n",
        "    polarisability_list = []\n",
        "    for d in range(3):\n",
        "        polar_component = polarisation[d]\n",
        "        grad_field = torch.autograd.grad(\n",
        "            outputs=polar_component, # [n_graphs, 1]\n",
        "            inputs=electric_field, # [3, ]\n",
        "            grad_outputs=torch.ones_like(polar_component),\n",
        "            retain_graph=training,  # Make sure the graph is not destroyed during training\n",
        "            create_graph=training,  # Create graph for higher derivatives\n",
        "            allow_unused=True,\n",
        "        )[0]\n",
        "        polarisability_list.append(grad_field) # [n_graphs, 3]\n",
        "        \n",
        "    polarisability = torch.stack(polarisability_list, dim=1)  # [n_graphs, 3, 3]\n",
        "\n",
        "    return polarisability\n",
        "```"
      ],
      "metadata": {
        "id": "Mr2e_vDwWk_i"
      }
    },
    {
      "cell_type": "markdown",
      "source": [
        "### Additional Loss Term"
      ],
      "metadata": {
        "id": "hg7FkGKqXFw6"
      }
    },
    {
      "cell_type": "markdown",
      "source": [
        "In addition to the original loss function for the energy, forces and stress, we include three additional terms to account for the polarisation, becs and polarisability:"
      ],
      "metadata": {
        "id": "f_nQGAaSXPTz"
      }
    },
    {
      "cell_type": "markdown",
      "source": [
        "\\begin{equation}\n",
        "\\begin{aligned}\n",
        "    \\Delta \\mathcal{L} &= \\frac{\\lambda_P}{3 B} \\sum_{b=1}^{B} \\sum_{i=1}^3 \\left(\\left[-\\frac{1}{\\Omega}\\frac{\\partial E_b^{(\\text{pred})}}{\\partial \\mathcal{E}_i} - P^{(\\text{ref})}_{b,i}\\right] \\text{mod}\\ \\Delta P_{b,i} \\right)^2 + \\frac{\\lambda_Z}{9 B N} \\sum_{\\alpha=1}^{B \\cdot N} \\sum_{i=1}^3 \\sum_{j=1}^3 \\left(-\\frac{1}{e}\\frac{\\partial^2 E^{(\\text{pred})}}{\\partial \\mathcal{E}_i\\ \\partial R_{\\alpha,j}} - Z^{* (\\text{ref})}_{\\alpha, ij} \\right)^2 \\\\\n",
        "    &+ \\frac{\\lambda_\\alpha}{9 B} \\sum_{b=1}^{B} \\sum_{i=1}^3 \\sum_{j=1}^3 \\left(-\\frac{1}{\\Omega}\\frac{\\partial^2 E_b^{(\\text{pred})}}{\\partial \\mathcal{E}_i\\ \\partial \\mathcal{E}_j} - \\alpha^{(\\text{ref})}_{b,ij} \\right)^2 .\n",
        "\\end{aligned}\n",
        "\\end{equation}"
      ],
      "metadata": {
        "id": "V-yjN44zXL_j"
      }
    },
    {
      "cell_type": "markdown",
      "source": [
        "Here $B$ is the size of the batch and $b$ the batch index. $N$ is the number of atoms in the graph. The $\\lambda$s are the weights which will be automatically set to zero if the relevant training data is absent. This means a mixed dataset can be used for training."
      ],
      "metadata": {
        "id": "rvWFnHQ5XfSa"
      }
    },
    {
      "cell_type": "markdown",
      "source": [
        "Here we write the MSE loss, but other losses can be used. In the main code we actually use the `torch.nn.HuberLoss` Huber loss with $\\delta = 0.1$."
      ],
      "metadata": {
        "id": "CbWw4YUEZ-YT"
      }
    },
    {
      "cell_type": "markdown",
      "source": [
        "The modulo $\\text{mod}\\ \\Delta P_{b,i}$ term tells the model that the polarisation may be multivalued due to the Berry Phase, where the $ \\Delta \\mathbf{P} $ term is the polarisation quantum:"
      ],
      "metadata": {
        "id": "4weD7dfnYLwi"
      }
    },
    {
      "cell_type": "markdown",
      "source": [
        "\\begin{equation}\n",
        "   \\Delta \\mathbf{P} = \\frac{e \\mathbf{R}}{\\Omega},\n",
        "\\end{equation}"
      ],
      "metadata": {
        "id": "xAZA2D3OYj_i"
      }
    },
    {
      "cell_type": "markdown",
      "source": [
        "where $\\mathbf{R}$ is the lattice vector."
      ],
      "metadata": {
        "id": "ugciiURfZCUs"
      }
    },
    {
      "cell_type": "markdown",
      "source": [
        "To implement this, we `torch.repeat` the reference and predicted polarisation vectors into a $3\\times3$ matrices and compare their difference modulo the $3\\times3$ `Cell` object from the `ASE` `Atom` type , weighted by the volume:"
      ],
      "metadata": {
        "id": "CD4bzIRUZI5i"
      }
    },
    {
      "cell_type": "markdown",
      "source": [
        "```\n",
        "# Calculate the polarisation quantum\n",
        "cell = ref[\"cell\"].view(-1,3,3)\n",
        "polarisation_quantum = cell / torch.linalg.det(cell).abs()\n",
        "\n",
        "# modulo ignore zero components to leave pol unfolded and avoid divide by 0\n",
        "polarisation_quantum[polarisation_quantum == 0] = max(torch.cat((ref[\"polarisation\"], pred[\"polarisation\"]))) + 1.0\n",
        "\n",
        "# Expand polarisation to lattice (3x3 matrix) that is modulo the polarisation quantum. Any nan (due to divide by 0), set to zero.\n",
        "ref_polarisation = ref[\"polarisation\"].repeat(3,1).view(-1,3,3)\n",
        "pred_polarisation = pred[\"polarisation\"].repeat(3,1).view(-1,3,3)\n",
        "\n",
        "polarisation_loss = self.huber_loss((ref_polarisation - pred_polarisation).fmod(polarisation_quantum).nan_to_num(nan=0) / num_atoms, torch.zeros_like(ref_polarisation))\n",
        "        \n",
        "```"
      ],
      "metadata": {
        "id": "XvweyiicZ5Oj"
      }
    },
    {
      "cell_type": "markdown",
      "source": [
        "The [`Cell` object](https://wiki.fysik.dtu.dk/ase/ase/cell.html) is simply the three lattice vectors forming a parallelepiped.\n",
        "\n",
        "The weird manipulation of the polarisation quantum here is just to avoid dividing by zero in the modulo and to ignore any null directions where the lattice vector has zero entries. The difference modulo the `Cell` object is the compared to a $3\\times3$ null matrix."
      ],
      "metadata": {
        "id": "wWpPT25IanMD"
      }
    }
  ]
}