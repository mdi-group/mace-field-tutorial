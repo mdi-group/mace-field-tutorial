{
  "nbformat": 4,
  "nbformat_minor": 0,
  "metadata": {
    "colab": {
      "provenance": [],
      "gpuType": "T4",
      "authorship_tag": "ABX9TyMFyLQwgBD9IwGIRbbZ5JWw",
      "include_colab_link": true
    },
    "kernelspec": {
      "name": "python3",
      "display_name": "Python 3"
    },
    "language_info": {
      "name": "python"
    }
  },
  "cells": [
    {
      "cell_type": "markdown",
      "metadata": {
        "id": "view-in-github",
        "colab_type": "text"
      },
      "source": [
        "<a href=\"https://colab.research.google.com/github/mdi-group/mace-field-tutorial/blob/main/MACE_Field_Tutorial.ipynb\" target=\"_parent\"><img src=\"https://colab.research.google.com/assets/colab-badge.svg\" alt=\"Open In Colab\"/></a>"
      ]
    },
    {
      "cell_type": "markdown",
      "source": [
        "# MACE Field Tutorial\n",
        "\n",
        "\n"
      ],
      "metadata": {
        "id": "9kY30kCYsWOE"
      }
    },
    {
      "cell_type": "markdown",
      "source": [
        "In this tutorial, we dive into the alterations we have made to the MACE model to incorporate an external perturbing electric field into the MACE architecture, and how to use it to derive derivative properties such as the macroscopic polarisation, Born Effective Charges (BECS) and polarisability."
      ],
      "metadata": {
        "id": "QTndatuysl3C"
      }
    },
    {
      "cell_type": "markdown",
      "source": [
        "To learn how the base MACE code works, we highly recommend you look at the [MACE theory tutorial](https://colab.research.google.com/drive/1AlfjQETV_jZ0JQnV5M3FGwAM2SGCl2aU) developed by Will Baldwin and Ilyes Batatia."
      ],
      "metadata": {
        "id": "juQVIyxUs_d0"
      }
    },
    {
      "cell_type": "markdown",
      "source": [
        "## Installs, Includes & Imports"
      ],
      "metadata": {
        "id": "eeYau9878qdf"
      }
    },
    {
      "cell_type": "code",
      "source": [
        "!git clone https://github.com/mdi-group/mace-field-tutorial.git\n",
        "!git clone https://github.com/mdi-group/mace-field.git\n",
        "!pip install torch==2.0.0 torchvision torchaudio\n",
        "!pip install ./mace-field\n",
        "%cd mace-field\n",
        "!git switch field\n",
        "!pip uninstall -y numpy\n",
        "!pip install numpy==1.26.4"
      ],
      "metadata": {
        "id": "tzwwemRNslCz",
        "colab": {
          "base_uri": "https://localhost:8080/"
        },
        "outputId": "e1d52a00-321b-48ef-c737-cdf155ec1a01"
      },
      "execution_count": null,
      "outputs": [
        {
          "output_type": "stream",
          "name": "stdout",
          "text": [
            "Cloning into 'mace-field-tutorial'...\n",
            "remote: Enumerating objects: 29, done.\u001b[K\n",
            "remote: Counting objects: 100% (29/29), done.\u001b[K\n",
            "remote: Compressing objects: 100% (25/25), done.\u001b[K\n",
            "remote: Total 29 (delta 7), reused 8 (delta 1), pack-reused 0 (from 0)\u001b[K\n",
            "Receiving objects: 100% (29/29), 2.25 MiB | 4.11 MiB/s, done.\n",
            "Resolving deltas: 100% (7/7), done.\n",
            "Cloning into 'mace-field'...\n",
            "remote: Enumerating objects: 6183, done.\u001b[K\n",
            "remote: Counting objects: 100% (59/59), done.\u001b[K\n",
            "remote: Compressing objects: 100% (31/31), done.\u001b[K\n",
            "remote: Total 6183 (delta 39), reused 29 (delta 28), pack-reused 6124 (from 3)\u001b[K\n",
            "Receiving objects: 100% (6183/6183), 123.65 MiB | 8.85 MiB/s, done.\n"
          ]
        }
      ]
    },
    {
      "cell_type": "code",
      "source": [
        "import numpy as np\n",
        "import torch\n",
        "import torch.nn.functional\n",
        "from e3nn import o3\n",
        "from matplotlib import pyplot as plt\n",
        "import ase.io\n",
        "\n",
        "from mace import data, modules, tools\n",
        "from mace.tools import torch_geometric\n",
        "torch.set_default_dtype(torch.float64)\n",
        "\n",
        "import warnings\n",
        "warnings.filterwarnings(\"ignore\")"
      ],
      "metadata": {
        "id": "05ZUYWXHxK1d"
      },
      "execution_count": null,
      "outputs": []
    },
    {
      "cell_type": "code",
      "source": [
        "from typing import Any, Dict, Optional\n",
        "from mace.tools.scatter import scatter_sum\n",
        "from mace.modules.blocks import (\n",
        "    LinearReadoutBlock,\n",
        "    ScaleShiftBlock,\n",
        ")\n",
        "from mace.modules.utils import (\n",
        "    get_edge_vectors_and_lengths,\n",
        "    get_symmetric_displacement,\n",
        ")\n",
        "from mace.modules.models import (\n",
        "    MACE,\n",
        "    ScaleShiftFieldMACE,\n",
        ")"
      ],
      "metadata": {
        "id": "WCm8DnDny9ju"
      },
      "execution_count": null,
      "outputs": []
    },
    {
      "cell_type": "markdown",
      "source": [
        "## Write Config for the Model"
      ],
      "metadata": {
        "id": "mFPPYvCN9a6e"
      }
    },
    {
      "cell_type": "code",
      "source": [
        "%%writefile train_polarisation.yml\n",
        "\n",
        "name: \"ferroelectrics\"\n",
        "train_file: \"data/ferroelectric/ferroelectric_train_2040.xyz\"\n",
        "test_file: \"data/ferroelectric/ferroelectric_test.xyz\"\n",
        "valid_file: \"data/ferroelectric/ferroelectric_valid.xyz\"\n",
        "E0s: \"average\"\n",
        "loss: \"universal_field\"\n",
        "energy_weight: 0.0\n",
        "forces_weight: 0.0\n",
        "stress_weight: 0.0\n",
        "bec_weight: 1e2\n",
        "polarisability_weight: 0.0\n",
        "polarisation_weight: 0.0\n",
        "compute_field: True\n",
        "eval_interval: 1\n",
        "error_table: \"PerAtomRMSEstressvirialsfield\"\n",
        "model: \"ScaleShiftFieldMACE\"\n",
        "interaction_first: \"RealAgnosticResidualInteractionBlock\"\n",
        "interaction: \"RealAgnosticResidualInteractionBlock\"\n",
        "num_interactions: 2\n",
        "correlation: 3\n",
        "r_max: 6.0\n",
        "max_L: 1\n",
        "max_ell: 3\n",
        "num_channels: 128\n",
        "num_radial_basis: 10\n",
        "MLP_irreps: \"16x0e\"\n",
        "num_workers: 1\n",
        "lr: 0.05\n",
        "weight_decay: 1e-8\n",
        "batch_size: 1\n",
        "valid_batch_size: 1\n",
        "max_num_epochs: 200\n",
        "distributed: True\n",
        "device: cuda\n",
        "seed: 1"
      ],
      "metadata": {
        "id": "O1tltlQf1Ezc"
      },
      "execution_count": null,
      "outputs": []
    },
    {
      "cell_type": "markdown",
      "source": [
        "## Understanding the MACE Field Architecture"
      ],
      "metadata": {
        "id": "BV3a4zmI-kMQ"
      }
    },
    {
      "cell_type": "markdown",
      "source": [
        "Our approach inherits most of the original MACE architecture. The primary alteration is in the readout blocks where we include an additional energy term, $-\\Omega\\ \\mathbf{P} \\cdot \\mathcal{E}$, where $\\Omega$ is the unit-cell volume, $\\mathbf{P}$ is the macroscopic polarisation, and $\\mathcal{E}$ is an external electric field. This is all in analogy to the electric enthalpy functional from Density Functional Perturbation Theory (DFPT). Please see the [VASP wiki](https://www.vasp.at/wiki/index.php/Berry_phases_and_finite_electric_fields) for a good introduction to Berry Phases and finite electric fields in DFPT."
      ],
      "metadata": {
        "id": "dt2F_YnjCiMv"
      }
    },
    {
      "cell_type": "markdown",
      "source": [
        "The molecular dipole moment is the sum of the ionic contributions, with bare ionic charge $-e Z_\\alpha$ and position $\\mathbf{R}_\\alpha$, and an electronic contribution from the first moment of the electronic charge density $\\rho(\\mathbf{r})$:\n"
      ],
      "metadata": {
        "id": "SDSY9L-JHJAX"
      }
    },
    {
      "cell_type": "markdown",
      "source": [
        "\\begin{equation}\n",
        "\\begin{aligned}\n",
        "    \\mathbf{p} &= \\mathbf{p}_{\\text{ion}} + \\mathbf{p}_{\\text{el}}\\\\\n",
        "    \\mathbf{p} &= -e \\sum_{\\alpha} Z_\\alpha \\mathbf{R}_\\alpha + \\int d\\mathbf{r}\\ \\mathbf{r}\\ \\rho(\\mathbf{r})\n",
        "\\end{aligned}\n",
        "\\end{equation}\n"
      ],
      "metadata": {
        "id": "VDTOg973HOSX"
      }
    },
    {
      "cell_type": "markdown",
      "source": [
        "where the polarisation density is then just this dipole moment divided by the total volume, $\\mathbf{P} = \\mathbf{p} / V$.\n"
      ],
      "metadata": {
        "id": "PHKyj5fMIvXS"
      }
    },
    {
      "cell_type": "markdown",
      "source": [
        "We see that the molecular dipole $\\mathbf{p}_{\\text{ion}, \\alpha}$ has a contribution per ion. Just as we decompose the total energy of the system into contributions per ion or per \"node\", suppose we decompose the electronic dipole into contributions per node, $\\mathbf{p}_{\\text{el}, \\alpha}$."
      ],
      "metadata": {
        "id": "qMSKxuprM7ZB"
      }
    },
    {
      "cell_type": "markdown",
      "source": [
        "Due to the Modern Theory of Polarisation, quantum polarisation is multivalued / \"ill-defined\" for infinite periodic systems. The electronic dipole cannot in principle be decomposed this way, but just as is the case for the total energy, we will do it anyway."
      ],
      "metadata": {
        "id": "tOwESbdeOx_h"
      }
    },
    {
      "cell_type": "markdown",
      "source": [
        "Each layer $1 \\leq t \\leq T$ of MACE contributes to the final energy readout $E_\\alpha$ for node $\\alpha$:"
      ],
      "metadata": {
        "id": "BDjK_LrHDGNW"
      }
    },
    {
      "cell_type": "markdown",
      "source": [
        "\\begin{equation}\n",
        "    E_\\alpha = E_\\alpha^{(0)} + E_\\alpha^{(1)} + \\dots + E_\\alpha^{(T)}\n",
        "\\end{equation}"
      ],
      "metadata": {
        "id": "SdaWXOY0xqsD"
      }
    },
    {
      "cell_type": "markdown",
      "source": [
        "In a $T$-layer MACE, the readout is altered to include an additional perturbing term of a $K$-dimensional \"total atomic dipole\" feature $\\mathbf{p}_{\\alpha, k}$ for each node $\\alpha$, dot-producted with the external electric field $\\mathcal{E}$:"
      ],
      "metadata": {
        "id": "0qa6znVcEF8H"
      }
    },
    {
      "cell_type": "markdown",
      "source": [
        "\\begin{equation}\n",
        "  E_\\alpha(t) = \\mathcal{R}_t\\left(\\mathbf{h}_i^{(t)}\\right) =\n",
        "    \\begin{cases}\n",
        "    \\begin{aligned}\n",
        "        &\\sum_{\\tilde{k}} W_{\\text{readout}, \\tilde{k}}^{(t)} \\left[ h_{\\alpha,\\tilde{k} 0 0}^{e, (t)} - \\mathbf{p}_{\\alpha, \\tilde{k}}^{(t)} \\cdot \\mathbf{\\mathcal{E}} \\right] \\qquad\\ \\text{if}\\ t<T, \\\\\n",
        "        &\\text{MLP}_{\\text{readout}}^{(t)}\\left( \\left\\{ h_{\\alpha,k 0 0}^{e, (t)} - \\mathbf{p}_{\\alpha, k}^{(t)} \\cdot \\mathbf{\\mathcal{E}} \\right\\}_{k} \\right) \\quad \\text{if}\\ t = T.\n",
        "    \\end{aligned}\n",
        "    \\end{cases}\n",
        "\\end{equation}"
      ],
      "metadata": {
        "id": "TxemPmYXx4SM"
      }
    },
    {
      "cell_type": "markdown",
      "source": [
        "Where in the final layer the electric field enters the nonlinear MLP."
      ],
      "metadata": {
        "id": "SXn57KSLFqC4"
      }
    },
    {
      "cell_type": "markdown",
      "source": [
        "After the higher body-order `node_feats` are produced from the standard `product` blocks in the MACE model, we linearly map them to two scalar features and one vector feature which we may relate to the local node energy \"$e$\", charge \"$q$\" and electronic dipole moment:"
      ],
      "metadata": {
        "id": "Flfz8BrCFzUW"
      }
    },
    {
      "cell_type": "markdown",
      "source": [
        "\\begin{equation}\n",
        "    \\left[ h_{\\alpha, k 0 0}^{e, (t)},\\ h_{\\alpha, k 0 0}^{q, (t)},\\ h_{\\alpha, k 1 m}^{(t)} \\right] = \\sum_{l \\tilde{m}} W^{l \\tilde{m}}_{0 0, 1 m} h^{(t)}_{\\alpha,kl\\tilde{m}}.\n",
        "\\end{equation}"
      ],
      "metadata": {
        "id": "k_HXp55-6ev1"
      }
    },
    {
      "cell_type": "markdown",
      "source": [
        "Note that these are not complete readouts yet as we have not yet mixed the k channels."
      ],
      "metadata": {
        "id": "gK170zm2GjpW"
      }
    },
    {
      "cell_type": "markdown",
      "source": [
        "To extract these features, we need to initialise in `__init__()` a new readout:\n",
        "\n",
        "```\n",
        "field_irreps = o3.Irreps(\"0e\") + o3.Irreps.spherical_harmonics(1)\n",
        "field_irreps_out = o3.Irreps(f\"{num_channels * field_irreps}\").sort()[0].simplify()\n",
        "\n",
        "self.field_readout = LinearReadoutBlock(hidden_irreps, field_irreps_out)\n",
        "```\n",
        "\n",
        "which gives us two $l=0$ scalars and a $l=1$ vector *without* mixing the channels."
      ],
      "metadata": {
        "id": "qpVs31AXP8y5"
      }
    },
    {
      "cell_type": "markdown",
      "source": [
        "We then define a total dipole moment feature as:"
      ],
      "metadata": {
        "id": "agt8sQIEGoq2"
      }
    },
    {
      "cell_type": "markdown",
      "source": [
        "\\begin{equation}\n",
        "    \\mathbf{p}^{(t)}_{\\alpha,k} = h^{q,(t)}_{\\alpha,k 0 0} \\mathbf{R}_{\\alpha} - \\mathbf{h}^{(t)}_{\\alpha,k 1},\n",
        "\\end{equation}"
      ],
      "metadata": {
        "id": "n34HRFjs6mal"
      }
    },
    {
      "cell_type": "markdown",
      "source": [
        "where the first term represents the ionic dipole contribution. This \"total dipole\" acts as an atomic decomposition of the total macroscopic polarisation and, dot product with the external electric field, contributes to the total energy."
      ],
      "metadata": {
        "id": "ay2cOBe9GtCe"
      }
    },
    {
      "cell_type": "markdown",
      "source": [
        "Since we need the node features, `node_feats`, to always have a $l=1$ piece, we need to alter the final `interaction` and `product` blocks of MACE which originally only preserve the $l=0$ piece in the last layer $T$.\n",
        "\n",
        "Therefore, in `__init__()` in our new model `ScaleShiftFieldMACE` we also include:\n",
        "```\n",
        "self.interactions[-1].skip_tp = o3.FullyConnectedTensorProduct(\n",
        "    hidden_irreps,\n",
        "    self.interactions[-1].node_attrs_irreps,\n",
        "    hidden_irreps,\n",
        "    self.interactions[-1].cueq_config,\n",
        ")\n",
        "```\n",
        "and\n",
        "```\n",
        "self.products[-1] = self.products[-2]\n",
        "```"
      ],
      "metadata": {
        "id": "Qcq7LUFlQCxp"
      }
    },
    {
      "cell_type": "markdown",
      "source": [
        "Finally, as our new `field_readout` is an intermediate step between the `product` block and the energy `readout`, we need to alter the `irreps_in` of the energy `readout` blocks:\n",
        "```\n",
        "for i in range(len(self.readouts)-1):\n",
        "    self.readouts[i].linear = o3.Linear(f\"{num_channels}x0e\", f\"{len(self.heads)}x0e\")\n",
        "\n",
        "self.readouts[-1].linear_1 = o3.Linear(f\"{num_channels}x0e\", f\"{len(self.heads) * kwargs['MLP_irreps']}\")   \n",
        "```"
      ],
      "metadata": {
        "id": "WiA6QAlgQWQ5"
      }
    }
  ]
}